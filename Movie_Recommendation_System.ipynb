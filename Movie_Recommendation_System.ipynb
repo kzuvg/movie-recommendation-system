{
  "nbformat": 4,
  "nbformat_minor": 0,
  "metadata": {
    "colab": {
      "provenance": []
    },
    "kernelspec": {
      "name": "python3",
      "display_name": "Python 3"
    },
    "language_info": {
      "name": "python"
    }
  },
  "cells": [
    {
      "cell_type": "markdown",
      "source": [
        "# **Movie Recomendation system**"
      ],
      "metadata": {
        "id": "dqZ-nhxiganh"
      }
    },
    {
      "cell_type": "markdown",
      "source": [
        "-------------"
      ],
      "metadata": {
        "id": "gScHkw6jjrLo"
      }
    },
    {
      "cell_type": "markdown",
      "source": [
        "## **Import Library**"
      ],
      "metadata": {
        "id": "r7GrZzX0iTlV"
      }
    },
    {
      "cell_type": "code",
      "source": [
        "import pandas as pd"
      ],
      "metadata": {
        "id": "UkK6NH9DiW-X"
      },
      "execution_count": 1,
      "outputs": []
    },
    {
      "cell_type": "code",
      "source": [
        "import numpy as np"
      ],
      "metadata": {
        "id": "qGfH9VJufD5C"
      },
      "execution_count": 2,
      "outputs": []
    },
    {
      "cell_type": "markdown",
      "source": [
        "## **Import Data**"
      ],
      "metadata": {
        "id": "9lHPQj1XiOUc"
      }
    },
    {
      "cell_type": "code",
      "source": [
        "df=pd.read_csv('https://raw.githubusercontent.com/YBIFoundation/Dataset/main/Movies%20Recommendation.csv')"
      ],
      "metadata": {
        "id": "zcU1fdnGho6M"
      },
      "execution_count": 5,
      "outputs": []
    },
    {
      "cell_type": "markdown",
      "source": [
        "## **Describe Data**"
      ],
      "metadata": {
        "id": "7PUnimBoiX-x"
      }
    },
    {
      "cell_type": "code",
      "source": [
        "df.head()"
      ],
      "metadata": {
        "id": "kG15arusiZ8Z",
        "colab": {
          "base_uri": "https://localhost:8080/",
          "height": 716
        },
        "outputId": "9cdbc031-ad90-4dad-df39-b2a88df44068"
      },
      "execution_count": 6,
      "outputs": [
        {
          "output_type": "execute_result",
          "data": {
            "text/plain": [
              "   Movie_ID      Movie_Title                       Movie_Genre Movie_Language  \\\n",
              "0         1       Four Rooms                      Crime Comedy             en   \n",
              "1         2        Star Wars  Adventure Action Science Fiction             en   \n",
              "2         3     Finding Nemo                  Animation Family             en   \n",
              "3         4     Forrest Gump              Comedy Drama Romance             en   \n",
              "4         5  American Beauty                             Drama             en   \n",
              "\n",
              "   Movie_Budget  Movie_Popularity Movie_Release_Date  Movie_Revenue  \\\n",
              "0       4000000         22.876230         09-12-1995        4300000   \n",
              "1      11000000        126.393695         25-05-1977      775398007   \n",
              "2      94000000         85.688789         30-05-2003      940335536   \n",
              "3      55000000        138.133331         06-07-1994      677945399   \n",
              "4      15000000         80.878605         15-09-1999      356296601   \n",
              "\n",
              "   Movie_Runtime  Movie_Vote  ...  \\\n",
              "0           98.0         6.5  ...   \n",
              "1          121.0         8.1  ...   \n",
              "2          100.0         7.6  ...   \n",
              "3          142.0         8.2  ...   \n",
              "4          122.0         7.9  ...   \n",
              "\n",
              "                                      Movie_Homepage  \\\n",
              "0                                                NaN   \n",
              "1  http://www.starwars.com/films/star-wars-episod...   \n",
              "2              http://movies.disney.com/finding-nemo   \n",
              "3                                                NaN   \n",
              "4                      http://www.dreamworks.com/ab/   \n",
              "\n",
              "                                      Movie_Keywords  \\\n",
              "0          hotel new year's eve witch bet hotel room   \n",
              "1        android galaxy hermit death star lightsaber   \n",
              "2  father son relationship harbor underwater fish...   \n",
              "3  vietnam veteran hippie mentally disabled runni...   \n",
              "4  male nudity female nudity adultery midlife cri...   \n",
              "\n",
              "                                      Movie_Overview  \\\n",
              "0  It's Ted the Bellhop's first night on the job....   \n",
              "1  Princess Leia is captured and held hostage by ...   \n",
              "2  Nemo, an adventurous young clownfish, is unexp...   \n",
              "3  A man with a low IQ has accomplished great thi...   \n",
              "4  Lester Burnham, a depressed suburban father in...   \n",
              "\n",
              "                              Movie_Production_House  \\\n",
              "0  [{\"name\": \"Miramax Films\", \"id\": 14}, {\"name\":...   \n",
              "1  [{\"name\": \"Lucasfilm\", \"id\": 1}, {\"name\": \"Twe...   \n",
              "2     [{\"name\": \"Pixar Animation Studios\", \"id\": 3}]   \n",
              "3          [{\"name\": \"Paramount Pictures\", \"id\": 4}]   \n",
              "4  [{\"name\": \"DreamWorks SKG\", \"id\": 27}, {\"name\"...   \n",
              "\n",
              "                            Movie_Production_Country  \\\n",
              "0  [{\"iso_3166_1\": \"US\", \"name\": \"United States o...   \n",
              "1  [{\"iso_3166_1\": \"US\", \"name\": \"United States o...   \n",
              "2  [{\"iso_3166_1\": \"US\", \"name\": \"United States o...   \n",
              "3  [{\"iso_3166_1\": \"US\", \"name\": \"United States o...   \n",
              "4  [{\"iso_3166_1\": \"US\", \"name\": \"United States o...   \n",
              "\n",
              "                      Movie_Spoken_Language  \\\n",
              "0  [{\"iso_639_1\": \"en\", \"name\": \"English\"}]   \n",
              "1  [{\"iso_639_1\": \"en\", \"name\": \"English\"}]   \n",
              "2  [{\"iso_639_1\": \"en\", \"name\": \"English\"}]   \n",
              "3  [{\"iso_639_1\": \"en\", \"name\": \"English\"}]   \n",
              "4  [{\"iso_639_1\": \"en\", \"name\": \"English\"}]   \n",
              "\n",
              "                                       Movie_Tagline  \\\n",
              "0  Twelve outrageous guests. Four scandalous requ...   \n",
              "1       A long time ago in a galaxy far, far away...   \n",
              "2  There are 3.7 trillion fish in the ocean, they...   \n",
              "3  The world will never be the same, once you've ...   \n",
              "4                                       Look closer.   \n",
              "\n",
              "                                          Movie_Cast  \\\n",
              "0  Tim Roth Antonio Banderas Jennifer Beals Madon...   \n",
              "1  Mark Hamill Harrison Ford Carrie Fisher Peter ...   \n",
              "2  Albert Brooks Ellen DeGeneres Alexander Gould ...   \n",
              "3  Tom Hanks Robin Wright Gary Sinise Mykelti Wil...   \n",
              "4  Kevin Spacey Annette Bening Thora Birch Wes Be...   \n",
              "\n",
              "                                          Movie_Crew   Movie_Director  \n",
              "0  [{'name': 'Allison Anders', 'gender': 1, 'depa...   Allison Anders  \n",
              "1  [{'name': 'George Lucas', 'gender': 2, 'depart...     George Lucas  \n",
              "2  [{'name': 'Andrew Stanton', 'gender': 2, 'depa...   Andrew Stanton  \n",
              "3  [{'name': 'Alan Silvestri', 'gender': 2, 'depa...  Robert Zemeckis  \n",
              "4  [{'name': 'Thomas Newman', 'gender': 2, 'depar...       Sam Mendes  \n",
              "\n",
              "[5 rows x 21 columns]"
            ],
            "text/html": [
              "\n",
              "\n",
              "  <div id=\"df-537fecfa-296c-4680-944d-ef132a8a4f46\">\n",
              "    <div class=\"colab-df-container\">\n",
              "      <div>\n",
              "<style scoped>\n",
              "    .dataframe tbody tr th:only-of-type {\n",
              "        vertical-align: middle;\n",
              "    }\n",
              "\n",
              "    .dataframe tbody tr th {\n",
              "        vertical-align: top;\n",
              "    }\n",
              "\n",
              "    .dataframe thead th {\n",
              "        text-align: right;\n",
              "    }\n",
              "</style>\n",
              "<table border=\"1\" class=\"dataframe\">\n",
              "  <thead>\n",
              "    <tr style=\"text-align: right;\">\n",
              "      <th></th>\n",
              "      <th>Movie_ID</th>\n",
              "      <th>Movie_Title</th>\n",
              "      <th>Movie_Genre</th>\n",
              "      <th>Movie_Language</th>\n",
              "      <th>Movie_Budget</th>\n",
              "      <th>Movie_Popularity</th>\n",
              "      <th>Movie_Release_Date</th>\n",
              "      <th>Movie_Revenue</th>\n",
              "      <th>Movie_Runtime</th>\n",
              "      <th>Movie_Vote</th>\n",
              "      <th>...</th>\n",
              "      <th>Movie_Homepage</th>\n",
              "      <th>Movie_Keywords</th>\n",
              "      <th>Movie_Overview</th>\n",
              "      <th>Movie_Production_House</th>\n",
              "      <th>Movie_Production_Country</th>\n",
              "      <th>Movie_Spoken_Language</th>\n",
              "      <th>Movie_Tagline</th>\n",
              "      <th>Movie_Cast</th>\n",
              "      <th>Movie_Crew</th>\n",
              "      <th>Movie_Director</th>\n",
              "    </tr>\n",
              "  </thead>\n",
              "  <tbody>\n",
              "    <tr>\n",
              "      <th>0</th>\n",
              "      <td>1</td>\n",
              "      <td>Four Rooms</td>\n",
              "      <td>Crime Comedy</td>\n",
              "      <td>en</td>\n",
              "      <td>4000000</td>\n",
              "      <td>22.876230</td>\n",
              "      <td>09-12-1995</td>\n",
              "      <td>4300000</td>\n",
              "      <td>98.0</td>\n",
              "      <td>6.5</td>\n",
              "      <td>...</td>\n",
              "      <td>NaN</td>\n",
              "      <td>hotel new year's eve witch bet hotel room</td>\n",
              "      <td>It's Ted the Bellhop's first night on the job....</td>\n",
              "      <td>[{\"name\": \"Miramax Films\", \"id\": 14}, {\"name\":...</td>\n",
              "      <td>[{\"iso_3166_1\": \"US\", \"name\": \"United States o...</td>\n",
              "      <td>[{\"iso_639_1\": \"en\", \"name\": \"English\"}]</td>\n",
              "      <td>Twelve outrageous guests. Four scandalous requ...</td>\n",
              "      <td>Tim Roth Antonio Banderas Jennifer Beals Madon...</td>\n",
              "      <td>[{'name': 'Allison Anders', 'gender': 1, 'depa...</td>\n",
              "      <td>Allison Anders</td>\n",
              "    </tr>\n",
              "    <tr>\n",
              "      <th>1</th>\n",
              "      <td>2</td>\n",
              "      <td>Star Wars</td>\n",
              "      <td>Adventure Action Science Fiction</td>\n",
              "      <td>en</td>\n",
              "      <td>11000000</td>\n",
              "      <td>126.393695</td>\n",
              "      <td>25-05-1977</td>\n",
              "      <td>775398007</td>\n",
              "      <td>121.0</td>\n",
              "      <td>8.1</td>\n",
              "      <td>...</td>\n",
              "      <td>http://www.starwars.com/films/star-wars-episod...</td>\n",
              "      <td>android galaxy hermit death star lightsaber</td>\n",
              "      <td>Princess Leia is captured and held hostage by ...</td>\n",
              "      <td>[{\"name\": \"Lucasfilm\", \"id\": 1}, {\"name\": \"Twe...</td>\n",
              "      <td>[{\"iso_3166_1\": \"US\", \"name\": \"United States o...</td>\n",
              "      <td>[{\"iso_639_1\": \"en\", \"name\": \"English\"}]</td>\n",
              "      <td>A long time ago in a galaxy far, far away...</td>\n",
              "      <td>Mark Hamill Harrison Ford Carrie Fisher Peter ...</td>\n",
              "      <td>[{'name': 'George Lucas', 'gender': 2, 'depart...</td>\n",
              "      <td>George Lucas</td>\n",
              "    </tr>\n",
              "    <tr>\n",
              "      <th>2</th>\n",
              "      <td>3</td>\n",
              "      <td>Finding Nemo</td>\n",
              "      <td>Animation Family</td>\n",
              "      <td>en</td>\n",
              "      <td>94000000</td>\n",
              "      <td>85.688789</td>\n",
              "      <td>30-05-2003</td>\n",
              "      <td>940335536</td>\n",
              "      <td>100.0</td>\n",
              "      <td>7.6</td>\n",
              "      <td>...</td>\n",
              "      <td>http://movies.disney.com/finding-nemo</td>\n",
              "      <td>father son relationship harbor underwater fish...</td>\n",
              "      <td>Nemo, an adventurous young clownfish, is unexp...</td>\n",
              "      <td>[{\"name\": \"Pixar Animation Studios\", \"id\": 3}]</td>\n",
              "      <td>[{\"iso_3166_1\": \"US\", \"name\": \"United States o...</td>\n",
              "      <td>[{\"iso_639_1\": \"en\", \"name\": \"English\"}]</td>\n",
              "      <td>There are 3.7 trillion fish in the ocean, they...</td>\n",
              "      <td>Albert Brooks Ellen DeGeneres Alexander Gould ...</td>\n",
              "      <td>[{'name': 'Andrew Stanton', 'gender': 2, 'depa...</td>\n",
              "      <td>Andrew Stanton</td>\n",
              "    </tr>\n",
              "    <tr>\n",
              "      <th>3</th>\n",
              "      <td>4</td>\n",
              "      <td>Forrest Gump</td>\n",
              "      <td>Comedy Drama Romance</td>\n",
              "      <td>en</td>\n",
              "      <td>55000000</td>\n",
              "      <td>138.133331</td>\n",
              "      <td>06-07-1994</td>\n",
              "      <td>677945399</td>\n",
              "      <td>142.0</td>\n",
              "      <td>8.2</td>\n",
              "      <td>...</td>\n",
              "      <td>NaN</td>\n",
              "      <td>vietnam veteran hippie mentally disabled runni...</td>\n",
              "      <td>A man with a low IQ has accomplished great thi...</td>\n",
              "      <td>[{\"name\": \"Paramount Pictures\", \"id\": 4}]</td>\n",
              "      <td>[{\"iso_3166_1\": \"US\", \"name\": \"United States o...</td>\n",
              "      <td>[{\"iso_639_1\": \"en\", \"name\": \"English\"}]</td>\n",
              "      <td>The world will never be the same, once you've ...</td>\n",
              "      <td>Tom Hanks Robin Wright Gary Sinise Mykelti Wil...</td>\n",
              "      <td>[{'name': 'Alan Silvestri', 'gender': 2, 'depa...</td>\n",
              "      <td>Robert Zemeckis</td>\n",
              "    </tr>\n",
              "    <tr>\n",
              "      <th>4</th>\n",
              "      <td>5</td>\n",
              "      <td>American Beauty</td>\n",
              "      <td>Drama</td>\n",
              "      <td>en</td>\n",
              "      <td>15000000</td>\n",
              "      <td>80.878605</td>\n",
              "      <td>15-09-1999</td>\n",
              "      <td>356296601</td>\n",
              "      <td>122.0</td>\n",
              "      <td>7.9</td>\n",
              "      <td>...</td>\n",
              "      <td>http://www.dreamworks.com/ab/</td>\n",
              "      <td>male nudity female nudity adultery midlife cri...</td>\n",
              "      <td>Lester Burnham, a depressed suburban father in...</td>\n",
              "      <td>[{\"name\": \"DreamWorks SKG\", \"id\": 27}, {\"name\"...</td>\n",
              "      <td>[{\"iso_3166_1\": \"US\", \"name\": \"United States o...</td>\n",
              "      <td>[{\"iso_639_1\": \"en\", \"name\": \"English\"}]</td>\n",
              "      <td>Look closer.</td>\n",
              "      <td>Kevin Spacey Annette Bening Thora Birch Wes Be...</td>\n",
              "      <td>[{'name': 'Thomas Newman', 'gender': 2, 'depar...</td>\n",
              "      <td>Sam Mendes</td>\n",
              "    </tr>\n",
              "  </tbody>\n",
              "</table>\n",
              "<p>5 rows × 21 columns</p>\n",
              "</div>\n",
              "      <button class=\"colab-df-convert\" onclick=\"convertToInteractive('df-537fecfa-296c-4680-944d-ef132a8a4f46')\"\n",
              "              title=\"Convert this dataframe to an interactive table.\"\n",
              "              style=\"display:none;\">\n",
              "\n",
              "  <svg xmlns=\"http://www.w3.org/2000/svg\" height=\"24px\"viewBox=\"0 0 24 24\"\n",
              "       width=\"24px\">\n",
              "    <path d=\"M0 0h24v24H0V0z\" fill=\"none\"/>\n",
              "    <path d=\"M18.56 5.44l.94 2.06.94-2.06 2.06-.94-2.06-.94-.94-2.06-.94 2.06-2.06.94zm-11 1L8.5 8.5l.94-2.06 2.06-.94-2.06-.94L8.5 2.5l-.94 2.06-2.06.94zm10 10l.94 2.06.94-2.06 2.06-.94-2.06-.94-.94-2.06-.94 2.06-2.06.94z\"/><path d=\"M17.41 7.96l-1.37-1.37c-.4-.4-.92-.59-1.43-.59-.52 0-1.04.2-1.43.59L10.3 9.45l-7.72 7.72c-.78.78-.78 2.05 0 2.83L4 21.41c.39.39.9.59 1.41.59.51 0 1.02-.2 1.41-.59l7.78-7.78 2.81-2.81c.8-.78.8-2.07 0-2.86zM5.41 20L4 18.59l7.72-7.72 1.47 1.35L5.41 20z\"/>\n",
              "  </svg>\n",
              "      </button>\n",
              "\n",
              "\n",
              "\n",
              "    <div id=\"df-137e3c02-9dff-4025-b4a0-306a6e1ac79b\">\n",
              "      <button class=\"colab-df-quickchart\" onclick=\"quickchart('df-137e3c02-9dff-4025-b4a0-306a6e1ac79b')\"\n",
              "              title=\"Suggest charts.\"\n",
              "              style=\"display:none;\">\n",
              "\n",
              "<svg xmlns=\"http://www.w3.org/2000/svg\" height=\"24px\"viewBox=\"0 0 24 24\"\n",
              "     width=\"24px\">\n",
              "    <g>\n",
              "        <path d=\"M19 3H5c-1.1 0-2 .9-2 2v14c0 1.1.9 2 2 2h14c1.1 0 2-.9 2-2V5c0-1.1-.9-2-2-2zM9 17H7v-7h2v7zm4 0h-2V7h2v10zm4 0h-2v-4h2v4z\"/>\n",
              "    </g>\n",
              "</svg>\n",
              "      </button>\n",
              "    </div>\n",
              "\n",
              "<style>\n",
              "  .colab-df-quickchart {\n",
              "    background-color: #E8F0FE;\n",
              "    border: none;\n",
              "    border-radius: 50%;\n",
              "    cursor: pointer;\n",
              "    display: none;\n",
              "    fill: #1967D2;\n",
              "    height: 32px;\n",
              "    padding: 0 0 0 0;\n",
              "    width: 32px;\n",
              "  }\n",
              "\n",
              "  .colab-df-quickchart:hover {\n",
              "    background-color: #E2EBFA;\n",
              "    box-shadow: 0px 1px 2px rgba(60, 64, 67, 0.3), 0px 1px 3px 1px rgba(60, 64, 67, 0.15);\n",
              "    fill: #174EA6;\n",
              "  }\n",
              "\n",
              "  [theme=dark] .colab-df-quickchart {\n",
              "    background-color: #3B4455;\n",
              "    fill: #D2E3FC;\n",
              "  }\n",
              "\n",
              "  [theme=dark] .colab-df-quickchart:hover {\n",
              "    background-color: #434B5C;\n",
              "    box-shadow: 0px 1px 3px 1px rgba(0, 0, 0, 0.15);\n",
              "    filter: drop-shadow(0px 1px 2px rgba(0, 0, 0, 0.3));\n",
              "    fill: #FFFFFF;\n",
              "  }\n",
              "</style>\n",
              "\n",
              "    <script>\n",
              "      async function quickchart(key) {\n",
              "        const containerElement = document.querySelector('#' + key);\n",
              "        const charts = await google.colab.kernel.invokeFunction(\n",
              "            'suggestCharts', [key], {});\n",
              "      }\n",
              "    </script>\n",
              "\n",
              "      <script>\n",
              "\n",
              "function displayQuickchartButton(domScope) {\n",
              "  let quickchartButtonEl =\n",
              "    domScope.querySelector('#df-137e3c02-9dff-4025-b4a0-306a6e1ac79b button.colab-df-quickchart');\n",
              "  quickchartButtonEl.style.display =\n",
              "    google.colab.kernel.accessAllowed ? 'block' : 'none';\n",
              "}\n",
              "\n",
              "        displayQuickchartButton(document);\n",
              "      </script>\n",
              "      <style>\n",
              "    .colab-df-container {\n",
              "      display:flex;\n",
              "      flex-wrap:wrap;\n",
              "      gap: 12px;\n",
              "    }\n",
              "\n",
              "    .colab-df-convert {\n",
              "      background-color: #E8F0FE;\n",
              "      border: none;\n",
              "      border-radius: 50%;\n",
              "      cursor: pointer;\n",
              "      display: none;\n",
              "      fill: #1967D2;\n",
              "      height: 32px;\n",
              "      padding: 0 0 0 0;\n",
              "      width: 32px;\n",
              "    }\n",
              "\n",
              "    .colab-df-convert:hover {\n",
              "      background-color: #E2EBFA;\n",
              "      box-shadow: 0px 1px 2px rgba(60, 64, 67, 0.3), 0px 1px 3px 1px rgba(60, 64, 67, 0.15);\n",
              "      fill: #174EA6;\n",
              "    }\n",
              "\n",
              "    [theme=dark] .colab-df-convert {\n",
              "      background-color: #3B4455;\n",
              "      fill: #D2E3FC;\n",
              "    }\n",
              "\n",
              "    [theme=dark] .colab-df-convert:hover {\n",
              "      background-color: #434B5C;\n",
              "      box-shadow: 0px 1px 3px 1px rgba(0, 0, 0, 0.15);\n",
              "      filter: drop-shadow(0px 1px 2px rgba(0, 0, 0, 0.3));\n",
              "      fill: #FFFFFF;\n",
              "    }\n",
              "  </style>\n",
              "\n",
              "      <script>\n",
              "        const buttonEl =\n",
              "          document.querySelector('#df-537fecfa-296c-4680-944d-ef132a8a4f46 button.colab-df-convert');\n",
              "        buttonEl.style.display =\n",
              "          google.colab.kernel.accessAllowed ? 'block' : 'none';\n",
              "\n",
              "        async function convertToInteractive(key) {\n",
              "          const element = document.querySelector('#df-537fecfa-296c-4680-944d-ef132a8a4f46');\n",
              "          const dataTable =\n",
              "            await google.colab.kernel.invokeFunction('convertToInteractive',\n",
              "                                                     [key], {});\n",
              "          if (!dataTable) return;\n",
              "\n",
              "          const docLinkHtml = 'Like what you see? Visit the ' +\n",
              "            '<a target=\"_blank\" href=https://colab.research.google.com/notebooks/data_table.ipynb>data table notebook</a>'\n",
              "            + ' to learn more about interactive tables.';\n",
              "          element.innerHTML = '';\n",
              "          dataTable['output_type'] = 'display_data';\n",
              "          await google.colab.output.renderOutput(dataTable, element);\n",
              "          const docLink = document.createElement('div');\n",
              "          docLink.innerHTML = docLinkHtml;\n",
              "          element.appendChild(docLink);\n",
              "        }\n",
              "      </script>\n",
              "    </div>\n",
              "  </div>\n"
            ]
          },
          "metadata": {},
          "execution_count": 6
        }
      ]
    },
    {
      "cell_type": "code",
      "source": [
        "df.info()"
      ],
      "metadata": {
        "colab": {
          "base_uri": "https://localhost:8080/"
        },
        "id": "NVD5sVQVgCIr",
        "outputId": "3e7992b6-4493-484f-81c2-581d4e028f3a"
      },
      "execution_count": 7,
      "outputs": [
        {
          "output_type": "stream",
          "name": "stdout",
          "text": [
            "<class 'pandas.core.frame.DataFrame'>\n",
            "RangeIndex: 4760 entries, 0 to 4759\n",
            "Data columns (total 21 columns):\n",
            " #   Column                    Non-Null Count  Dtype  \n",
            "---  ------                    --------------  -----  \n",
            " 0   Movie_ID                  4760 non-null   int64  \n",
            " 1   Movie_Title               4760 non-null   object \n",
            " 2   Movie_Genre               4760 non-null   object \n",
            " 3   Movie_Language            4760 non-null   object \n",
            " 4   Movie_Budget              4760 non-null   int64  \n",
            " 5   Movie_Popularity          4760 non-null   float64\n",
            " 6   Movie_Release_Date        4760 non-null   object \n",
            " 7   Movie_Revenue             4760 non-null   int64  \n",
            " 8   Movie_Runtime             4758 non-null   float64\n",
            " 9   Movie_Vote                4760 non-null   float64\n",
            " 10  Movie_Vote_Count          4760 non-null   int64  \n",
            " 11  Movie_Homepage            1699 non-null   object \n",
            " 12  Movie_Keywords            4373 non-null   object \n",
            " 13  Movie_Overview            4757 non-null   object \n",
            " 14  Movie_Production_House    4760 non-null   object \n",
            " 15  Movie_Production_Country  4760 non-null   object \n",
            " 16  Movie_Spoken_Language     4760 non-null   object \n",
            " 17  Movie_Tagline             3942 non-null   object \n",
            " 18  Movie_Cast                4733 non-null   object \n",
            " 19  Movie_Crew                4760 non-null   object \n",
            " 20  Movie_Director            4738 non-null   object \n",
            "dtypes: float64(3), int64(4), object(14)\n",
            "memory usage: 781.1+ KB\n"
          ]
        }
      ]
    },
    {
      "cell_type": "code",
      "source": [
        "df.shape"
      ],
      "metadata": {
        "colab": {
          "base_uri": "https://localhost:8080/"
        },
        "id": "qHjLh_JhgTyD",
        "outputId": "425e307a-d048-435d-a2ea-b74ce7dd330a"
      },
      "execution_count": 9,
      "outputs": [
        {
          "output_type": "execute_result",
          "data": {
            "text/plain": [
              "(4760, 21)"
            ]
          },
          "metadata": {},
          "execution_count": 9
        }
      ]
    },
    {
      "cell_type": "code",
      "source": [
        "df.columns"
      ],
      "metadata": {
        "colab": {
          "base_uri": "https://localhost:8080/"
        },
        "id": "c6tr9wLCgeeb",
        "outputId": "d4da6d06-9e50-4213-dc1b-546fd910163b"
      },
      "execution_count": 10,
      "outputs": [
        {
          "output_type": "execute_result",
          "data": {
            "text/plain": [
              "Index(['Movie_ID', 'Movie_Title', 'Movie_Genre', 'Movie_Language',\n",
              "       'Movie_Budget', 'Movie_Popularity', 'Movie_Release_Date',\n",
              "       'Movie_Revenue', 'Movie_Runtime', 'Movie_Vote', 'Movie_Vote_Count',\n",
              "       'Movie_Homepage', 'Movie_Keywords', 'Movie_Overview',\n",
              "       'Movie_Production_House', 'Movie_Production_Country',\n",
              "       'Movie_Spoken_Language', 'Movie_Tagline', 'Movie_Cast', 'Movie_Crew',\n",
              "       'Movie_Director'],\n",
              "      dtype='object')"
            ]
          },
          "metadata": {},
          "execution_count": 10
        }
      ]
    },
    {
      "cell_type": "markdown",
      "source": [
        "## **Get Feature Selection**"
      ],
      "metadata": {
        "id": "oBGX4Ekniriz"
      }
    },
    {
      "cell_type": "code",
      "source": [
        "df_features=df[['Movie_Genre','Movie_Keywords','Movie_Tagline','Movie_Cast','Movie_Director']].fillna('')"
      ],
      "metadata": {
        "id": "lW-OIRK0iuzO"
      },
      "execution_count": 11,
      "outputs": []
    },
    {
      "cell_type": "code",
      "source": [
        "df_features.shape"
      ],
      "metadata": {
        "colab": {
          "base_uri": "https://localhost:8080/"
        },
        "id": "uS8I96fcg9V-",
        "outputId": "8b345e6b-a02f-43d9-a6a3-fc042787ab44"
      },
      "execution_count": 12,
      "outputs": [
        {
          "output_type": "execute_result",
          "data": {
            "text/plain": [
              "(4760, 5)"
            ]
          },
          "metadata": {},
          "execution_count": 12
        }
      ]
    },
    {
      "cell_type": "code",
      "source": [
        "df_features"
      ],
      "metadata": {
        "colab": {
          "base_uri": "https://localhost:8080/",
          "height": 1000
        },
        "id": "N3EsZnw3hBg0",
        "outputId": "b59b97ab-1264-45e3-ea14-b921d85ea8b7"
      },
      "execution_count": 13,
      "outputs": [
        {
          "output_type": "execute_result",
          "data": {
            "text/plain": [
              "                           Movie_Genre  \\\n",
              "0                         Crime Comedy   \n",
              "1     Adventure Action Science Fiction   \n",
              "2                     Animation Family   \n",
              "3                 Comedy Drama Romance   \n",
              "4                                Drama   \n",
              "...                                ...   \n",
              "4755                            Horror   \n",
              "4756               Comedy Family Drama   \n",
              "4757                    Thriller Drama   \n",
              "4758                            Family   \n",
              "4759                       Documentary   \n",
              "\n",
              "                                         Movie_Keywords  \\\n",
              "0             hotel new year's eve witch bet hotel room   \n",
              "1           android galaxy hermit death star lightsaber   \n",
              "2     father son relationship harbor underwater fish...   \n",
              "3     vietnam veteran hippie mentally disabled runni...   \n",
              "4     male nudity female nudity adultery midlife cri...   \n",
              "...                                                 ...   \n",
              "4755                                                      \n",
              "4756                                                      \n",
              "4757                     christian film sex trafficking   \n",
              "4758                                                      \n",
              "4759  music actors legendary perfomer classic hollyw...   \n",
              "\n",
              "                                          Movie_Tagline  \\\n",
              "0     Twelve outrageous guests. Four scandalous requ...   \n",
              "1          A long time ago in a galaxy far, far away...   \n",
              "2     There are 3.7 trillion fish in the ocean, they...   \n",
              "3     The world will never be the same, once you've ...   \n",
              "4                                          Look closer.   \n",
              "...                                                 ...   \n",
              "4755                The hot spot where Satan's waitin'.   \n",
              "4756           It’s better to stand out than to fit in.   \n",
              "4757           She never knew it could happen to her...   \n",
              "4758                                                      \n",
              "4759                                                      \n",
              "\n",
              "                                             Movie_Cast     Movie_Director  \n",
              "0     Tim Roth Antonio Banderas Jennifer Beals Madon...     Allison Anders  \n",
              "1     Mark Hamill Harrison Ford Carrie Fisher Peter ...       George Lucas  \n",
              "2     Albert Brooks Ellen DeGeneres Alexander Gould ...     Andrew Stanton  \n",
              "3     Tom Hanks Robin Wright Gary Sinise Mykelti Wil...    Robert Zemeckis  \n",
              "4     Kevin Spacey Annette Bening Thora Birch Wes Be...         Sam Mendes  \n",
              "...                                                 ...                ...  \n",
              "4755  Lisa Hart Carroll Michael Des Barres Paul Drak...         Pece Dingo  \n",
              "4756  Roni Akurati Brighton Sharbino Jason Lee Anjul...       Frank Lotito  \n",
              "4757  Nicole Smolen Kim Baldwin Ariana Stephens Brys...       Jaco Booyens  \n",
              "4758                                                                        \n",
              "4759                                    Tony Oppedisano  Simon Napier-Bell  \n",
              "\n",
              "[4760 rows x 5 columns]"
            ],
            "text/html": [
              "\n",
              "\n",
              "  <div id=\"df-959fc90c-b1c8-49e7-af54-8fbfc097fa77\">\n",
              "    <div class=\"colab-df-container\">\n",
              "      <div>\n",
              "<style scoped>\n",
              "    .dataframe tbody tr th:only-of-type {\n",
              "        vertical-align: middle;\n",
              "    }\n",
              "\n",
              "    .dataframe tbody tr th {\n",
              "        vertical-align: top;\n",
              "    }\n",
              "\n",
              "    .dataframe thead th {\n",
              "        text-align: right;\n",
              "    }\n",
              "</style>\n",
              "<table border=\"1\" class=\"dataframe\">\n",
              "  <thead>\n",
              "    <tr style=\"text-align: right;\">\n",
              "      <th></th>\n",
              "      <th>Movie_Genre</th>\n",
              "      <th>Movie_Keywords</th>\n",
              "      <th>Movie_Tagline</th>\n",
              "      <th>Movie_Cast</th>\n",
              "      <th>Movie_Director</th>\n",
              "    </tr>\n",
              "  </thead>\n",
              "  <tbody>\n",
              "    <tr>\n",
              "      <th>0</th>\n",
              "      <td>Crime Comedy</td>\n",
              "      <td>hotel new year's eve witch bet hotel room</td>\n",
              "      <td>Twelve outrageous guests. Four scandalous requ...</td>\n",
              "      <td>Tim Roth Antonio Banderas Jennifer Beals Madon...</td>\n",
              "      <td>Allison Anders</td>\n",
              "    </tr>\n",
              "    <tr>\n",
              "      <th>1</th>\n",
              "      <td>Adventure Action Science Fiction</td>\n",
              "      <td>android galaxy hermit death star lightsaber</td>\n",
              "      <td>A long time ago in a galaxy far, far away...</td>\n",
              "      <td>Mark Hamill Harrison Ford Carrie Fisher Peter ...</td>\n",
              "      <td>George Lucas</td>\n",
              "    </tr>\n",
              "    <tr>\n",
              "      <th>2</th>\n",
              "      <td>Animation Family</td>\n",
              "      <td>father son relationship harbor underwater fish...</td>\n",
              "      <td>There are 3.7 trillion fish in the ocean, they...</td>\n",
              "      <td>Albert Brooks Ellen DeGeneres Alexander Gould ...</td>\n",
              "      <td>Andrew Stanton</td>\n",
              "    </tr>\n",
              "    <tr>\n",
              "      <th>3</th>\n",
              "      <td>Comedy Drama Romance</td>\n",
              "      <td>vietnam veteran hippie mentally disabled runni...</td>\n",
              "      <td>The world will never be the same, once you've ...</td>\n",
              "      <td>Tom Hanks Robin Wright Gary Sinise Mykelti Wil...</td>\n",
              "      <td>Robert Zemeckis</td>\n",
              "    </tr>\n",
              "    <tr>\n",
              "      <th>4</th>\n",
              "      <td>Drama</td>\n",
              "      <td>male nudity female nudity adultery midlife cri...</td>\n",
              "      <td>Look closer.</td>\n",
              "      <td>Kevin Spacey Annette Bening Thora Birch Wes Be...</td>\n",
              "      <td>Sam Mendes</td>\n",
              "    </tr>\n",
              "    <tr>\n",
              "      <th>...</th>\n",
              "      <td>...</td>\n",
              "      <td>...</td>\n",
              "      <td>...</td>\n",
              "      <td>...</td>\n",
              "      <td>...</td>\n",
              "    </tr>\n",
              "    <tr>\n",
              "      <th>4755</th>\n",
              "      <td>Horror</td>\n",
              "      <td></td>\n",
              "      <td>The hot spot where Satan's waitin'.</td>\n",
              "      <td>Lisa Hart Carroll Michael Des Barres Paul Drak...</td>\n",
              "      <td>Pece Dingo</td>\n",
              "    </tr>\n",
              "    <tr>\n",
              "      <th>4756</th>\n",
              "      <td>Comedy Family Drama</td>\n",
              "      <td></td>\n",
              "      <td>It’s better to stand out than to fit in.</td>\n",
              "      <td>Roni Akurati Brighton Sharbino Jason Lee Anjul...</td>\n",
              "      <td>Frank Lotito</td>\n",
              "    </tr>\n",
              "    <tr>\n",
              "      <th>4757</th>\n",
              "      <td>Thriller Drama</td>\n",
              "      <td>christian film sex trafficking</td>\n",
              "      <td>She never knew it could happen to her...</td>\n",
              "      <td>Nicole Smolen Kim Baldwin Ariana Stephens Brys...</td>\n",
              "      <td>Jaco Booyens</td>\n",
              "    </tr>\n",
              "    <tr>\n",
              "      <th>4758</th>\n",
              "      <td>Family</td>\n",
              "      <td></td>\n",
              "      <td></td>\n",
              "      <td></td>\n",
              "      <td></td>\n",
              "    </tr>\n",
              "    <tr>\n",
              "      <th>4759</th>\n",
              "      <td>Documentary</td>\n",
              "      <td>music actors legendary perfomer classic hollyw...</td>\n",
              "      <td></td>\n",
              "      <td>Tony Oppedisano</td>\n",
              "      <td>Simon Napier-Bell</td>\n",
              "    </tr>\n",
              "  </tbody>\n",
              "</table>\n",
              "<p>4760 rows × 5 columns</p>\n",
              "</div>\n",
              "      <button class=\"colab-df-convert\" onclick=\"convertToInteractive('df-959fc90c-b1c8-49e7-af54-8fbfc097fa77')\"\n",
              "              title=\"Convert this dataframe to an interactive table.\"\n",
              "              style=\"display:none;\">\n",
              "\n",
              "  <svg xmlns=\"http://www.w3.org/2000/svg\" height=\"24px\"viewBox=\"0 0 24 24\"\n",
              "       width=\"24px\">\n",
              "    <path d=\"M0 0h24v24H0V0z\" fill=\"none\"/>\n",
              "    <path d=\"M18.56 5.44l.94 2.06.94-2.06 2.06-.94-2.06-.94-.94-2.06-.94 2.06-2.06.94zm-11 1L8.5 8.5l.94-2.06 2.06-.94-2.06-.94L8.5 2.5l-.94 2.06-2.06.94zm10 10l.94 2.06.94-2.06 2.06-.94-2.06-.94-.94-2.06-.94 2.06-2.06.94z\"/><path d=\"M17.41 7.96l-1.37-1.37c-.4-.4-.92-.59-1.43-.59-.52 0-1.04.2-1.43.59L10.3 9.45l-7.72 7.72c-.78.78-.78 2.05 0 2.83L4 21.41c.39.39.9.59 1.41.59.51 0 1.02-.2 1.41-.59l7.78-7.78 2.81-2.81c.8-.78.8-2.07 0-2.86zM5.41 20L4 18.59l7.72-7.72 1.47 1.35L5.41 20z\"/>\n",
              "  </svg>\n",
              "      </button>\n",
              "\n",
              "\n",
              "\n",
              "    <div id=\"df-1b033e12-bfe9-49a3-bed6-540c0f8092d7\">\n",
              "      <button class=\"colab-df-quickchart\" onclick=\"quickchart('df-1b033e12-bfe9-49a3-bed6-540c0f8092d7')\"\n",
              "              title=\"Suggest charts.\"\n",
              "              style=\"display:none;\">\n",
              "\n",
              "<svg xmlns=\"http://www.w3.org/2000/svg\" height=\"24px\"viewBox=\"0 0 24 24\"\n",
              "     width=\"24px\">\n",
              "    <g>\n",
              "        <path d=\"M19 3H5c-1.1 0-2 .9-2 2v14c0 1.1.9 2 2 2h14c1.1 0 2-.9 2-2V5c0-1.1-.9-2-2-2zM9 17H7v-7h2v7zm4 0h-2V7h2v10zm4 0h-2v-4h2v4z\"/>\n",
              "    </g>\n",
              "</svg>\n",
              "      </button>\n",
              "    </div>\n",
              "\n",
              "<style>\n",
              "  .colab-df-quickchart {\n",
              "    background-color: #E8F0FE;\n",
              "    border: none;\n",
              "    border-radius: 50%;\n",
              "    cursor: pointer;\n",
              "    display: none;\n",
              "    fill: #1967D2;\n",
              "    height: 32px;\n",
              "    padding: 0 0 0 0;\n",
              "    width: 32px;\n",
              "  }\n",
              "\n",
              "  .colab-df-quickchart:hover {\n",
              "    background-color: #E2EBFA;\n",
              "    box-shadow: 0px 1px 2px rgba(60, 64, 67, 0.3), 0px 1px 3px 1px rgba(60, 64, 67, 0.15);\n",
              "    fill: #174EA6;\n",
              "  }\n",
              "\n",
              "  [theme=dark] .colab-df-quickchart {\n",
              "    background-color: #3B4455;\n",
              "    fill: #D2E3FC;\n",
              "  }\n",
              "\n",
              "  [theme=dark] .colab-df-quickchart:hover {\n",
              "    background-color: #434B5C;\n",
              "    box-shadow: 0px 1px 3px 1px rgba(0, 0, 0, 0.15);\n",
              "    filter: drop-shadow(0px 1px 2px rgba(0, 0, 0, 0.3));\n",
              "    fill: #FFFFFF;\n",
              "  }\n",
              "</style>\n",
              "\n",
              "    <script>\n",
              "      async function quickchart(key) {\n",
              "        const containerElement = document.querySelector('#' + key);\n",
              "        const charts = await google.colab.kernel.invokeFunction(\n",
              "            'suggestCharts', [key], {});\n",
              "      }\n",
              "    </script>\n",
              "\n",
              "      <script>\n",
              "\n",
              "function displayQuickchartButton(domScope) {\n",
              "  let quickchartButtonEl =\n",
              "    domScope.querySelector('#df-1b033e12-bfe9-49a3-bed6-540c0f8092d7 button.colab-df-quickchart');\n",
              "  quickchartButtonEl.style.display =\n",
              "    google.colab.kernel.accessAllowed ? 'block' : 'none';\n",
              "}\n",
              "\n",
              "        displayQuickchartButton(document);\n",
              "      </script>\n",
              "      <style>\n",
              "    .colab-df-container {\n",
              "      display:flex;\n",
              "      flex-wrap:wrap;\n",
              "      gap: 12px;\n",
              "    }\n",
              "\n",
              "    .colab-df-convert {\n",
              "      background-color: #E8F0FE;\n",
              "      border: none;\n",
              "      border-radius: 50%;\n",
              "      cursor: pointer;\n",
              "      display: none;\n",
              "      fill: #1967D2;\n",
              "      height: 32px;\n",
              "      padding: 0 0 0 0;\n",
              "      width: 32px;\n",
              "    }\n",
              "\n",
              "    .colab-df-convert:hover {\n",
              "      background-color: #E2EBFA;\n",
              "      box-shadow: 0px 1px 2px rgba(60, 64, 67, 0.3), 0px 1px 3px 1px rgba(60, 64, 67, 0.15);\n",
              "      fill: #174EA6;\n",
              "    }\n",
              "\n",
              "    [theme=dark] .colab-df-convert {\n",
              "      background-color: #3B4455;\n",
              "      fill: #D2E3FC;\n",
              "    }\n",
              "\n",
              "    [theme=dark] .colab-df-convert:hover {\n",
              "      background-color: #434B5C;\n",
              "      box-shadow: 0px 1px 3px 1px rgba(0, 0, 0, 0.15);\n",
              "      filter: drop-shadow(0px 1px 2px rgba(0, 0, 0, 0.3));\n",
              "      fill: #FFFFFF;\n",
              "    }\n",
              "  </style>\n",
              "\n",
              "      <script>\n",
              "        const buttonEl =\n",
              "          document.querySelector('#df-959fc90c-b1c8-49e7-af54-8fbfc097fa77 button.colab-df-convert');\n",
              "        buttonEl.style.display =\n",
              "          google.colab.kernel.accessAllowed ? 'block' : 'none';\n",
              "\n",
              "        async function convertToInteractive(key) {\n",
              "          const element = document.querySelector('#df-959fc90c-b1c8-49e7-af54-8fbfc097fa77');\n",
              "          const dataTable =\n",
              "            await google.colab.kernel.invokeFunction('convertToInteractive',\n",
              "                                                     [key], {});\n",
              "          if (!dataTable) return;\n",
              "\n",
              "          const docLinkHtml = 'Like what you see? Visit the ' +\n",
              "            '<a target=\"_blank\" href=https://colab.research.google.com/notebooks/data_table.ipynb>data table notebook</a>'\n",
              "            + ' to learn more about interactive tables.';\n",
              "          element.innerHTML = '';\n",
              "          dataTable['output_type'] = 'display_data';\n",
              "          await google.colab.output.renderOutput(dataTable, element);\n",
              "          const docLink = document.createElement('div');\n",
              "          docLink.innerHTML = docLinkHtml;\n",
              "          element.appendChild(docLink);\n",
              "        }\n",
              "      </script>\n",
              "    </div>\n",
              "  </div>\n"
            ]
          },
          "metadata": {},
          "execution_count": 13
        }
      ]
    },
    {
      "cell_type": "code",
      "source": [
        "x=df_features['Movie_Genre']+ ' ' +df_features['Movie_Keywords']+ ' ' +df_features['Movie_Tagline']+ ' ' +df_features['Movie_Cast']+ ' ' +df_features['Movie_Director']"
      ],
      "metadata": {
        "id": "j2XVykh0hXp7"
      },
      "execution_count": 14,
      "outputs": []
    },
    {
      "cell_type": "code",
      "source": [
        "x"
      ],
      "metadata": {
        "colab": {
          "base_uri": "https://localhost:8080/"
        },
        "id": "jLJ-ZObih5lc",
        "outputId": "45dd5762-7ece-452d-cb4d-d3013b31e221"
      },
      "execution_count": 15,
      "outputs": [
        {
          "output_type": "execute_result",
          "data": {
            "text/plain": [
              "0       Crime Comedy hotel new year's eve witch bet ho...\n",
              "1       Adventure Action Science Fiction android galax...\n",
              "2       Animation Family father son relationship harbo...\n",
              "3       Comedy Drama Romance vietnam veteran hippie me...\n",
              "4       Drama male nudity female nudity adultery midli...\n",
              "                              ...                        \n",
              "4755    Horror  The hot spot where Satan's waitin'. Li...\n",
              "4756    Comedy Family Drama  It’s better to stand out ...\n",
              "4757    Thriller Drama christian film sex trafficking ...\n",
              "4758                                           Family    \n",
              "4759    Documentary music actors legendary perfomer cl...\n",
              "Length: 4760, dtype: object"
            ]
          },
          "metadata": {},
          "execution_count": 15
        }
      ]
    },
    {
      "cell_type": "code",
      "source": [
        "x.shape"
      ],
      "metadata": {
        "colab": {
          "base_uri": "https://localhost:8080/"
        },
        "id": "7l8odZs4h61D",
        "outputId": "d47bbbd7-5e7f-4d2b-e67a-9aade0cf74c2"
      },
      "execution_count": 17,
      "outputs": [
        {
          "output_type": "execute_result",
          "data": {
            "text/plain": [
              "(4760,)"
            ]
          },
          "metadata": {},
          "execution_count": 17
        }
      ]
    },
    {
      "cell_type": "markdown",
      "source": [
        "## **Get Feature Text Conversions to Tokens**"
      ],
      "metadata": {
        "id": "UqfyPOCYiiww"
      }
    },
    {
      "cell_type": "code",
      "source": [
        "from sklearn.feature_extraction.text import TfidfVectorizer"
      ],
      "metadata": {
        "id": "3cyr3fbGin0A"
      },
      "execution_count": 19,
      "outputs": []
    },
    {
      "cell_type": "code",
      "source": [
        "tfidf=TfidfVectorizer()"
      ],
      "metadata": {
        "id": "FRHfORXbjCJY"
      },
      "execution_count": 21,
      "outputs": []
    },
    {
      "cell_type": "code",
      "source": [
        "x=tfidf.fit_transform(x)"
      ],
      "metadata": {
        "id": "rt9Wg0N6jG81"
      },
      "execution_count": 22,
      "outputs": []
    },
    {
      "cell_type": "code",
      "source": [
        "x.shape"
      ],
      "metadata": {
        "colab": {
          "base_uri": "https://localhost:8080/"
        },
        "id": "XdPkfNN2jTSZ",
        "outputId": "5811bf91-23f3-42fc-cb93-3caca3943095"
      },
      "execution_count": 23,
      "outputs": [
        {
          "output_type": "execute_result",
          "data": {
            "text/plain": [
              "(4760, 17258)"
            ]
          },
          "metadata": {},
          "execution_count": 23
        }
      ]
    },
    {
      "cell_type": "code",
      "source": [
        "print(x)"
      ],
      "metadata": {
        "colab": {
          "base_uri": "https://localhost:8080/"
        },
        "id": "E3AeXwGHjU_1",
        "outputId": "47d7d17b-24b6-4a66-dfa3-976dd4f875db"
      },
      "execution_count": 24,
      "outputs": [
        {
          "output_type": "stream",
          "name": "stdout",
          "text": [
            "  (0, 617)\t0.1633382144407513\n",
            "  (0, 492)\t0.1432591540388685\n",
            "  (0, 15413)\t0.1465525095337543\n",
            "  (0, 9675)\t0.14226057295252661\n",
            "  (0, 9465)\t0.1659841367820977\n",
            "  (0, 1390)\t0.16898383612799558\n",
            "  (0, 7825)\t0.09799561597509843\n",
            "  (0, 1214)\t0.13865857545144072\n",
            "  (0, 729)\t0.13415063359531618\n",
            "  (0, 13093)\t0.1432591540388685\n",
            "  (0, 15355)\t0.10477815972666779\n",
            "  (0, 9048)\t0.0866842116160778\n",
            "  (0, 11161)\t0.06250380151644369\n",
            "  (0, 16773)\t0.17654247479915475\n",
            "  (0, 5612)\t0.08603537588547631\n",
            "  (0, 16735)\t0.10690083751525419\n",
            "  (0, 7904)\t0.13348000542112332\n",
            "  (0, 15219)\t0.09800472886453934\n",
            "  (0, 11242)\t0.07277788238484746\n",
            "  (0, 3878)\t0.11998399582562203\n",
            "  (0, 5499)\t0.11454057510303811\n",
            "  (0, 7071)\t0.19822417598406614\n",
            "  (0, 7454)\t0.14745635785412262\n",
            "  (0, 1495)\t0.19712637387361423\n",
            "  (0, 9206)\t0.15186283580984414\n",
            "  :\t:\n",
            "  (4757, 5455)\t0.12491480594769522\n",
            "  (4757, 2967)\t0.16273475835631626\n",
            "  (4757, 8464)\t0.23522565554066333\n",
            "  (4757, 6938)\t0.17088173678136628\n",
            "  (4757, 8379)\t0.17480603856721913\n",
            "  (4757, 15303)\t0.07654356007668191\n",
            "  (4757, 15384)\t0.09754322497537371\n",
            "  (4757, 7649)\t0.11479421494340192\n",
            "  (4757, 10896)\t0.14546473055066447\n",
            "  (4757, 4494)\t0.05675298448720501\n",
            "  (4758, 5238)\t1.0\n",
            "  (4759, 11264)\t0.33947721804318337\n",
            "  (4759, 11708)\t0.33947721804318337\n",
            "  (4759, 205)\t0.3237911628497312\n",
            "  (4759, 8902)\t0.3040290704566037\n",
            "  (4759, 14062)\t0.3237911628497312\n",
            "  (4759, 3058)\t0.2812896191863103\n",
            "  (4759, 7130)\t0.26419662449963793\n",
            "  (4759, 10761)\t0.3126617295732147\n",
            "  (4759, 4358)\t0.18306542312175342\n",
            "  (4759, 14051)\t0.20084315377640435\n",
            "  (4759, 5690)\t0.19534291014627303\n",
            "  (4759, 15431)\t0.19628653185946862\n",
            "  (4759, 1490)\t0.21197258705292082\n",
            "  (4759, 10666)\t0.15888268987343043\n"
          ]
        }
      ]
    },
    {
      "cell_type": "markdown",
      "source": [
        "## **Get Similarity Score using Cosine SImilarity**"
      ],
      "metadata": {
        "id": "2jXJpdAuiwYW"
      }
    },
    {
      "cell_type": "code",
      "source": [
        "from sklearn.metrics.pairwise import cosine_similarity"
      ],
      "metadata": {
        "id": "QBCakTuli57t"
      },
      "execution_count": 25,
      "outputs": []
    },
    {
      "cell_type": "code",
      "source": [
        "Similarity_Score=cosine_similarity(x)"
      ],
      "metadata": {
        "id": "mmQiyYLHjpGg"
      },
      "execution_count": 26,
      "outputs": []
    },
    {
      "cell_type": "code",
      "source": [
        "Similarity_Score"
      ],
      "metadata": {
        "colab": {
          "base_uri": "https://localhost:8080/"
        },
        "id": "zY229RKIjwEQ",
        "outputId": "e12c2aea-21f6-456f-dd81-bf3225a30379"
      },
      "execution_count": 27,
      "outputs": [
        {
          "output_type": "execute_result",
          "data": {
            "text/plain": [
              "array([[1.        , 0.01351235, 0.03570468, ..., 0.        , 0.        ,\n",
              "        0.        ],\n",
              "       [0.01351235, 1.        , 0.00806674, ..., 0.        , 0.        ,\n",
              "        0.        ],\n",
              "       [0.03570468, 0.00806674, 1.        , ..., 0.        , 0.08014876,\n",
              "        0.        ],\n",
              "       ...,\n",
              "       [0.        , 0.        , 0.        , ..., 1.        , 0.        ,\n",
              "        0.        ],\n",
              "       [0.        , 0.        , 0.08014876, ..., 0.        , 1.        ,\n",
              "        0.        ],\n",
              "       [0.        , 0.        , 0.        , ..., 0.        , 0.        ,\n",
              "        1.        ]])"
            ]
          },
          "metadata": {},
          "execution_count": 27
        }
      ]
    },
    {
      "cell_type": "code",
      "source": [
        "Similarity_Score.shape"
      ],
      "metadata": {
        "colab": {
          "base_uri": "https://localhost:8080/"
        },
        "id": "VYBb08hQj00F",
        "outputId": "44a86972-9bc1-4fb3-b791-b2e7bb246ff3"
      },
      "execution_count": 28,
      "outputs": [
        {
          "output_type": "execute_result",
          "data": {
            "text/plain": [
              "(4760, 4760)"
            ]
          },
          "metadata": {},
          "execution_count": 28
        }
      ]
    },
    {
      "cell_type": "markdown",
      "source": [
        "## **Get Movie Name as Input from User and Validate for closest Spelling**"
      ],
      "metadata": {
        "id": "90_0q_Pbi658"
      }
    },
    {
      "cell_type": "code",
      "source": [
        "Favourite_Movie_Name=input('Enter your favourite movie name : ')"
      ],
      "metadata": {
        "id": "u60YYaOFi-Dw",
        "colab": {
          "base_uri": "https://localhost:8080/"
        },
        "outputId": "6cb3dd94-64eb-49fe-edf4-37ddab495a6d"
      },
      "execution_count": 33,
      "outputs": [
        {
          "name": "stdout",
          "output_type": "stream",
          "text": [
            "Enter your favourite movie name : Star Trek\n"
          ]
        }
      ]
    },
    {
      "cell_type": "code",
      "source": [
        "All_Movies_Title_List=df['Movie_Title'].tolist()"
      ],
      "metadata": {
        "id": "GCUyIPVfkcd0"
      },
      "execution_count": 39,
      "outputs": []
    },
    {
      "cell_type": "code",
      "source": [
        "import difflib"
      ],
      "metadata": {
        "id": "8PWK0muKkswm"
      },
      "execution_count": 40,
      "outputs": []
    },
    {
      "cell_type": "code",
      "source": [
        "Movie_Recommendation=difflib.get_close_matches(Favourite_Movie_Name,All_Movies_Title_List)\n",
        "print(Movie_Recommendation)"
      ],
      "metadata": {
        "colab": {
          "base_uri": "https://localhost:8080/"
        },
        "id": "JE0iHROnkvcu",
        "outputId": "ceb5a173-983b-474c-9642-49a691430c23"
      },
      "execution_count": 44,
      "outputs": [
        {
          "output_type": "stream",
          "name": "stdout",
          "text": [
            "['Star Trek', 'Star Trek Beyond', 'Star Wars']\n"
          ]
        }
      ]
    },
    {
      "cell_type": "code",
      "source": [
        "Close_Match=Movie_Recommendation[0]\n",
        "print(Close_Match)"
      ],
      "metadata": {
        "colab": {
          "base_uri": "https://localhost:8080/"
        },
        "id": "Y329_uounAql",
        "outputId": "a65ab76d-5463-48b7-e3eb-5fac3b70d58d"
      },
      "execution_count": 47,
      "outputs": [
        {
          "output_type": "stream",
          "name": "stdout",
          "text": [
            "Star Trek\n"
          ]
        }
      ]
    },
    {
      "cell_type": "code",
      "source": [
        "Index_of_Close_Match_Movie=df[df.Movie_Title==Close_Match]['Movie_ID'].values[0]\n",
        "print(Index_of_Close_Match_Movie)"
      ],
      "metadata": {
        "colab": {
          "base_uri": "https://localhost:8080/"
        },
        "id": "ws3unWNZnVD2",
        "outputId": "4c3e056a-048b-4825-be5c-4c190898bbd7"
      },
      "execution_count": 48,
      "outputs": [
        {
          "output_type": "stream",
          "name": "stdout",
          "text": [
            "2234\n"
          ]
        }
      ]
    },
    {
      "cell_type": "code",
      "source": [
        "# Getting a list of similar movies\n",
        "Recommendation_Score=list(enumerate(Similarity_Score[Index_of_Close_Match_Movie]))\n",
        "print(Recommendation_Score)"
      ],
      "metadata": {
        "colab": {
          "base_uri": "https://localhost:8080/"
        },
        "id": "ZVB3q8ESnoTh",
        "outputId": "d97ae61b-2b80-4e4a-8f19-2f759e108e0b"
      },
      "execution_count": 50,
      "outputs": [
        {
          "output_type": "stream",
          "name": "stdout",
          "text": [
            "[(0, 0.07242749005204199), (1, 0.03753063532975679), (2, 0.0625286063269125), (3, 0.025240867563644517), (4, 0.05574897111501531), (5, 0.0), (6, 0.02126532725280361), (7, 0.027076465332562312), (8, 0.007752086820391736), (9, 0.0), (10, 0.015687368960178076), (11, 0.0), (12, 0.014333397242839245), (13, 0.0), (14, 0.020269386804764023), (15, 0.04362963461266872), (16, 0.02076167463259514), (17, 0.0), (18, 0.04692985366201118), (19, 0.01729666683492684), (20, 0.025683790147419266), (21, 0.0), (22, 0.044890927986568366), (23, 0.03440452175387153), (24, 0.05976987217899514), (25, 0.038286771080757905), (26, 0.013697711803709824), (27, 0.0), (28, 0.00827630747242328), (29, 0.04903478497006039), (30, 0.0), (31, 0.05432590983814585), (32, 0.02762840462859662), (33, 0.01830792552372627), (34, 0.0), (35, 0.02879644761061209), (36, 0.020237978525245556), (37, 0.036366850722134345), (38, 0.009315619944600848), (39, 0.018000844028033272), (40, 0.009143990737285917), (41, 0.0), (42, 0.008337902649991732), (43, 0.08546108161951892), (44, 0.04088073461431659), (45, 0.04290855508052597), (46, 0.0), (47, 0.0), (48, 0.014789338370647784), (49, 0.01482006856926963), (50, 0.02258739708430714), (51, 0.02061392136373191), (52, 0.03378281858564495), (53, 0.020990031071427717), (54, 0.03603996927620082), (55, 0.0), (56, 0.0), (57, 0.011198340407102214), (58, 0.0117383540150642), (59, 0.008398450220971354), (60, 0.013079155051039546), (61, 0.013821386983162936), (62, 0.021631526793291167), (63, 0.020020598433255873), (64, 0.0), (65, 0.013310318328227272), (66, 0.042629379274814395), (67, 0.0), (68, 0.0), (69, 0.016163224290051854), (70, 0.011823817855960012), (71, 0.020072165155326484), (72, 0.0), (73, 0.018677589862981736), (74, 0.0), (75, 0.028932909840158186), (76, 0.008820615012072073), (77, 0.0), (78, 0.0), (79, 0.013380423939494835), (80, 0.013488011114399016), (81, 0.0), (82, 0.02680785264013763), (83, 0.02220263129313148), (84, 0.0), (85, 0.031910894030465764), (86, 0.08299271297918139), (87, 0.03289004826549381), (88, 0.019986832678703867), (89, 0.0636454398780845), (90, 0.0), (91, 0.03213128307740296), (92, 0.09524638010081032), (93, 0.0), (94, 0.013518247948121157), (95, 0.0), (96, 0.05758441725880822), (97, 0.0), (98, 0.05737353808646499), (99, 0.0), (100, 0.021616506449606027), (101, 0.0), (102, 0.011810387111711994), (103, 0.0132430030613323), (104, 0.012533327234986633), (105, 0.030221410919873362), (106, 0.011331671727326433), (107, 0.0), (108, 0.0465845120456426), (109, 0.02579857442311316), (110, 0.05925034848251205), (111, 0.024937101379614173), (112, 0.0), (113, 0.03840779381368936), (114, 0.04248639557522589), (115, 0.008335107257119967), (116, 0.0184917579866224), (117, 0.0), (118, 0.0), (119, 0.0), (120, 0.0), (121, 0.04145511730010727), (122, 0.009958229415836574), (123, 0.0), (124, 0.0), (125, 0.055155914162322635), (126, 0.0), (127, 0.0), (128, 0.014890272315516033), (129, 0.05270234211406664), (130, 0.02363366630568106), (131, 0.07231536451301646), (132, 0.026954483035224047), (133, 0.0), (134, 0.008327117277613197), (135, 0.017911841878020297), (136, 0.011501376343639697), (137, 0.013979496938825033), (138, 0.023075363576720177), (139, 0.009145822118830658), (140, 0.01311367693786573), (141, 0.020827369651523646), (142, 0.023284238521409057), (143, 0.011340208031954364), (144, 0.026870755815489353), (145, 0.0), (146, 0.03159320728569698), (147, 0.01895574258504752), (148, 0.03469712046438192), (149, 0.011560541871727628), (150, 0.010582175334234058), (151, 0.0), (152, 0.010498107950619248), (153, 0.009580619181645406), (154, 0.01314070022862676), (155, 0.06250613669921201), (156, 0.021202444271770374), (157, 0.047979719857524014), (158, 0.011171929973448876), (159, 0.0), (160, 0.02235437955091353), (161, 0.025947922363045297), (162, 0.0), (163, 0.0), (164, 0.0), (165, 0.0), (166, 0.0), (167, 0.010443378976467008), (168, 0.02258566045241703), (169, 0.02877632979463666), (170, 0.02602200965742505), (171, 0.0), (172, 0.033060930998573296), (173, 0.027725299016168298), (174, 0.01510231480015049), (175, 0.03391852528356249), (176, 0.014385000642086821), (177, 0.023838289107823058), (178, 0.052774559185611976), (179, 0.027605716016354732), (180, 0.0), (181, 0.0), (182, 0.008216522060100782), (183, 0.0), (184, 0.011956743163415951), (185, 0.020941514436017678), (186, 0.01231029945684422), (187, 0.025824225889050353), (188, 0.049249067244538536), (189, 0.0), (190, 0.0), (191, 0.009645203972286003), (192, 0.03466158936467535), (193, 0.03507139115429669), (194, 0.09735419575940471), (195, 0.012851417615459767), (196, 0.015133734102891141), (197, 0.014436612319278222), (198, 0.041500137067573814), (199, 0.019977919407104004), (200, 0.05771003983348087), (201, 0.03331011998488977), (202, 0.02678527555756478), (203, 0.02045730088036281), (204, 0.008516110900838295), (205, 0.03913226836189095), (206, 0.0), (207, 0.027735390651450673), (208, 0.024694690782526646), (209, 0.048500379190099835), (210, 0.0), (211, 0.12841013254076564), (212, 0.09584043049025776), (213, 0.0), (214, 0.039763243194080845), (215, 0.008008267136344864), (216, 0.02799237733223075), (217, 0.007945168483990026), (218, 0.016386049774619327), (219, 0.008293808667984494), (220, 0.0), (221, 0.006786790092400794), (222, 0.0), (223, 0.033551846357828666), (224, 0.0054613495893248215), (225, 0.09295405373461385), (226, 0.0), (227, 0.04962827647547752), (228, 0.017619829015605194), (229, 0.0), (230, 0.0), (231, 0.05936046561774776), (232, 0.1251697289097215), (233, 0.013401212533129469), (234, 0.020343344542822595), (235, 0.0), (236, 0.0), (237, 0.0615218233491687), (238, 0.008313976512046573), (239, 0.02570342369268843), (240, 0.010006028948070221), (241, 0.0), (242, 0.0), (243, 0.0), (244, 0.0), (245, 0.008361338600973387), (246, 0.0316121135850059), (247, 0.013841942974656555), (248, 0.020269238532626632), (249, 0.0), (250, 0.0), (251, 0.009265523174874094), (252, 0.0), (253, 0.008912235223510754), (254, 0.030224352208952567), (255, 0.03066545103329778), (256, 0.021519298001841644), (257, 0.011718866184537765), (258, 0.0), (259, 0.017824611423811622), (260, 0.017003845937868352), (261, 0.017296372612687072), (262, 0.03302857551760997), (263, 0.007713995072945057), (264, 0.008162741078909507), (265, 0.0), (266, 0.055045658031970396), (267, 0.0), (268, 0.0), (269, 0.045585744164347686), (270, 0.0), (271, 0.034029180785647706), (272, 0.007135962238376645), (273, 0.03811347270821952), (274, 0.015411482425846246), (275, 0.007548487989950634), (276, 0.012802736072181057), (277, 0.0), (278, 0.013168389122467868), (279, 0.06085850722262971), (280, 0.0358509010250851), (281, 0.0), (282, 0.013223043742401448), (283, 0.00911437725796179), (284, 0.031204723470215245), (285, 0.00979063519314183), (286, 0.1046622161205772), (287, 0.016821480888021847), (288, 0.030005595358249128), (289, 0.017585002174285436), (290, 0.0178789620028669), (291, 0.0), (292, 0.01358246928894742), (293, 0.020933441847435078), (294, 0.05508620620687025), (295, 0.0), (296, 0.0), (297, 0.0), (298, 0.01129253486704824), (299, 0.0), (300, 0.0), (301, 0.0), (302, 0.05907707479130983), (303, 0.0), (304, 0.0), (305, 0.039798648002072945), (306, 0.016517399562395393), (307, 0.012590026455021809), (308, 0.03950974354962058), (309, 0.03531654150603966), (310, 0.0), (311, 0.017797750886013576), (312, 0.0430068650721562), (313, 0.0), (314, 0.0), (315, 0.013619964629764593), (316, 0.0), (317, 0.02172397403032083), (318, 0.03812063637476435), (319, 0.015536705105932792), (320, 0.03714591376211825), (321, 0.0), (322, 0.013217088126967494), (323, 0.01959865635340249), (324, 0.05557565663894584), (325, 0.026217459389088236), (326, 0.023994351269252562), (327, 0.03795966099835754), (328, 0.026128357054637882), (329, 0.023820365919471655), (330, 0.010171317170240635), (331, 0.07207374805872824), (332, 0.0), (333, 0.009615546024833443), (334, 0.03689268579777154), (335, 0.0), (336, 0.015584278845966058), (337, 0.009811627814581217), (338, 0.01729981115070832), (339, 0.018349584751064532), (340, 0.0), (341, 0.025450996677751046), (342, 0.026398003241860875), (343, 0.014384455112432292), (344, 0.017146651623667714), (345, 0.018377601809426), (346, 0.035921383326706496), (347, 0.041764280956257456), (348, 0.0), (349, 0.07718195564314256), (350, 0.00887423900585191), (351, 0.025147400710446823), (352, 0.027788994539225235), (353, 0.0), (354, 0.0), (355, 0.05052305604321243), (356, 0.09366244676562897), (357, 0.007034254353866731), (358, 0.03413866946570164), (359, 0.01350915031842929), (360, 0.0), (361, 0.008652974550903983), (362, 0.020935462583445218), (363, 0.024992889758555886), (364, 0.0), (365, 0.02288299299275129), (366, 0.01759356108921601), (367, 0.007808968895453684), (368, 0.025895880376473578), (369, 0.016952678545737194), (370, 0.013400534974485359), (371, 0.019826408096549064), (372, 0.0), (373, 0.04168202136015401), (374, 0.0), (375, 0.021886566409632782), (376, 0.0), (377, 0.03236975657205567), (378, 0.0), (379, 0.0), (380, 0.0), (381, 0.019001796912775395), (382, 0.0), (383, 0.007264934417511563), (384, 0.0), (385, 0.01692570706499239), (386, 0.04288792119089718), (387, 0.016907519398953828), (388, 0.0067385014589379936), (389, 0.0), (390, 0.0), (391, 0.010439971692611153), (392, 0.008658860511002429), (393, 0.01924305595259047), (394, 0.0), (395, 0.0387805334268347), (396, 0.010388324238249048), (397, 0.0), (398, 0.01539593839220035), (399, 0.011540583462275149), (400, 0.027884453254875555), (401, 0.008261685538598372), (402, 0.0), (403, 0.015212886242832976), (404, 0.01840150571719723), (405, 0.016391195188212387), (406, 0.019989869576890876), (407, 0.0401705748003381), (408, 0.023698126999394983), (409, 0.03324963308877098), (410, 0.03595170733877116), (411, 0.0), (412, 0.0), (413, 0.017408808230587977), (414, 0.0061213664587439045), (415, 0.03696399563846533), (416, 0.014939670680903006), (417, 0.007571707402743224), (418, 0.02179630063500859), (419, 0.0), (420, 0.02584219530643372), (421, 0.006304289433731644), (422, 0.007701852841487064), (423, 0.0), (424, 0.0), (425, 0.0), (426, 0.0), (427, 0.007818797901507657), (428, 0.0), (429, 0.0), (430, 0.011635415681354344), (431, 0.018031421963943653), (432, 0.01141856332581028), (433, 0.03756928528653183), (434, 0.046642690896637154), (435, 0.016026626055620004), (436, 0.015017224111244145), (437, 0.0), (438, 0.016157778923213423), (439, 0.017821756147238823), (440, 0.04840875699611811), (441, 0.011568640552808812), (442, 0.0), (443, 0.0), (444, 0.015129078708438489), (445, 0.0), (446, 0.0), (447, 0.0), (448, 0.02071687094425636), (449, 0.023544453605559713), (450, 0.0), (451, 0.0), (452, 0.0), (453, 0.0), (454, 0.03211721222145883), (455, 0.04164157516965564), (456, 0.07417920259309727), (457, 0.04651654289477335), (458, 0.0), (459, 0.007985950801228001), (460, 0.0), (461, 0.026231510035288726), (462, 0.028299977208820725), (463, 0.021557052419615412), (464, 0.03278790914822853), (465, 0.0491697211663583), (466, 0.01342403421607644), (467, 0.014510893705498164), (468, 0.0), (469, 0.02433055410498514), (470, 0.0), (471, 0.025909187407858553), (472, 0.03414964339333626), (473, 0.020040152344646508), (474, 0.01606555970212925), (475, 0.012565091927636413), (476, 0.0), (477, 0.015765773703214733), (478, 0.0), (479, 0.008141896434822353), (480, 0.0), (481, 0.0), (482, 0.0), (483, 0.025374312899518612), (484, 0.017893157958620145), (485, 0.0), (486, 0.013039440206553463), (487, 0.0), (488, 0.020445308308735706), (489, 0.051778103389713115), (490, 0.03010151085586902), (491, 0.07582410827199994), (492, 0.0), (493, 0.020802472835021228), (494, 0.01904885782390562), (495, 0.0), (496, 0.009229285126121714), (497, 0.03213827461082468), (498, 0.018077176501953136), (499, 0.0), (500, 0.013087515240351484), (501, 0.0), (502, 0.0), (503, 0.007929518943475421), (504, 0.035266142458071296), (505, 0.007743788130944859), (506, 0.006605823492087687), (507, 0.007654050849717875), (508, 0.0799704287729544), (509, 0.0), (510, 0.012221580927315345), (511, 0.01222417695602779), (512, 0.0), (513, 0.0), (514, 0.0), (515, 0.02350708472949195), (516, 0.0), (517, 0.0), (518, 0.015735331573957217), (519, 0.011988835075548286), (520, 0.03270948056826178), (521, 0.007848289685805181), (522, 0.01208977729114135), (523, 0.018940131517694542), (524, 0.04073375264018204), (525, 0.0081078796138895), (526, 0.0), (527, 0.010749386636496962), (528, 0.008300066357228969), (529, 0.04142103308336902), (530, 0.07340724859085787), (531, 0.028144379025951134), (532, 0.042679800064446334), (533, 0.0), (534, 0.013256690434530144), (535, 0.00804314532972254), (536, 0.008675089235088428), (537, 0.054572849464552896), (538, 0.04300405303260083), (539, 0.014404818971389137), (540, 0.0), (541, 0.0), (542, 0.007580677082574789), (543, 0.0), (544, 0.018284120571838022), (545, 0.016657273715371717), (546, 0.007864932149393227), (547, 0.02796678025369706), (548, 0.013127892243149995), (549, 0.034574086315211985), (550, 0.024200713486464298), (551, 0.018712082275975), (552, 0.0), (553, 0.0), (554, 0.0), (555, 0.008891585451314105), (556, 0.0), (557, 0.017469667575949064), (558, 0.0), (559, 0.0), (560, 0.0), (561, 0.01882655703352601), (562, 0.04240395196280379), (563, 0.03972639032918675), (564, 0.0074782194028427), (565, 0.0), (566, 0.04217077058542945), (567, 0.01308887127422655), (568, 0.013652891413017584), (569, 0.0), (570, 0.0), (571, 0.0), (572, 0.0), (573, 0.0124459199349503), (574, 0.0), (575, 0.0), (576, 0.008046668642957912), (577, 0.01946155326688781), (578, 0.0), (579, 0.09387183109430364), (580, 0.0), (581, 0.0), (582, 0.07477124183687951), (583, 0.09430416641419614), (584, 0.04090189529010128), (585, 0.02130896578244419), (586, 0.008491225437492802), (587, 0.007850348722758091), (588, 0.03018470591286321), (589, 0.05162829463117334), (590, 0.0), (591, 0.08790923181008578), (592, 0.0), (593, 0.0), (594, 0.007285969647075003), (595, 0.0), (596, 0.0), (597, 0.033453755118793546), (598, 0.0), (599, 0.0), (600, 0.014730775801633548), (601, 0.0628425329073582), (602, 0.035649103753214804), (603, 0.03319351225638929), (604, 0.012487751850766516), (605, 0.11331363650743903), (606, 0.007370965652398707), (607, 0.016287822504693128), (608, 0.006470483811396783), (609, 0.05911049741501511), (610, 0.014635984325638857), (611, 0.011246057264326792), (612, 0.0232079204550607), (613, 0.01767045452839639), (614, 0.026687898878052712), (615, 0.01866415743480296), (616, 0.01037904898168336), (617, 0.0), (618, 0.06761786752843696), (619, 0.04571570021586484), (620, 0.07226269812651272), (621, 0.048986735158837266), (622, 0.049691956447232365), (623, 0.03609226955800591), (624, 0.0), (625, 0.0), (626, 0.015192541405102731), (627, 0.0), (628, 0.014114545836116876), (629, 0.01637379792778665), (630, 0.05891177565828827), (631, 0.0), (632, 0.007367256397975645), (633, 0.028218521914391125), (634, 0.0), (635, 0.01967124156228878), (636, 0.012578255846022766), (637, 0.02695821345640576), (638, 0.006578908152588737), (639, 0.012430313504693634), (640, 0.0), (641, 0.010024970228998205), (642, 0.015484918707024013), (643, 0.0265723746734755), (644, 0.006780885792579642), (645, 0.05451357473763234), (646, 0.013462593039020077), (647, 0.030571091368322412), (648, 0.06139093745024205), (649, 0.02629414772935776), (650, 0.0), (651, 0.014211992218523579), (652, 0.025116110430806114), (653, 0.020565639793007923), (654, 0.0), (655, 0.006665756116408127), (656, 0.018834124940786873), (657, 0.012057724450886488), (658, 0.013629736186992545), (659, 0.007593073927504652), (660, 0.0962217203145757), (661, 0.02055360545210426), (662, 0.02147682380467978), (663, 0.021966908467503515), (664, 0.04275727321835275), (665, 0.05072939408276368), (666, 0.0), (667, 0.057120279366748995), (668, 0.0227353828824713), (669, 0.01657824150558503), (670, 0.06240521231005383), (671, 0.03619652096874849), (672, 0.03150093594545465), (673, 0.0), (674, 0.0), (675, 0.0), (676, 0.014271247826325028), (677, 0.014709733880925478), (678, 0.00888652515648483), (679, 0.024863306368858536), (680, 0.041161307750237824), (681, 0.0), (682, 0.0), (683, 0.030481559217106123), (684, 0.03363847799260729), (685, 0.0), (686, 0.0), (687, 0.00904381849490696), (688, 0.0), (689, 0.05241461915570216), (690, 0.007584228105215683), (691, 0.06383147669979897), (692, 0.037618328640115425), (693, 0.03269507144557167), (694, 0.03639639861509958), (695, 0.08417731054302285), (696, 0.0), (697, 0.05400202680734929), (698, 0.04054882987038483), (699, 0.017774083401433858), (700, 0.07046182280661736), (701, 0.0), (702, 0.03710280559211023), (703, 0.08023808484703077), (704, 0.0), (705, 0.050335738986480756), (706, 0.0206770422211749), (707, 0.006856257486512868), (708, 0.008410186680290744), (709, 0.06245419688058891), (710, 0.00757278101041477), (711, 0.009574931655349884), (712, 0.007201815586885706), (713, 0.04053159144333096), (714, 0.013581046705493817), (715, 0.013743660230538149), (716, 0.0), (717, 0.025433130355399437), (718, 0.0), (719, 0.0), (720, 0.007839903386536633), (721, 0.0), (722, 0.0), (723, 0.0), (724, 0.013902900545996254), (725, 0.011418052225210047), (726, 0.012784488954059196), (727, 0.0), (728, 0.0), (729, 0.0), (730, 0.0625068013278611), (731, 0.049346980723801025), (732, 0.009650347341815264), (733, 0.006176074402142253), (734, 0.016874030379693764), (735, 0.020877997834541376), (736, 0.039187842098381775), (737, 0.07094035697178823), (738, 0.0), (739, 0.0), (740, 0.005468373277145796), (741, 0.08696624003977538), (742, 0.06444370813130876), (743, 0.0), (744, 0.024969658091854405), (745, 0.01753169208679949), (746, 0.0), (747, 0.0), (748, 0.04879152751737922), (749, 0.024046933605113657), (750, 0.0), (751, 0.03146957792026351), (752, 0.03171027527366894), (753, 0.04341765921753563), (754, 0.041300494627898005), (755, 0.021526919082442787), (756, 0.034711289158568054), (757, 0.02090352312413624), (758, 0.015408221481263591), (759, 0.0074217190198765555), (760, 0.031827732517357474), (761, 0.0), (762, 0.00937013492184741), (763, 0.010205629444591729), (764, 0.022314319776511927), (765, 0.0), (766, 0.0), (767, 0.025464842189330004), (768, 0.0389306025315644), (769, 0.039508275860555594), (770, 0.007529051470437948), (771, 0.00878204671489714), (772, 0.03171666851829734), (773, 0.014790841283112042), (774, 0.02030100782467204), (775, 0.029663214249154385), (776, 0.014879933566348421), (777, 0.0), (778, 0.01677780663502809), (779, 0.0), (780, 0.10161819266593348), (781, 0.008584623543848986), (782, 0.012879771727982582), (783, 0.05251369704548027), (784, 0.015853340794151478), (785, 0.03002796927348323), (786, 0.012805879195112103), (787, 0.013291440819816635), (788, 0.014038372634403353), (789, 0.0), (790, 0.03839574488426092), (791, 0.0), (792, 0.011499207665674012), (793, 0.022567097350389306), (794, 0.04760533032591183), (795, 0.018071387069102954), (796, 0.005926200786702026), (797, 0.022515329012080882), (798, 0.0), (799, 0.023937490023864198), (800, 0.0), (801, 0.01642175005017353), (802, 0.014686471592339935), (803, 0.0), (804, 0.009723015322482525), (805, 0.0), (806, 0.014012382122816136), (807, 0.023724870322637554), (808, 0.037654750020030915), (809, 0.0), (810, 0.011636302272962645), (811, 0.027550995618077143), (812, 0.03605642519764827), (813, 0.008017097261936983), (814, 0.02116755636144923), (815, 0.026302547679190963), (816, 0.0), (817, 0.0), (818, 0.0), (819, 0.025498988467482185), (820, 0.029341751505509047), (821, 0.01736593177151403), (822, 0.0190420451738064), (823, 0.0), (824, 0.01320438776490842), (825, 0.021478799127397866), (826, 0.0), (827, 0.0), (828, 0.017020301335646842), (829, 0.023453383666583866), (830, 0.03078340343506455), (831, 0.009883006600163982), (832, 0.012663733667062102), (833, 0.024363558648380714), (834, 0.025820951034935355), (835, 0.024614080658852004), (836, 0.007186188254261304), (837, 0.0062661281701901755), (838, 0.042425504011356516), (839, 0.021423337708825763), (840, 0.007892010912857612), (841, 0.00895063734512897), (842, 0.03935299526321739), (843, 0.03786757572282509), (844, 0.015387646880114398), (845, 0.0), (846, 0.13918278862445838), (847, 0.03358671089566154), (848, 0.0), (849, 0.02213634694144923), (850, 0.0), (851, 0.007141028595721582), (852, 0.02021964778984627), (853, 0.011381605321737369), (854, 0.0), (855, 0.026559112349559617), (856, 0.05024148134404827), (857, 0.007882467186652387), (858, 0.009939293781483444), (859, 0.01445267979635995), (860, 0.0), (861, 0.0), (862, 0.019925702772682664), (863, 0.0), (864, 0.0), (865, 0.030069008937719258), (866, 0.016665943358273493), (867, 0.036894628442977445), (868, 0.012606833857893227), (869, 0.008357709973553305), (870, 0.052175828084746925), (871, 0.020131233496745917), (872, 0.023713874738806345), (873, 0.016372755719243452), (874, 0.03209367415800191), (875, 0.0), (876, 0.0), (877, 0.0), (878, 0.012824788367862704), (879, 0.01595141520789712), (880, 0.02834571452021254), (881, 0.022669357479187253), (882, 0.017520099770810177), (883, 0.02650278057962737), (884, 0.008480896228474291), (885, 0.01371407237587358), (886, 0.007642102636664861), (887, 0.014594491441132097), (888, 0.0), (889, 0.023071795992486238), (890, 0.030107247423254074), (891, 0.011387232520207282), (892, 0.04737169942148486), (893, 0.012103209412582291), (894, 0.04262089060507867), (895, 0.010071507065221925), (896, 0.1303562656542937), (897, 0.007192382544680261), (898, 0.007343216003923128), (899, 0.011480927737649268), (900, 0.011644954520918313), (901, 0.0), (902, 0.0), (903, 0.007640975919909398), (904, 0.009595570541501031), (905, 0.026458088564142022), (906, 0.04603290620363996), (907, 0.014060503140061164), (908, 0.02203957721395028), (909, 0.013565980588192153), (910, 0.01228671733377762), (911, 0.0), (912, 0.016673784083815334), (913, 0.0), (914, 0.0), (915, 0.03031630616570927), (916, 0.007553176727506785), (917, 0.0), (918, 0.01389034092359644), (919, 0.0), (920, 0.007483229656715029), (921, 0.035003404600304724), (922, 0.013973370356836982), (923, 0.05693791708546328), (924, 0.02889349327517824), (925, 0.009372883752496848), (926, 0.011925196885673435), (927, 0.0), (928, 0.04318768106433201), (929, 0.01808126297852334), (930, 0.007576462117941826), (931, 0.03869975667874054), (932, 0.01251446707125607), (933, 0.008324957856678679), (934, 0.01996836426861886), (935, 0.06019200544188033), (936, 0.009726765042611886), (937, 0.02559807384950217), (938, 0.048051088382274426), (939, 0.05382168290382906), (940, 0.010700540606660116), (941, 0.007634710283445854), (942, 0.0), (943, 0.008171062728007978), (944, 0.019300962724350144), (945, 0.019200015762315704), (946, 0.02597272708595555), (947, 0.0), (948, 0.03493348049295825), (949, 0.021431253143249982), (950, 0.02289112311167682), (951, 0.03322683183152335), (952, 0.0), (953, 0.0), (954, 0.0), (955, 0.009611239371542308), (956, 0.008930989290090684), (957, 0.053501249731445634), (958, 0.018834462223538215), (959, 0.006933260906444857), (960, 0.014245056892213625), (961, 0.0407227932580748), (962, 0.07175068752716554), (963, 0.01675761808528215), (964, 0.0067954824237395585), (965, 0.008133696086631536), (966, 0.05308484369002701), (967, 0.0), (968, 0.027603404866233187), (969, 0.026710387920871916), (970, 0.02211000629593721), (971, 0.042967191103227), (972, 0.015783622512880274), (973, 0.041837028402369025), (974, 0.0), (975, 0.043782077936329426), (976, 0.023342015156821844), (977, 0.02537202393999995), (978, 0.059586235739032135), (979, 0.0), (980, 0.020427306578109896), (981, 0.009732258296346967), (982, 0.01681921143510652), (983, 0.02724923726863197), (984, 0.0077537752440474846), (985, 0.017490189748551155), (986, 0.0), (987, 0.0), (988, 0.01390504458371942), (989, 0.042318386745904296), (990, 0.008954598484607173), (991, 0.04104273259147386), (992, 0.0), (993, 0.013520992331235196), (994, 0.06419248293258874), (995, 0.02944941670811268), (996, 0.01150256644021381), (997, 0.02942756953086298), (998, 0.033203012997715706), (999, 0.01731861647423457), (1000, 0.03180904687296087), (1001, 0.022168935763560303), (1002, 0.022334615973304273), (1003, 0.05400689017277993), (1004, 0.047978836019520715), (1005, 0.018067043137893878), (1006, 0.09716435650350048), (1007, 0.008581524770940839), (1008, 0.016248144311613054), (1009, 0.08050680179957218), (1010, 0.11559585114321971), (1011, 0.08689133926915701), (1012, 0.0), (1013, 0.00861317887034392), (1014, 0.0), (1015, 0.0), (1016, 0.024393015238269318), (1017, 0.021525607221668765), (1018, 0.0), (1019, 0.0), (1020, 0.006848210422045498), (1021, 0.04953382690956601), (1022, 0.018875089417301802), (1023, 0.043438015453279036), (1024, 0.008490071784876428), (1025, 0.019364045861778333), (1026, 0.05537918761165759), (1027, 0.006825678226516975), (1028, 0.022573537799982453), (1029, 0.0179436538447729), (1030, 0.0), (1031, 0.0), (1032, 0.036113448663533984), (1033, 0.02920850412087693), (1034, 0.006835838642824018), (1035, 0.027165739637556398), (1036, 0.0), (1037, 0.0), (1038, 0.06755035370213806), (1039, 0.0), (1040, 0.03260366399432039), (1041, 0.013140917949161942), (1042, 0.025535724380129778), (1043, 0.01968953992221788), (1044, 0.022897871710640717), (1045, 0.08089412201087252), (1046, 0.048396754931037664), (1047, 0.00849294805552425), (1048, 0.0), (1049, 0.055987706207514386), (1050, 0.0), (1051, 0.0), (1052, 0.04935946087832843), (1053, 0.036662664804169194), (1054, 0.012674194785056754), (1055, 0.02194417173556112), (1056, 0.0), (1057, 0.0), (1058, 0.0), (1059, 0.03831236488443905), (1060, 0.021089906608639755), (1061, 0.029904085718424997), (1062, 0.018521357972412195), (1063, 0.0341381152609984), (1064, 0.0), (1065, 0.02848977109628074), (1066, 0.0), (1067, 0.026704274749218476), (1068, 0.01361357622874189), (1069, 0.0), (1070, 0.006967097884311592), (1071, 0.0), (1072, 0.04159736332642366), (1073, 0.027845595702615536), (1074, 0.008176560254602443), (1075, 0.04449642886622823), (1076, 0.013494642429929954), (1077, 0.02159438127947816), (1078, 0.0067884471173753356), (1079, 0.007496086885051972), (1080, 0.01850911796621078), (1081, 0.024984581123971537), (1082, 0.0), (1083, 0.0), (1084, 0.04090343657904259), (1085, 0.008310109765194263), (1086, 0.025073121177964362), (1087, 0.013645785679839623), (1088, 0.0069682442533139715), (1089, 0.02389033811102307), (1090, 0.035753333462865314), (1091, 0.08763564124474954), (1092, 0.01826209846239857), (1093, 0.023570678888319044), (1094, 0.05372781639976734), (1095, 0.0), (1096, 0.029557478658788904), (1097, 0.0), (1098, 0.0), (1099, 0.00864366794547617), (1100, 0.018647996721989517), (1101, 0.0), (1102, 0.021745287321963097), (1103, 0.0647969830344713), (1104, 0.014735060925285749), (1105, 0.02205237276169554), (1106, 0.01540155764721838), (1107, 0.025513373946011424), (1108, 0.008317309000346025), (1109, 0.10002684889145472), (1110, 0.0), (1111, 0.01831960050806791), (1112, 0.022062388734052307), (1113, 0.007869168936037594), (1114, 0.009956960592100184), (1115, 0.006549909966560797), (1116, 0.015594880993675071), (1117, 0.020874766404166443), (1118, 0.01038683484888547), (1119, 0.0), (1120, 0.0), (1121, 0.0), (1122, 0.02093230949875518), (1123, 0.0), (1124, 0.03527895248158898), (1125, 0.03782246209915066), (1126, 0.04926472938214749), (1127, 0.034874395604571264), (1128, 0.0), (1129, 0.053435680706788474), (1130, 0.01858054708867872), (1131, 0.06460731763846637), (1132, 0.013304572171831728), (1133, 0.0189210400488214), (1134, 0.03005503313883833), (1135, 0.012600160599453757), (1136, 0.0), (1137, 0.016227428507167796), (1138, 0.0), (1139, 0.0985223410562503), (1140, 0.0), (1141, 0.0), (1142, 0.008539707162485024), (1143, 0.0), (1144, 0.0), (1145, 0.009870624131481171), (1146, 0.0), (1147, 0.0), (1148, 0.0), (1149, 0.03552306700430541), (1150, 0.0), (1151, 0.0), (1152, 0.0075572797464379185), (1153, 0.005715350781525605), (1154, 0.0), (1155, 0.03258391467428267), (1156, 0.006691722364597534), (1157, 0.060769915457991264), (1158, 0.02598749409480995), (1159, 0.007064202072814219), (1160, 0.0), (1161, 0.0), (1162, 0.0), (1163, 0.0), (1164, 0.0), (1165, 0.03387921130848421), (1166, 0.03601027858481127), (1167, 0.0), (1168, 0.0), (1169, 0.05089181448832321), (1170, 0.03325419872018931), (1171, 0.0), (1172, 0.0385343774729424), (1173, 0.007376833762346429), (1174, 0.0), (1175, 0.04817480084729517), (1176, 0.050945448355293535), (1177, 0.016972652890668974), (1178, 0.035871513603988874), (1179, 0.013420415360575382), (1180, 0.07202393764564688), (1181, 0.0), (1182, 0.014283219607365533), (1183, 0.035489931074586804), (1184, 0.008143352046544454), (1185, 0.0), (1186, 0.0), (1187, 0.01796384013953807), (1188, 0.04483132709718325), (1189, 0.02303189584352152), (1190, 0.014536387808836758), (1191, 0.0), (1192, 0.0), (1193, 0.00854175387745245), (1194, 0.01884907156961929), (1195, 0.011205665177399687), (1196, 0.008098312711855793), (1197, 0.013534701509499198), (1198, 0.008068919186701887), (1199, 0.02447450859054144), (1200, 0.02521784869114388), (1201, 0.0651877766357442), (1202, 0.011874638253921986), (1203, 0.007653591269403347), (1204, 0.03993411985915688), (1205, 0.04935631983528171), (1206, 0.016843127764373782), (1207, 0.03600881104498418), (1208, 0.03537150437420793), (1209, 0.011315058552696553), (1210, 0.0), (1211, 0.05161131136695914), (1212, 0.016358153029189967), (1213, 0.01665678746202362), (1214, 0.027285413160350554), (1215, 0.031536427670150705), (1216, 0.06353040910307454), (1217, 0.046244430880849105), (1218, 0.0), (1219, 0.054534698537512735), (1220, 0.022704693222132456), (1221, 0.03786691085741557), (1222, 0.019173778556015583), (1223, 0.0), (1224, 0.008509119060594966), (1225, 0.0), (1226, 0.02302619959321844), (1227, 0.02170767629531882), (1228, 0.08417114408125981), (1229, 0.014012787833011296), (1230, 0.0), (1231, 0.021226201631425197), (1232, 0.023048526303836123), (1233, 0.03843495390668881), (1234, 0.056042223988831324), (1235, 0.021103922123033417), (1236, 0.0064915960536754995), (1237, 0.016292805482466383), (1238, 0.03196461403382013), (1239, 0.0), (1240, 0.0), (1241, 0.0), (1242, 0.03542735025484208), (1243, 0.008891059680487447), (1244, 0.00840814341164368), (1245, 0.030408702090180366), (1246, 0.008806103272736902), (1247, 0.07808022720089504), (1248, 0.017244595649534823), (1249, 0.0164391812754781), (1250, 0.0), (1251, 0.03326556533854586), (1252, 0.0), (1253, 0.025174566008879445), (1254, 0.044089862253718394), (1255, 0.06860011812681087), (1256, 0.031362839740143277), (1257, 0.0), (1258, 0.0), (1259, 0.04000285832519125), (1260, 0.009092963548744028), (1261, 0.03624527646920238), (1262, 0.0), (1263, 0.013389938259275235), (1264, 0.0), (1265, 0.0), (1266, 0.0), (1267, 0.018330377724732345), (1268, 0.006525848283584821), (1269, 0.031454656983784), (1270, 0.03915740239764139), (1271, 0.0), (1272, 0.0), (1273, 0.01864681861736364), (1274, 0.026556381461442943), (1275, 0.020789688639125677), (1276, 0.031970956668585376), (1277, 0.03509090496718167), (1278, 0.03426240408545701), (1279, 0.033281261230447216), (1280, 0.0), (1281, 0.03759300542844453), (1282, 0.027880284567764556), (1283, 0.0), (1284, 0.021562881212680834), (1285, 0.0), (1286, 0.014989171472220737), (1287, 0.0), (1288, 0.0208104550007723), (1289, 0.030361839224339215), (1290, 0.0), (1291, 0.017564305738255667), (1292, 0.021782670246701778), (1293, 0.034712672712625334), (1294, 0.013778909243242059), (1295, 0.01070432475115088), (1296, 0.053365555577890196), (1297, 0.05857864423647624), (1298, 0.008106361508421693), (1299, 0.008557018940536308), (1300, 0.006892711576409122), (1301, 0.03351124489469514), (1302, 0.03368987615840528), (1303, 0.0), (1304, 0.008154230327054058), (1305, 0.09142922628569305), (1306, 0.013134580850030582), (1307, 0.0), (1308, 0.007478700008126431), (1309, 0.01395299650541582), (1310, 0.007357161953609036), (1311, 0.009144816132982124), (1312, 0.025368891212171923), (1313, 0.015066492693689724), (1314, 0.019442856249271227), (1315, 0.0), (1316, 0.02241404474351865), (1317, 0.01238804677720536), (1318, 0.00726985956717812), (1319, 0.013734839369962079), (1320, 0.006398958089871819), (1321, 0.02482917457535605), (1322, 0.008298014696069183), (1323, 0.04905419558139942), (1324, 0.007614245536863395), (1325, 0.0), (1326, 0.00665435497105116), (1327, 0.007751494126478019), (1328, 0.01415429646993259), (1329, 0.06909112011477131), (1330, 0.008001949590658825), (1331, 0.029136869220458165), (1332, 0.013876656691951188), (1333, 0.0243905950924663), (1334, 0.011097345733235169), (1335, 0.0), (1336, 0.03298731374393663), (1337, 0.008318677396779533), (1338, 0.0), (1339, 0.0), (1340, 0.018321405294023135), (1341, 0.01783455705076115), (1342, 0.0), (1343, 0.0), (1344, 0.026186456676775556), (1345, 0.029943659577754245), (1346, 0.007178875448705062), (1347, 0.0), (1348, 0.03428405063018237), (1349, 0.0), (1350, 0.006953128596893291), (1351, 0.045270004056820586), (1352, 0.011891652228148258), (1353, 0.04313038773420302), (1354, 0.0), (1355, 0.0), (1356, 0.022852887277924616), (1357, 0.0), (1358, 0.01322842133358692), (1359, 0.017518454350770752), (1360, 0.0), (1361, 0.008280276495961306), (1362, 0.020617438513932298), (1363, 0.014510490020924024), (1364, 0.030412504305450533), (1365, 0.0670543027466331), (1366, 0.034018841900031044), (1367, 0.07890744624074274), (1368, 0.07225547643050942), (1369, 0.008847903824251109), (1370, 0.007028621418691815), (1371, 0.00905493539171059), (1372, 0.032883061227601484), (1373, 0.021459814040874256), (1374, 0.04627630959656135), (1375, 0.02246587922143299), (1376, 0.0077403201618542), (1377, 0.0), (1378, 0.03166629116960914), (1379, 0.007065369275858518), (1380, 0.0), (1381, 0.0), (1382, 0.07272463030402465), (1383, 0.022310931762770474), (1384, 0.021037383671676783), (1385, 0.013595280548037821), (1386, 0.0), (1387, 0.013288882040372403), (1388, 0.008187015771427006), (1389, 0.008583800889002683), (1390, 0.008769925949821771), (1391, 0.0), (1392, 0.024106450557058692), (1393, 0.011350914672928187), (1394, 0.013546273081316078), (1395, 0.0), (1396, 0.0), (1397, 0.007049148954496602), (1398, 0.02912068904132727), (1399, 0.0), (1400, 0.0), (1401, 0.04089327220787177), (1402, 0.039618923420963625), (1403, 0.036664340069525334), (1404, 0.032205862339053), (1405, 0.03805703592200446), (1406, 0.013682185066147686), (1407, 0.0), (1408, 0.0625570237644757), (1409, 0.04858701286274403), (1410, 0.029176330998451717), (1411, 0.018737456378642596), (1412, 0.05056625611747759), (1413, 0.0), (1414, 0.013132561868166406), (1415, 0.005848302121940523), (1416, 0.020937532292710906), (1417, 0.014064463739420226), (1418, 0.0), (1419, 0.03488429758669494), (1420, 0.008118340817194328), (1421, 0.04354544102058395), (1422, 0.02894218023475551), (1423, 0.029438970070299393), (1424, 0.017455784581051945), (1425, 0.0689047978827117), (1426, 0.0), (1427, 0.012533492855392542), (1428, 0.018735693009096516), (1429, 0.0), (1430, 0.02631334240160115), (1431, 0.011069568396268095), (1432, 0.008491040875369825), (1433, 0.035014903098160716), (1434, 0.012254506166974807), (1435, 0.018328206484356097), (1436, 0.0), (1437, 0.009236780883500974), (1438, 0.043721471351322684), (1439, 0.02571017586292931), (1440, 0.013787819693244644), (1441, 0.016482476941854503), (1442, 0.04447907486890824), (1443, 0.03250497127691943), (1444, 0.008111332439335523), (1445, 0.07932723221120526), (1446, 0.030841897144405654), (1447, 0.021848427225617126), (1448, 0.0), (1449, 0.0), (1450, 0.0), (1451, 0.010154252975459072), (1452, 0.0), (1453, 0.024146206528876456), (1454, 0.0), (1455, 0.0), (1456, 0.041846139509880746), (1457, 0.014238846290176566), (1458, 0.07436493919882875), (1459, 0.0), (1460, 0.0), (1461, 0.008242730494236749), (1462, 0.0), (1463, 0.05079703802830985), (1464, 0.03722128697719218), (1465, 0.019829640114992126), (1466, 0.0), (1467, 0.017008750954852894), (1468, 0.0072254101894033305), (1469, 0.008438800627724216), (1470, 0.0), (1471, 0.013361163968074595), (1472, 0.022112797457848967), (1473, 0.008256546578102047), (1474, 0.0), (1475, 0.034580168282921986), (1476, 0.015490438573206778), (1477, 0.025748759875221103), (1478, 0.042289091424119345), (1479, 0.031661865165423554), (1480, 0.0), (1481, 0.012990924209479542), (1482, 0.03733328438596557), (1483, 0.0), (1484, 0.0), (1485, 0.029968635424042045), (1486, 0.008977165853907575), (1487, 0.0077285815819320945), (1488, 0.03615840480732893), (1489, 0.017180400077902093), (1490, 0.0345062675980094), (1491, 0.008883192586547073), (1492, 0.05888255682157104), (1493, 0.013090616329393354), (1494, 0.03809587743530693), (1495, 0.023269619045149535), (1496, 0.02797665005882986), (1497, 0.0), (1498, 0.024620969208529134), (1499, 0.0), (1500, 0.04078478826240681), (1501, 0.05094938069817429), (1502, 0.0), (1503, 0.03836632657644575), (1504, 0.0), (1505, 0.026154270462674767), (1506, 0.04891249048482771), (1507, 0.037084686947648604), (1508, 0.016055436905185835), (1509, 0.021584655571352536), (1510, 0.0), (1511, 0.01598481815825787), (1512, 0.02418902956592055), (1513, 0.008491462687791922), (1514, 0.016674729293126606), (1515, 0.05278322570453802), (1516, 0.0323499326789348), (1517, 0.008115683739599132), (1518, 0.0164669395988349), (1519, 0.021858045277222935), (1520, 0.029967507122415624), (1521, 0.007040190291312925), (1522, 0.0), (1523, 0.11751314675031929), (1524, 0.007465604165672163), (1525, 0.008357762380692966), (1526, 0.021856735546220286), (1527, 0.028189970785127184), (1528, 0.007403881227673541), (1529, 0.02265138302676989), (1530, 0.0058456971523041775), (1531, 0.0), (1532, 0.02102627352947793), (1533, 0.015509518687024987), (1534, 0.027937781749447735), (1535, 0.0), (1536, 0.06236660736557831), (1537, 0.008727271108142198), (1538, 0.046531703352474), (1539, 0.06096463368746098), (1540, 0.0), (1541, 0.006965095947894957), (1542, 0.008439676673324677), (1543, 0.02659634415168688), (1544, 0.007825001000525527), (1545, 0.007816781832260538), (1546, 0.0), (1547, 0.0), (1548, 0.02944317007139577), (1549, 0.03803093784439892), (1550, 0.01228116105320218), (1551, 0.0), (1552, 0.06999598012346876), (1553, 0.031723495505804916), (1554, 0.0), (1555, 0.03298514856910847), (1556, 0.0), (1557, 0.06532416487035857), (1558, 0.02946133572261659), (1559, 0.022095933989053018), (1560, 0.009185771199685284), (1561, 0.03168198642872552), (1562, 0.026067415253756172), (1563, 0.029456758762663314), (1564, 0.019420074670872943), (1565, 0.012202752241110776), (1566, 0.0071438274960558285), (1567, 0.0171765622685809), (1568, 0.0), (1569, 0.049868507224947324), (1570, 0.0), (1571, 0.006739378006582329), (1572, 0.02433692040972424), (1573, 0.013223041087575067), (1574, 0.010909020712919975), (1575, 0.0), (1576, 0.025806879984711817), (1577, 0.021919418384424804), (1578, 0.10436449449836566), (1579, 0.0294675896913408), (1580, 0.06177260667604556), (1581, 0.0), (1582, 0.007825800362705514), (1583, 0.008930553849290349), (1584, 0.009872440222208057), (1585, 0.05890098972617125), (1586, 0.01514889674818274), (1587, 0.00829755255232743), (1588, 0.029405485804952905), (1589, 0.014977140713502804), (1590, 0.0), (1591, 0.0), (1592, 0.04799794557252715), (1593, 0.0), (1594, 0.032792712310068736), (1595, 0.0), (1596, 0.03336705145265916), (1597, 0.020932021214535773), (1598, 0.03177027463147125), (1599, 0.01919843308821898), (1600, 0.014651620976190953), (1601, 0.007235520488903042), (1602, 0.008457480220045218), (1603, 0.01424928289947805), (1604, 0.013462447780526394), (1605, 0.045036484559832224), (1606, 0.057830409092829486), (1607, 0.013071058573891327), (1608, 0.0), (1609, 0.023188404090428213), (1610, 0.014156000247064206), (1611, 0.021802336565638288), (1612, 0.04985440553668546), (1613, 0.008478854962936344), (1614, 0.023079243485952944), (1615, 0.009653157214061677), (1616, 0.03486875708177345), (1617, 0.019295490502892528), (1618, 0.01480474248520932), (1619, 0.007606971225753814), (1620, 0.0), (1621, 0.013800953069816815), (1622, 0.0), (1623, 0.0), (1624, 0.005808608656067259), (1625, 0.012588466927668239), (1626, 0.09393777227170387), (1627, 0.011473467929841713), (1628, 0.006531323561973908), (1629, 0.02138434011617507), (1630, 0.01273572244346055), (1631, 0.0), (1632, 0.010364768352049473), (1633, 0.05048651607976494), (1634, 0.023233004889657984), (1635, 0.0), (1636, 0.0), (1637, 0.008743822395172579), (1638, 0.021490124383656772), (1639, 0.05072602632710889), (1640, 0.008804177550346551), (1641, 0.0), (1642, 0.007544346741132275), (1643, 0.0), (1644, 0.008142306847831616), (1645, 0.0), (1646, 0.026520890749409776), (1647, 0.013233380434940852), (1648, 0.03532447253799634), (1649, 0.010074789735390019), (1650, 0.0), (1651, 0.0), (1652, 0.016819192187947404), (1653, 0.0), (1654, 0.04451870788138556), (1655, 0.040349842820684254), (1656, 0.009345643069273084), (1657, 0.0), (1658, 0.009024833953374094), (1659, 0.0), (1660, 0.008516967054963865), (1661, 0.0), (1662, 0.05167155726457922), (1663, 0.04400051778124842), (1664, 0.0), (1665, 0.0), (1666, 0.02155572324605158), (1667, 0.012901984144141974), (1668, 0.019840166661182546), (1669, 0.02724904469165662), (1670, 0.01412708042454962), (1671, 0.0), (1672, 0.01347580080106255), (1673, 0.007588725937629333), (1674, 0.0), (1675, 0.03376108615437657), (1676, 0.03741213762757164), (1677, 0.03826106847191649), (1678, 0.01074853068311872), (1679, 0.02054525519101242), (1680, 0.06124366393938245), (1681, 0.0), (1682, 0.02698759380959536), (1683, 0.008722868792758414), (1684, 0.007140371654047422), (1685, 0.007552215703593959), (1686, 0.023784952787501284), (1687, 0.0), (1688, 0.00831219485515776), (1689, 0.008552349252941505), (1690, 0.08316873854419074), (1691, 0.0), (1692, 0.049523607135397676), (1693, 0.06544618115725559), (1694, 0.0072374339131578815), (1695, 0.018512665610496856), (1696, 0.014434970261087768), (1697, 0.008390629664051586), (1698, 0.007041035250213597), (1699, 0.0), (1700, 0.03582698892983364), (1701, 0.06500646239686425), (1702, 0.03149018418945223), (1703, 0.02406654826902231), (1704, 0.0), (1705, 0.014373040818885005), (1706, 0.012568134523051448), (1707, 0.03967530065939293), (1708, 0.0), (1709, 0.0076417493048924435), (1710, 0.017067353871960997), (1711, 0.0), (1712, 0.02367198279986088), (1713, 0.0), (1714, 0.059998789755545706), (1715, 0.027139425674657207), (1716, 0.0), (1717, 0.0), (1718, 0.04041239772881485), (1719, 0.013798800711435837), (1720, 0.0), (1721, 0.007627765343804439), (1722, 0.054148034750497905), (1723, 0.01014824000903941), (1724, 0.014620020743410242), (1725, 0.03619297387309821), (1726, 0.02273053407443576), (1727, 0.008475352694945067), (1728, 0.013848560804234637), (1729, 0.0074243788935704725), (1730, 0.0), (1731, 0.016392241060620837), (1732, 0.008712272327682876), (1733, 0.052716882596538256), (1734, 0.03802971751850745), (1735, 0.008406389558119362), (1736, 0.0), (1737, 0.03433083956974903), (1738, 0.0077384548287907475), (1739, 0.0), (1740, 0.0), (1741, 0.02233017955207854), (1742, 0.0), (1743, 0.09097196853941769), (1744, 0.014585992205773798), (1745, 0.0), (1746, 0.031000871541521365), (1747, 0.005555053886500649), (1748, 0.0), (1749, 0.016898983659760038), (1750, 0.007284948103490606), (1751, 0.008247323066570916), (1752, 0.006739551643727859), (1753, 0.0), (1754, 0.027049678554281347), (1755, 0.0), (1756, 0.0), (1757, 0.018679377671921002), (1758, 0.04887916303190581), (1759, 0.05133890540814692), (1760, 0.04083034808623692), (1761, 0.0), (1762, 0.05172474499499068), (1763, 0.07670673190600907), (1764, 0.02172694684434064), (1765, 0.008430822683668243), (1766, 0.008995250713543358), (1767, 0.007830549364851391), (1768, 0.021732353580439814), (1769, 0.008237420551572353), (1770, 0.0), (1771, 0.02925803262595545), (1772, 0.0), (1773, 0.0), (1774, 0.021928949118971967), (1775, 0.0), (1776, 0.023916150403321648), (1777, 0.01948051757223629), (1778, 0.06303678216927035), (1779, 0.015672479705552564), (1780, 0.0), (1781, 0.006935838279190908), (1782, 0.0065285824489136335), (1783, 0.0076698859400969625), (1784, 0.019731611034554855), (1785, 0.06625985630299375), (1786, 0.016816003562471038), (1787, 0.05199833061815505), (1788, 0.007665232252550022), (1789, 0.06587352898335726), (1790, 0.02571796914215887), (1791, 0.03760873384333538), (1792, 0.00957945628470623), (1793, 0.02938283595211899), (1794, 0.007458901397597069), (1795, 0.0), (1796, 0.0), (1797, 0.013404336630297633), (1798, 0.058964101448811354), (1799, 0.029742876934582867), (1800, 0.0), (1801, 0.03145491193795649), (1802, 0.055889109623847716), (1803, 0.02559989015502552), (1804, 0.026179128909374322), (1805, 0.0), (1806, 0.030289338166280377), (1807, 0.030838696529087516), (1808, 0.01939003180507048), (1809, 0.009769784165778197), (1810, 0.0), (1811, 0.01460218957603328), (1812, 0.0), (1813, 0.01429141688142702), (1814, 0.06035352429593081), (1815, 0.0), (1816, 0.07850397544040819), (1817, 0.0), (1818, 0.07649886730357663), (1819, 0.0066501326495701065), (1820, 0.04271148538405585), (1821, 0.030292948953259572), (1822, 0.008604919692357474), (1823, 0.0), (1824, 0.030252440540568984), (1825, 0.0), (1826, 0.0), (1827, 0.06110419337214414), (1828, 0.04579931262725591), (1829, 0.0), (1830, 0.03200011255028142), (1831, 0.03397815022167258), (1832, 0.02941814500765517), (1833, 0.037684906886132866), (1834, 0.008081155013560137), (1835, 0.02440577392589874), (1836, 0.00905069628772524), (1837, 0.008071515423204223), (1838, 0.0), (1839, 0.0077844577986308765), (1840, 0.0), (1841, 0.0), (1842, 0.007975640483688096), (1843, 0.0), (1844, 0.0089494613902778), (1845, 0.030323262162663473), (1846, 0.0), (1847, 0.00841617509807138), (1848, 0.008775036010986345), (1849, 0.008024783400197263), (1850, 0.007030919105683448), (1851, 0.015917786189013575), (1852, 0.010660361088123094), (1853, 0.0), (1854, 0.0), (1855, 0.007624453327375496), (1856, 0.032220615765671784), (1857, 0.0), (1858, 0.0079871872480909), (1859, 0.011398967584024), (1860, 0.09070454951679363), (1861, 0.022969008304933116), (1862, 0.0), (1863, 0.0), (1864, 0.012909803423906971), (1865, 0.009807020187392865), (1866, 0.03319280122262677), (1867, 0.06779767276987846), (1868, 0.015268520828559829), (1869, 0.01875653463261348), (1870, 0.023308675494413948), (1871, 0.03378345897090414), (1872, 0.0), (1873, 0.01343556137169821), (1874, 0.0), (1875, 0.006554904860315998), (1876, 0.03802798476272232), (1877, 0.021137372773277985), (1878, 0.04843289735601071), (1879, 0.03981919224556394), (1880, 0.014907055296867342), (1881, 0.0859942516183292), (1882, 0.0), (1883, 0.03284976405016607), (1884, 0.0), (1885, 0.008363701334203747), (1886, 0.0), (1887, 0.0), (1888, 0.09943382716462498), (1889, 0.008275803607841211), (1890, 0.01381986445875215), (1891, 0.0), (1892, 0.0), (1893, 0.060709715842234696), (1894, 0.0), (1895, 0.007678888153249638), (1896, 0.0), (1897, 0.06118539045505361), (1898, 0.0076221401973299826), (1899, 0.021322394545441867), (1900, 0.007848000887796339), (1901, 0.0), (1902, 0.008568095010056011), (1903, 0.08501915667581915), (1904, 0.0), (1905, 0.016669211020986428), (1906, 0.008179175583101557), (1907, 0.0087742975918721), (1908, 0.0), (1909, 0.008101997698788265), (1910, 0.02973593874106177), (1911, 0.04192400679022274), (1912, 0.021207554349823236), (1913, 0.020335112889997575), (1914, 0.03411029207357816), (1915, 0.030607298878596017), (1916, 0.0), (1917, 0.008367567909696103), (1918, 0.0), (1919, 0.0056974206522520795), (1920, 0.02254993236352819), (1921, 0.012134849079423065), (1922, 0.0), (1923, 0.009053034877439576), (1924, 0.0), (1925, 0.018873943915755587), (1926, 0.023089899989213673), (1927, 0.036706356138837326), (1928, 0.04082928198437681), (1929, 0.0077710292647287325), (1930, 0.0), (1931, 0.04722993707970197), (1932, 0.0), (1933, 0.0), (1934, 0.034602603763677506), (1935, 0.10090945691989309), (1936, 0.0), (1937, 0.04321664812161694), (1938, 0.049294800445967756), (1939, 0.041687195884019694), (1940, 0.0), (1941, 0.038520364322035906), (1942, 0.03374799755030152), (1943, 0.007095128606698088), (1944, 0.006770246157382267), (1945, 0.0), (1946, 0.00733503659598043), (1947, 0.00946283000334558), (1948, 0.02490164696726479), (1949, 0.00845084965366108), (1950, 0.005830514968166552), (1951, 0.05293770848114866), (1952, 0.0), (1953, 0.013602346421590914), (1954, 0.0320229924647239), (1955, 0.016060216483758855), (1956, 0.11211215236436864), (1957, 0.029678552664359426), (1958, 0.0), (1959, 0.015143459105993472), (1960, 0.0), (1961, 0.022385600245581023), (1962, 0.0), (1963, 0.023697060355569177), (1964, 0.013306760883063921), (1965, 0.033203936347004685), (1966, 0.0), (1967, 0.010501888803697498), (1968, 0.0), (1969, 0.014206100545038588), (1970, 0.02448589877040102), (1971, 0.024414478049655918), (1972, 0.0), (1973, 0.03346426548266188), (1974, 0.04868283362189631), (1975, 0.0), (1976, 0.0), (1977, 0.03815850404005992), (1978, 0.04471544970538492), (1979, 0.012881221364638791), (1980, 0.01848231861239938), (1981, 0.006807422294590298), (1982, 0.007466356778885276), (1983, 0.012971354805332612), (1984, 0.014052822578818246), (1985, 0.02428414049161265), (1986, 0.008061643980430725), (1987, 0.00748254028008984), (1988, 0.0), (1989, 0.01759786281896977), (1990, 0.0), (1991, 0.0541206856223016), (1992, 0.06862893355254772), (1993, 0.03983425277859956), (1994, 0.03213356791144791), (1995, 0.0), (1996, 0.05297194088484869), (1997, 0.02406101993853776), (1998, 0.0), (1999, 0.034224249978898405), (2000, 0.03893528092167453), (2001, 0.04608999138285996), (2002, 0.008531675521100885), (2003, 0.01477123734085485), (2004, 0.0067088931114207585), (2005, 0.007329756278093637), (2006, 0.013039281306843939), (2007, 0.033690525445328676), (2008, 0.0), (2009, 0.08053040622458976), (2010, 0.0), (2011, 0.006490686021289925), (2012, 0.00937442582832612), (2013, 0.0), (2014, 0.031616980579167904), (2015, 0.0), (2016, 0.01528179797900469), (2017, 0.013698106498462415), (2018, 0.0066488564927107505), (2019, 0.008095611009418763), (2020, 0.01536891668038353), (2021, 0.00882349217504196), (2022, 0.020247751998652953), (2023, 0.02225904537407869), (2024, 0.0), (2025, 0.02151275752946844), (2026, 0.015277463552563441), (2027, 0.026044890038852443), (2028, 0.029122480706046415), (2029, 0.0), (2030, 0.0), (2031, 0.0), (2032, 0.06745033357830874), (2033, 0.007414699320483749), (2034, 0.0), (2035, 0.015205051228397772), (2036, 0.03509654811833452), (2037, 0.03332049986729735), (2038, 0.026031217850872566), (2039, 0.016625389832458867), (2040, 0.0), (2041, 0.03991680679922515), (2042, 0.008506036072755638), (2043, 0.03591146279787331), (2044, 0.007582124299071605), (2045, 0.0), (2046, 0.008141360101635218), (2047, 0.0), (2048, 0.020165985448887362), (2049, 0.01685596475348012), (2050, 0.021809137496988935), (2051, 0.07699970863065622), (2052, 0.007602087682467358), (2053, 0.03556429537792438), (2054, 0.0), (2055, 0.0), (2056, 0.035612045850539745), (2057, 0.0), (2058, 0.03259073353421186), (2059, 0.007109235195583405), (2060, 0.03721093556591115), (2061, 0.0), (2062, 0.010467471626030988), (2063, 0.023642794069251055), (2064, 0.028990674877487445), (2065, 0.0), (2066, 0.02616679494172001), (2067, 0.0), (2068, 0.06672043164088881), (2069, 0.0), (2070, 0.021003119358428857), (2071, 0.007583423780255309), (2072, 0.013908292752385974), (2073, 0.05194963921591009), (2074, 0.009543480214262929), (2075, 0.025672440621521644), (2076, 0.006874986439584772), (2077, 0.009941268862145941), (2078, 0.014257673977813816), (2079, 0.009305451830210337), (2080, 0.0), (2081, 0.008160144250038179), (2082, 0.008843224127244377), (2083, 0.0), (2084, 0.02364561187134038), (2085, 0.0), (2086, 0.0162842948918173), (2087, 0.029633243102045608), (2088, 0.014225973237787596), (2089, 0.0), (2090, 0.027217644929910714), (2091, 0.0), (2092, 0.008373805022640792), (2093, 0.007538965491294764), (2094, 0.0), (2095, 0.0), (2096, 0.0), (2097, 0.0), (2098, 0.006972703842773202), (2099, 0.007619054532875972), (2100, 0.010395002735184757), (2101, 0.01673164407720745), (2102, 0.026300423174529367), (2103, 0.04019799356205812), (2104, 0.01154505368896353), (2105, 0.020863431879907732), (2106, 0.024232617850489146), (2107, 0.05088699097352081), (2108, 0.03686820607947418), (2109, 0.041505245832720195), (2110, 0.02205011603342064), (2111, 0.0934192340895286), (2112, 0.0), (2113, 0.01733386996297983), (2114, 0.05707140963486685), (2115, 0.0), (2116, 0.059708032866144296), (2117, 0.013428446029177503), (2118, 0.029325078828877783), (2119, 0.01833498992860473), (2120, 0.0), (2121, 0.026254338828790687), (2122, 0.033554605953720604), (2123, 0.0), (2124, 0.008735906498495009), (2125, 0.019731111826013545), (2126, 0.023988137226101738), (2127, 0.0), (2128, 0.00801587561040491), (2129, 0.018314073545707663), (2130, 0.0), (2131, 0.014687815263205), (2132, 0.016368451141339484), (2133, 0.0), (2134, 0.0), (2135, 0.0), (2136, 0.02661250710796219), (2137, 0.01155335373173328), (2138, 0.02510571815227784), (2139, 0.0), (2140, 0.02830871549137368), (2141, 0.034356679053972605), (2142, 0.059422772822943365), (2143, 0.06824269058146622), (2144, 0.021321227951100384), (2145, 0.014479096560320858), (2146, 0.006966243109590129), (2147, 0.0467095053191322), (2148, 0.01689800703618697), (2149, 0.019356212140257723), (2150, 0.007893791122442553), (2151, 0.017382098331307123), (2152, 0.0), (2153, 0.032885402300826504), (2154, 0.028064487361059116), (2155, 0.018262142016393736), (2156, 0.026722539539984914), (2157, 0.01827170019396055), (2158, 0.022108579495503412), (2159, 0.04832615194510062), (2160, 0.031256668105023644), (2161, 0.0857634440920569), (2162, 0.0), (2163, 0.0), (2164, 0.009123957280624486), (2165, 0.0), (2166, 0.007676961901479633), (2167, 0.05009577226878538), (2168, 0.01308376190871741), (2169, 0.025318326750216037), (2170, 0.014298362903523956), (2171, 0.013454973085297278), (2172, 0.0), (2173, 0.0), (2174, 0.03843308399042887), (2175, 0.02903224500577795), (2176, 0.019889995844633957), (2177, 0.04353339919765027), (2178, 0.0), (2179, 0.007657713770883893), (2180, 0.0), (2181, 0.0), (2182, 0.04669352135070197), (2183, 0.007559042675270286), (2184, 0.0), (2185, 0.02500876435085796), (2186, 0.017330350349232453), (2187, 0.03184189074114236), (2188, 0.0), (2189, 0.03265142698575742), (2190, 0.029726131500738696), (2191, 0.009694906792043002), (2192, 0.022307210874724565), (2193, 0.028973076445274616), (2194, 0.05804624224996281), (2195, 0.01954113467348042), (2196, 0.011431847256784452), (2197, 0.022968403517407622), (2198, 0.0), (2199, 0.05836152376605856), (2200, 0.008330025842671144), (2201, 0.050325184479625855), (2202, 0.0475012839753612), (2203, 0.04035003240598654), (2204, 0.016074052081492683), (2205, 0.0), (2206, 0.05446392768089403), (2207, 0.033063541457206226), (2208, 0.00863962171760808), (2209, 0.009075035828490566), (2210, 0.013646816160147532), (2211, 0.03591909686258335), (2212, 0.00712262177345635), (2213, 0.0), (2214, 0.019491904415572248), (2215, 0.00765126137171534), (2216, 0.0), (2217, 0.008533655908908469), (2218, 0.009062290652314555), (2219, 0.02218525636071167), (2220, 0.0155225544497281), (2221, 0.052211300336256164), (2222, 0.02362471429250302), (2223, 0.04106293290788372), (2224, 0.012736497231249975), (2225, 0.0074662287428934795), (2226, 0.0484248561293765), (2227, 0.015756291927465985), (2228, 0.010550190923860546), (2229, 0.014668303555093501), (2230, 0.0073307199262991835), (2231, 0.0), (2232, 0.0), (2233, 0.0), (2234, 1.0), (2235, 0.05029269508060354), (2236, 0.020754808187580312), (2237, 0.049772720559035345), (2238, 0.0), (2239, 0.0), (2240, 0.03869462037746425), (2241, 0.00847655164679193), (2242, 0.014532735960767595), (2243, 0.0), (2244, 0.0), (2245, 0.02773971990343696), (2246, 0.019727539182192798), (2247, 0.01582968724395662), (2248, 0.0), (2249, 0.06322797907065175), (2250, 0.028082097111470517), (2251, 0.0), (2252, 0.0), (2253, 0.03622631767884431), (2254, 0.03953133265804624), (2255, 0.0), (2256, 0.028040477707536423), (2257, 0.0), (2258, 0.05409943224791351), (2259, 0.024572608510972285), (2260, 0.008720033339649791), (2261, 0.009448668320256749), (2262, 0.017082886574224104), (2263, 0.032815025739869615), (2264, 0.0316036341943108), (2265, 0.00740011751303593), (2266, 0.03312590777974859), (2267, 0.0), (2268, 0.013113548876815916), (2269, 0.008284575148201934), (2270, 0.007043060383025344), (2271, 0.007714402220777572), (2272, 0.007571536545469495), (2273, 0.0), (2274, 0.0075003818964557364), (2275, 0.0), (2276, 0.018507464334459475), (2277, 0.0), (2278, 0.0), (2279, 0.012135192557660258), (2280, 0.008074900878371923), (2281, 0.010814529220401709), (2282, 0.01047312585528972), (2283, 0.0), (2284, 0.008195503042579483), (2285, 0.0), (2286, 0.046878921061157916), (2287, 0.011910480499887771), (2288, 0.0), (2289, 0.0), (2290, 0.026704590025143422), (2291, 0.0), (2292, 0.035245615142575945), (2293, 0.0), (2294, 0.015565427532668286), (2295, 0.0), (2296, 0.006847545256986383), (2297, 0.021146464384363337), (2298, 0.008043893767972255), (2299, 0.028812124706032834), (2300, 0.0), (2301, 0.006529545117393644), (2302, 0.017366318009157684), (2303, 0.007687979884255801), (2304, 0.01821558317505861), (2305, 0.009323022279288546), (2306, 0.05744803109826711), (2307, 0.00836127257810511), (2308, 0.04684967602712768), (2309, 0.03689560059748014), (2310, 0.0), (2311, 0.01783706059671633), (2312, 0.011735750127702739), (2313, 0.029491742107710116), (2314, 0.0), (2315, 0.02403738481407556), (2316, 0.02491467539846677), (2317, 0.010002432338059756), (2318, 0.0), (2319, 0.043360229521152094), (2320, 0.017774527846038328), (2321, 0.029593700550612775), (2322, 0.022279721583391632), (2323, 0.0), (2324, 0.0), (2325, 0.008462324772252627), (2326, 0.008488563899324172), (2327, 0.030731236474551178), (2328, 0.008761065138303761), (2329, 0.01859880272570395), (2330, 0.0), (2331, 0.012544920087865095), (2332, 0.0), (2333, 0.018201018947668183), (2334, 0.0), (2335, 0.04789308792029154), (2336, 0.008105768354595852), (2337, 0.014210519694356442), (2338, 0.0064491426825217515), (2339, 0.009258286211632494), (2340, 0.022928750914716356), (2341, 0.0), (2342, 0.021478084248991884), (2343, 0.0), (2344, 0.007152933161098774), (2345, 0.0), (2346, 0.0), (2347, 0.030078790583931043), (2348, 0.007678067006016292), (2349, 0.00988333222500816), (2350, 0.0), (2351, 0.024595976938800702), (2352, 0.011964298090827028), (2353, 0.026872052458895276), (2354, 0.01359174109728067), (2355, 0.0), (2356, 0.0), (2357, 0.009254051335756151), (2358, 0.0), (2359, 0.07310979052079719), (2360, 0.0072041127790002735), (2361, 0.0), (2362, 0.017960036479582255), (2363, 0.010073599163278218), (2364, 0.006553983791805079), (2365, 0.0), (2366, 0.007229040217959241), (2367, 0.05025924955596793), (2368, 0.04729116163179898), (2369, 0.0), (2370, 0.014585010512500787), (2371, 0.008830283180144009), (2372, 0.015566908064127943), (2373, 0.006798079095894851), (2374, 0.0), (2375, 0.0515082359120486), (2376, 0.0), (2377, 0.006470825561569918), (2378, 0.012722083144381025), (2379, 0.011764179033577495), (2380, 0.008526414945767983), (2381, 0.009088398581417308), (2382, 0.0), (2383, 0.0), (2384, 0.009078652278277685), (2385, 0.01610380970525709), (2386, 0.007297864880689143), (2387, 0.02056141126349277), (2388, 0.008763515940358662), (2389, 0.007271141734026173), (2390, 0.02317205606764757), (2391, 0.037439866241293494), (2392, 0.0), (2393, 0.014939873489410158), (2394, 0.008589284456154965), (2395, 0.10928246681676229), (2396, 0.00822560804412927), (2397, 0.015550013714243598), (2398, 0.03181732497527493), (2399, 0.035588916130443016), (2400, 0.0), (2401, 0.0), (2402, 0.04276014270082813), (2403, 0.04259365702782703), (2404, 0.01108722182986006), (2405, 0.021984346002772433), (2406, 0.0), (2407, 0.009867053640137687), (2408, 0.01457661900350937), (2409, 0.03672026737806576), (2410, 0.016773168933352497), (2411, 0.009230272725463942), (2412, 0.006198036789026067), (2413, 0.0), (2414, 0.0), (2415, 0.008661579244063284), (2416, 0.0), (2417, 0.0), (2418, 0.0), (2419, 0.025797655680234313), (2420, 0.017126273312872385), (2421, 0.011014404714434389), (2422, 0.02693145870576668), (2423, 0.01027293497256466), (2424, 0.007388561984020112), (2425, 0.0), (2426, 0.007347297313926144), (2427, 0.0), (2428, 0.0), (2429, 0.022277474218933814), (2430, 0.031827967787904525), (2431, 0.01573610396575216), (2432, 0.01728002798720541), (2433, 0.007138358158158084), (2434, 0.01827845572261271), (2435, 0.008049392916925973), (2436, 0.009110684916165464), (2437, 0.0), (2438, 0.0), (2439, 0.01771238382734165), (2440, 0.008278410353936661), (2441, 0.04165094120845672), (2442, 0.027380897745859924), (2443, 0.015523591269678219), (2444, 0.02200608114607213), (2445, 0.02105135949611837), (2446, 0.0075710972510713865), (2447, 0.020612039802074964), (2448, 0.05390790599273455), (2449, 0.008204313210484074), (2450, 0.02059184882931418), (2451, 0.0), (2452, 0.008942804662957165), (2453, 0.006560536301743316), (2454, 0.0), (2455, 0.010346426415718375), (2456, 0.008413307367600698), (2457, 0.07369961649361191), (2458, 0.00888329632853638), (2459, 0.01652689144202912), (2460, 0.030158371651855125), (2461, 0.032206586965947165), (2462, 0.0), (2463, 0.0), (2464, 0.008940043661568486), (2465, 0.02690514752811734), (2466, 0.013784481450310178), (2467, 0.014751449432652074), (2468, 0.03512415638685774), (2469, 0.0), (2470, 0.0), (2471, 0.0), (2472, 0.03010541446519106), (2473, 0.0), (2474, 0.0), (2475, 0.007676391052524196), (2476, 0.0), (2477, 0.0), (2478, 0.009357706131251923), (2479, 0.009102575254970024), (2480, 0.013306914562570816), (2481, 0.02631192649735533), (2482, 0.012372013039373941), (2483, 0.010750182601730897), (2484, 0.0), (2485, 0.0), (2486, 0.009306881272310859), (2487, 0.03183451830147542), (2488, 0.045462085209816344), (2489, 0.007274418008185955), (2490, 0.011748903243621657), (2491, 0.05068237751152162), (2492, 0.015385310753048501), (2493, 0.02381011776700833), (2494, 0.016484345622137832), (2495, 0.00815080114311786), (2496, 0.0), (2497, 0.0075285236867962185), (2498, 0.0), (2499, 0.017333866672234584), (2500, 0.02133234980240491), (2501, 0.03841914777614485), (2502, 0.006297875437971653), (2503, 0.0), (2504, 0.00795877060394675), (2505, 0.0), (2506, 0.0), (2507, 0.020598198266039227), (2508, 0.006747288516042183), (2509, 0.03303461913706428), (2510, 0.00934424417174478), (2511, 0.01584811374597857), (2512, 0.0524030486728916), (2513, 0.0), (2514, 0.03479258772826415), (2515, 0.010120238449861187), (2516, 0.008637047777481104), (2517, 0.04197296979085107), (2518, 0.0294404094879712), (2519, 0.015771170424927226), (2520, 0.009371247708129036), (2521, 0.0), (2522, 0.0), (2523, 0.014088916903693679), (2524, 0.011861765731748533), (2525, 0.022818448043567627), (2526, 0.01204425124431162), (2527, 0.006139306639334171), (2528, 0.04366017547743867), (2529, 0.02219456674145797), (2530, 0.0), (2531, 0.015934530783414863), (2532, 0.0), (2533, 0.01365660066347278), (2534, 0.04573086841791393), (2535, 0.01694621644286004), (2536, 0.010648329488742577), (2537, 0.011182297149036693), (2538, 0.047382864965303105), (2539, 0.007076290540917557), (2540, 0.010303045544474075), (2541, 0.009173643662573039), (2542, 0.040403291948262296), (2543, 0.019184910721822823), (2544, 0.008954807498942655), (2545, 0.0), (2546, 0.021451406609540462), (2547, 0.0), (2548, 0.029372965728048296), (2549, 0.0), (2550, 0.018810932742336493), (2551, 0.008282506455887755), (2552, 0.04422013818871126), (2553, 0.10774072418745927), (2554, 0.008223318985455955), (2555, 0.0), (2556, 0.0), (2557, 0.0), (2558, 0.0), (2559, 0.009383509558973088), (2560, 0.05886778647393576), (2561, 0.008504296301100217), (2562, 0.010223394275188449), (2563, 0.00894061988966973), (2564, 0.03763980990681382), (2565, 0.014238445847106807), (2566, 0.06085285663196848), (2567, 0.015927797092064867), (2568, 0.017121779082512775), (2569, 0.008054677569424466), (2570, 0.041257816275953), (2571, 0.0), (2572, 0.0), (2573, 0.012066594317502533), (2574, 0.0), (2575, 0.008909484232735332), (2576, 0.0), (2577, 0.0), (2578, 0.0), (2579, 0.029652425848216757), (2580, 0.029431224763848275), (2581, 0.010186307302468344), (2582, 0.02929126644231481), (2583, 0.014760875190300756), (2584, 0.02740852358239182), (2585, 0.0), (2586, 0.023174005113969984), (2587, 0.014467772954683343), (2588, 0.05343873016879741), (2589, 0.034733152980145156), (2590, 0.020083077673705464), (2591, 0.03372639469424936), (2592, 0.07905644551613401), (2593, 0.0), (2594, 0.014321048682832415), (2595, 0.014558199417786773), (2596, 0.0), (2597, 0.035624969825529824), (2598, 0.020952663187903366), (2599, 0.023935833708816766), (2600, 0.010284205486483065), (2601, 0.019775232461355808), (2602, 0.014875135677784318), (2603, 0.050456381156099114), (2604, 0.00887105437242811), (2605, 0.00850931209624659), (2606, 0.02472469853700048), (2607, 0.006398199472356945), (2608, 0.07742680913703344), (2609, 0.021930140043812874), (2610, 0.06083011831380075), (2611, 0.0462269116584835), (2612, 0.014216954614359394), (2613, 0.0), (2614, 0.021274197267738607), (2615, 0.020576716094027683), (2616, 0.007970172171952929), (2617, 0.010980770175900814), (2618, 0.0), (2619, 0.019632931994815972), (2620, 0.007778422109213442), (2621, 0.0), (2622, 0.009171593764569977), (2623, 0.0), (2624, 0.0), (2625, 0.08854311526668238), (2626, 0.023677317685069407), (2627, 0.011295582947550592), (2628, 0.0), (2629, 0.05793050094207568), (2630, 0.014295556095624346), (2631, 0.04579684768950569), (2632, 0.010556191610417308), (2633, 0.03150579400072569), (2634, 0.01683536355088113), (2635, 0.009551337228974437), (2636, 0.01483859548080468), (2637, 0.060146976661632746), (2638, 0.0), (2639, 0.007997821801567141), (2640, 0.02925839137255178), (2641, 0.0), (2642, 0.04089491689862158), (2643, 0.009231726834637204), (2644, 0.020676238401816354), (2645, 0.0), (2646, 0.04466864753897478), (2647, 0.023940441608652954), (2648, 0.008405385906066737), (2649, 0.0189595017645652), (2650, 0.007416286457053788), (2651, 0.0), (2652, 0.00721636307991042), (2653, 0.007866108840724072), (2654, 0.024109102670660847), (2655, 0.017787519125040858), (2656, 0.010292062260079834), (2657, 0.011940282329828624), (2658, 0.0), (2659, 0.011741822742810333), (2660, 0.007058884761798495), (2661, 0.05078383287233293), (2662, 0.03956265837824889), (2663, 0.08052771346779042), (2664, 0.007609935706882504), (2665, 0.006712116153537298), (2666, 0.01997549786889925), (2667, 0.011107597499060573), (2668, 0.0111229908474377), (2669, 0.012055015758728535), (2670, 0.0), (2671, 0.019169940432080663), (2672, 0.009136556021593212), (2673, 0.0), (2674, 0.0), (2675, 0.008545182801313979), (2676, 0.009347259828060839), (2677, 0.014897037436446325), (2678, 0.024900795017746266), (2679, 0.0), (2680, 0.0), (2681, 0.014699386501759112), (2682, 0.032507942396896757), (2683, 0.0), (2684, 0.011804759354599164), (2685, 0.02248022369478239), (2686, 0.009341529097448138), (2687, 0.07279170959336177), (2688, 0.006993441409326084), (2689, 0.025056742230385076), (2690, 0.007740645156479183), (2691, 0.0), (2692, 0.0), (2693, 0.042625156168360254), (2694, 0.0), (2695, 0.0), (2696, 0.04936377640637315), (2697, 0.0), (2698, 0.010532505186411944), (2699, 0.04113679784411595), (2700, 0.0), (2701, 0.024745513301420594), (2702, 0.017474948247025383), (2703, 0.012618734692789792), (2704, 0.0), (2705, 0.00772899232190884), (2706, 0.007749625208183439), (2707, 0.0), (2708, 0.0), (2709, 0.008155066345695182), (2710, 0.0), (2711, 0.0), (2712, 0.020259750071298335), (2713, 0.0), (2714, 0.024617295894767643), (2715, 0.02712742086883318), (2716, 0.02133160954534518), (2717, 0.0), (2718, 0.0), (2719, 0.0), (2720, 0.009553774241255447), (2721, 0.0070829775478225025), (2722, 0.011443341066238418), (2723, 0.0), (2724, 0.0), (2725, 0.025915904096757605), (2726, 0.016834209988961586), (2727, 0.00980438301865159), (2728, 0.007419734024433036), (2729, 0.031712750360972826), (2730, 0.07962281905359257), (2731, 0.010941861346844155), (2732, 0.15426261394444393), (2733, 0.0), (2734, 0.017605666402765036), (2735, 0.0), (2736, 0.0), (2737, 0.025563899832138262), (2738, 0.035475821990025684), (2739, 0.0), (2740, 0.00803703560994798), (2741, 0.019944471518990176), (2742, 0.03965678576094605), (2743, 0.0), (2744, 0.03451940658584493), (2745, 0.020752831407705986), (2746, 0.04051283360241773), (2747, 0.020311529678989512), (2748, 0.016626176955853566), (2749, 0.051857521395367916), (2750, 0.012752760903861852), (2751, 0.03266645930740519), (2752, 0.02597377599548827), (2753, 0.03690866571209675), (2754, 0.008546052512241659), (2755, 0.0351239461462487), (2756, 0.025971140484364122), (2757, 0.0), (2758, 0.006923017735169209), (2759, 0.02487766373165745), (2760, 0.03034036154644066), (2761, 0.03333212704203158), (2762, 0.02491473855314125), (2763, 0.00796076710541333), (2764, 0.02178297666640027), (2765, 0.012758407322432188), (2766, 0.05182749760229148), (2767, 0.0), (2768, 0.0), (2769, 0.0470298400459915), (2770, 0.006740774193880133), (2771, 0.02291070095712088), (2772, 0.03312474996017763), (2773, 0.024514793243186953), (2774, 0.01646602819060776), (2775, 0.00969040583654693), (2776, 0.10465887455383166), (2777, 0.012419550474259036), (2778, 0.0), (2779, 0.08886512504107094), (2780, 0.022930568463628054), (2781, 0.009823659217396119), (2782, 0.025460396948631177), (2783, 0.0), (2784, 0.0), (2785, 0.0), (2786, 0.008729368714201493), (2787, 0.007751143175793192), (2788, 0.022305795049517296), (2789, 0.02806527699176532), (2790, 0.0), (2791, 0.0), (2792, 0.019088698916252037), (2793, 0.03697561020112672), (2794, 0.01582895367266146), (2795, 0.0), (2796, 0.009328653299759071), (2797, 0.018714326357616086), (2798, 0.04374943096320399), (2799, 0.009123532357781516), (2800, 0.0), (2801, 0.009273341342737235), (2802, 0.03133677206085002), (2803, 0.0), (2804, 0.045776208796018424), (2805, 0.013370084789077658), (2806, 0.007905281811731453), (2807, 0.04879390853031915), (2808, 0.0), (2809, 0.08366843710317073), (2810, 0.009135763374390581), (2811, 0.008926672612672519), (2812, 0.007682166025404623), (2813, 0.01900225306252181), (2814, 0.03742618150142068), (2815, 0.03564167814129437), (2816, 0.015820152908851096), (2817, 0.027830514837197697), (2818, 0.011415074289759523), (2819, 0.0), (2820, 0.03060989424321009), (2821, 0.007577858505223301), (2822, 0.0070349754620761765), (2823, 0.015435401469391511), (2824, 0.019255661022680844), (2825, 0.008052727125170663), (2826, 0.01086801698735789), (2827, 0.0), (2828, 0.0), (2829, 0.018166933200743477), (2830, 0.022882439656566583), (2831, 0.09062170004217254), (2832, 0.02006533518740492), (2833, 0.02324559598095213), (2834, 0.018968769945736104), (2835, 0.0), (2836, 0.03478178261103389), (2837, 0.0), (2838, 0.019539782853630124), (2839, 0.0), (2840, 0.0), (2841, 0.0), (2842, 0.0), (2843, 0.035739219648079204), (2844, 0.04451098701605553), (2845, 0.026450378771552374), (2846, 0.009538124298891587), (2847, 0.022965326501264205), (2848, 0.025096543813119623), (2849, 0.0), (2850, 0.01334020172440438), (2851, 0.0), (2852, 0.03027832920765154), (2853, 0.012392298214443334), (2854, 0.03703047872962407), (2855, 0.012965936471144735), (2856, 0.02867348453157051), (2857, 0.04621021193303085), (2858, 0.01155399869964722), (2859, 0.01857537023384884), (2860, 0.0), (2861, 0.0), (2862, 0.016707261233513966), (2863, 0.0073599255422043906), (2864, 0.015913123105678165), (2865, 0.040711342888276), (2866, 0.014227573832739994), (2867, 0.0), (2868, 0.0), (2869, 0.0), (2870, 0.009676554823565905), (2871, 0.0), (2872, 0.017599800139767446), (2873, 0.024503038711956287), (2874, 0.007565519010981204), (2875, 0.02618997523225828), (2876, 0.02781768007065486), (2877, 0.012836300606021873), (2878, 0.021673366577149838), (2879, 0.0), (2880, 0.016478876022367573), (2881, 0.024814549512432674), (2882, 0.024854233064290125), (2883, 0.009659559951533564), (2884, 0.009409976022412852), (2885, 0.0), (2886, 0.006810142371363808), (2887, 0.0), (2888, 0.0), (2889, 0.0), (2890, 0.007876564265409038), (2891, 0.02165754862802516), (2892, 0.006775781273202395), (2893, 0.026582744546993768), (2894, 0.0073251097592718), (2895, 0.0), (2896, 0.008277828710101109), (2897, 0.0498180996355506), (2898, 0.0), (2899, 0.0), (2900, 0.0), (2901, 0.0), (2902, 0.0), (2903, 0.04764109193442993), (2904, 0.022735395575145943), (2905, 0.0), (2906, 0.0), (2907, 0.006620128334250612), (2908, 0.024570203296392236), (2909, 0.03468926140613147), (2910, 0.0), (2911, 0.007428961049025668), (2912, 0.018360582667267852), (2913, 0.00668607530805693), (2914, 0.009218828961057867), (2915, 0.022986463444043138), (2916, 0.0), (2917, 0.010572154618029139), (2918, 0.01308154321019637), (2919, 0.05458318096041495), (2920, 0.011395582758997897), (2921, 0.0), (2922, 0.011091363532128234), (2923, 0.0), (2924, 0.017731999762963545), (2925, 0.006544824740310909), (2926, 0.008524982912657084), (2927, 0.02655096468914684), (2928, 0.037075633659526624), (2929, 0.021434022857674085), (2930, 0.028673090346983454), (2931, 0.006456990293059656), (2932, 0.0), (2933, 0.012984457789679518), (2934, 0.0), (2935, 0.0255226539143176), (2936, 0.03260670506696717), (2937, 0.0), (2938, 0.0), (2939, 0.03744090209553523), (2940, 0.008712673614225657), (2941, 0.010475586658631542), (2942, 0.009354387770782468), (2943, 0.007112441601326378), (2944, 0.0), (2945, 0.014966594594434474), (2946, 0.0), (2947, 0.0), (2948, 0.010615374476907281), (2949, 0.0), (2950, 0.0), (2951, 0.034178148289374474), (2952, 0.0), (2953, 0.0), (2954, 0.02088416015837766), (2955, 0.01370651219832862), (2956, 0.0), (2957, 0.0346206456432684), (2958, 0.01304221709327959), (2959, 0.0), (2960, 0.0), (2961, 0.0), (2962, 0.040537386185583786), (2963, 0.0), (2964, 0.025258659115592), (2965, 0.0), (2966, 0.008677430526099286), (2967, 0.008051820224535482), (2968, 0.023548272192681942), (2969, 0.0), (2970, 0.008688640582493858), (2971, 0.00709271813766405), (2972, 0.007683607806668596), (2973, 0.02299101224338041), (2974, 0.008014160283940122), (2975, 0.040274281879819365), (2976, 0.007302175859428049), (2977, 0.0), (2978, 0.016625122060016588), (2979, 0.008856138668337133), (2980, 0.04361546682612748), (2981, 0.04276812721745316), (2982, 0.034152695723633136), (2983, 0.0192966541728136), (2984, 0.0), (2985, 0.0), (2986, 0.018085237436690965), (2987, 0.0), (2988, 0.013843541999582735), (2989, 0.0), (2990, 0.010973374833683104), (2991, 0.013601018884878692), (2992, 0.03666423166615508), (2993, 0.0), (2994, 0.008204369575391175), (2995, 0.0356452917698228), (2996, 0.011896679958193256), (2997, 0.0), (2998, 0.11550624062415185), (2999, 0.05114353008430295), (3000, 0.05021618427713518), (3001, 0.0), (3002, 0.0), (3003, 0.04736401245253957), (3004, 0.008791945411294287), (3005, 0.0), (3006, 0.013463450363656723), (3007, 0.023406725181219043), (3008, 0.0), (3009, 0.021409273259275198), (3010, 0.010424367886153653), (3011, 0.04124527126009781), (3012, 0.0), (3013, 0.022102250437598676), (3014, 0.039257972231647856), (3015, 0.009045338870043246), (3016, 0.04140812516516849), (3017, 0.018165908335793554), (3018, 0.022530094203338055), (3019, 0.0), (3020, 0.009895867495568613), (3021, 0.0), (3022, 0.012576329608228912), (3023, 0.026456703198271554), (3024, 0.026062280298797865), (3025, 0.0), (3026, 0.009006098067568033), (3027, 0.026492897786732268), (3028, 0.014225183723777412), (3029, 0.0), (3030, 0.009669972930986367), (3031, 0.0), (3032, 0.0), (3033, 0.008146902144739857), (3034, 0.029479641637912113), (3035, 0.022143704636302816), (3036, 0.0), (3037, 0.00860438639431944), (3038, 0.008527096040732068), (3039, 0.03249018362251123), (3040, 0.011383750610084254), (3041, 0.00860417182923148), (3042, 0.029231139898317604), (3043, 0.03647365109354852), (3044, 0.008885525656399496), (3045, 0.035888055719841244), (3046, 0.017671630010523055), (3047, 0.0), (3048, 0.014218139804288227), (3049, 0.0), (3050, 0.014008159418585998), (3051, 0.0), (3052, 0.0), (3053, 0.0), (3054, 0.009794841864769746), (3055, 0.0), (3056, 0.027350505213915185), (3057, 0.032459133471154984), (3058, 0.021713761507656932), (3059, 0.0), (3060, 0.05497208334812856), (3061, 0.04784596914448147), (3062, 0.00903727550854285), (3063, 0.01822282019524051), (3064, 0.0), (3065, 0.0), (3066, 0.04839870416733484), (3067, 0.037155016035789), (3068, 0.0), (3069, 0.01216263809889559), (3070, 0.007281558833955478), (3071, 0.03683121441998842), (3072, 0.008296376168635837), (3073, 0.0601731609491188), (3074, 0.03717194818850568), (3075, 0.006932552267590877), (3076, 0.030441353153629433), (3077, 0.06718002139972791), (3078, 0.019647180974007965), (3079, 0.0), (3080, 0.009085944873280663), (3081, 0.03290909088768496), (3082, 0.05888213575416409), (3083, 0.05105327262002066), (3084, 0.0086455884200386), (3085, 0.012822476727574835), (3086, 0.0), (3087, 0.010283996137830868), (3088, 0.012121483744286466), (3089, 0.03816523346752401), (3090, 0.008015824884255807), (3091, 0.009048371380089484), (3092, 0.025535791704821623), (3093, 0.0), (3094, 0.024732654811571088), (3095, 0.0), (3096, 0.03777684018236452), (3097, 0.008988487699501382), (3098, 0.14396209496778173), (3099, 0.0), (3100, 0.08427777760004476), (3101, 0.0), (3102, 0.008307944699498412), (3103, 0.015083551036901583), (3104, 0.04919189001322846), (3105, 0.0), (3106, 0.008125709664437935), (3107, 0.0), (3108, 0.0073161765321767625), (3109, 0.016283750566393987), (3110, 0.0), (3111, 0.06701439368430231), (3112, 0.0), (3113, 0.01934007809646167), (3114, 0.0), (3115, 0.012689898356610208), (3116, 0.05738543744247096), (3117, 0.05622538177402309), (3118, 0.0), (3119, 0.0), (3120, 0.048489841127813765), (3121, 0.022630768117237448), (3122, 0.02218970531702177), (3123, 0.04663761765497847), (3124, 0.025493658816204506), (3125, 0.0), (3126, 0.0), (3127, 0.007895911857236454), (3128, 0.0), (3129, 0.052825836723444645), (3130, 0.016354711184525125), (3131, 0.0), (3132, 0.0), (3133, 0.013836395514229794), (3134, 0.0), (3135, 0.0), (3136, 0.040869869201247334), (3137, 0.021756560087854267), (3138, 0.0), (3139, 0.011541019978779085), (3140, 0.0246574638526019), (3141, 0.028962269118844662), (3142, 0.011270247642426404), (3143, 0.0), (3144, 0.0), (3145, 0.0), (3146, 0.009117877591566303), (3147, 0.06517959817358497), (3148, 0.023932229528425747), (3149, 0.08367859698811192), (3150, 0.008528692089129477), (3151, 0.01186398481162516), (3152, 0.036555943166107656), (3153, 0.0), (3154, 0.02710564806835495), (3155, 0.008207283180102226), (3156, 0.019036363556406696), (3157, 0.0), (3158, 0.0), (3159, 0.0), (3160, 0.0), (3161, 0.01408370380357614), (3162, 0.019772602632733872), (3163, 0.0), (3164, 0.03058357155099868), (3165, 0.008198649397714848), (3166, 0.021208511863667782), (3167, 0.0), (3168, 0.09892403416427532), (3169, 0.05190786484530605), (3170, 0.00679075284627304), (3171, 0.0), (3172, 0.00949165354812661), (3173, 0.028283882108945613), (3174, 0.0), (3175, 0.04131392094022119), (3176, 0.0), (3177, 0.03910533297171238), (3178, 0.06094961272981675), (3179, 0.0), (3180, 0.02431860146432429), (3181, 0.008882690989660264), (3182, 0.05322141007183652), (3183, 0.05546963467257105), (3184, 0.05820779326216966), (3185, 0.0), (3186, 0.027249589879616103), (3187, 0.008578084168717326), (3188, 0.029255671377832755), (3189, 0.016063793969665098), (3190, 0.009445649992757666), (3191, 0.0), (3192, 0.03176958324035312), (3193, 0.07519597892475312), (3194, 0.01443141533362622), (3195, 0.010638355418323843), (3196, 0.024568857064697795), (3197, 0.007408147149108374), (3198, 0.01579477365659659), (3199, 0.0), (3200, 0.006065013949667091), (3201, 0.019271417955898804), (3202, 0.03183952678851361), (3203, 0.009817175156453592), (3204, 0.010911894121350504), (3205, 0.04538184534348361), (3206, 0.03811840633737475), (3207, 0.02264452068445527), (3208, 0.0), (3209, 0.036110181513570094), (3210, 0.0), (3211, 0.06285974414796794), (3212, 0.05317945489139042), (3213, 0.03701855958684602), (3214, 0.01459685510627162), (3215, 0.00904080556956537), (3216, 0.0), (3217, 0.019703021676917343), (3218, 0.016300289888547405), (3219, 0.0), (3220, 0.0365872789004111), (3221, 0.024303794146603084), (3222, 0.015022490338049843), (3223, 0.03328015876433638), (3224, 0.03840607565662263), (3225, 0.028260116906012753), (3226, 0.0), (3227, 0.0), (3228, 0.0), (3229, 0.041046666195802925), (3230, 0.06548474487245735), (3231, 0.030162276294461426), (3232, 0.018862393463208633), (3233, 0.022783042517903564), (3234, 0.008910070282851498), (3235, 0.04195655471901574), (3236, 0.03380969957491037), (3237, 0.019351953609633314), (3238, 0.05450810843642817), (3239, 0.02055435893885022), (3240, 0.02944660443693801), (3241, 0.035452688349403974), (3242, 0.013076126980032953), (3243, 0.0), (3244, 0.030854949119963313), (3245, 0.008236042740570994), (3246, 0.03193045798525624), (3247, 0.06298219152474933), (3248, 0.007960815255672942), (3249, 0.010195211321833635), (3250, 0.007645078347239413), (3251, 0.016860930155917216), (3252, 0.02702320193956125), (3253, 0.009269759853261457), (3254, 0.01693857240766445), (3255, 0.0), (3256, 0.022103773795091947), (3257, 0.018423229470730038), (3258, 0.016625829788988983), (3259, 0.008596743348874445), (3260, 0.02173308406989763), (3261, 0.026884456040844412), (3262, 0.0), (3263, 0.026181307625492135), (3264, 0.0), (3265, 0.01680101246649744), (3266, 0.011276199049533302), (3267, 0.007396484041651758), (3268, 0.03430461133049959), (3269, 0.0), (3270, 0.041947663615115004), (3271, 0.05046095672573723), (3272, 0.013819551668788704), (3273, 0.02306347829022723), (3274, 0.008042661314651959), (3275, 0.041413500088290055), (3276, 0.01077524225905419), (3277, 0.027554722961671815), (3278, 0.03221828688867537), (3279, 0.021877070960994525), (3280, 0.02039858401890071), (3281, 0.0), (3282, 0.029085510830003734), (3283, 0.008302928055311166), (3284, 0.009900778498433153), (3285, 0.0), (3286, 0.007914148496309012), (3287, 0.008426931930918393), (3288, 0.028657153352324376), (3289, 0.05130522339094067), (3290, 0.022201756383745042), (3291, 0.009592365590745002), (3292, 0.0), (3293, 0.012851706661039724), (3294, 0.03400334520328453), (3295, 0.03022857558183064), (3296, 0.00811863444982454), (3297, 0.056701569311999454), (3298, 0.006895226378620991), (3299, 0.017903762652473152), (3300, 0.03603563464256703), (3301, 0.017157401182249316), (3302, 0.021868456956494788), (3303, 0.029376985589070058), (3304, 0.08995009226800302), (3305, 0.0), (3306, 0.01349554506886411), (3307, 0.0), (3308, 0.04759098577515605), (3309, 0.01556781971942575), (3310, 0.05667785019207841), (3311, 0.017152543521510966), (3312, 0.0), (3313, 0.0), (3314, 0.00757048439781386), (3315, 0.10291970370509979), (3316, 0.0), (3317, 0.014683389198332009), (3318, 0.01970048472126509), (3319, 0.04714288887123061), (3320, 0.09905353482863925), (3321, 0.00754223520833277), (3322, 0.0), (3323, 0.04743620866514183), (3324, 0.009579928597535927), (3325, 0.03531262985669014), (3326, 0.007560189188441525), (3327, 0.006402624670124268), (3328, 0.0), (3329, 0.04289930774583342), (3330, 0.03708867908395689), (3331, 0.0), (3332, 0.008249137733324247), (3333, 0.020903609647028178), (3334, 0.0), (3335, 0.032380047740103314), (3336, 0.019720765561288267), (3337, 0.009405595077174476), (3338, 0.02378589084194961), (3339, 0.0), (3340, 0.0), (3341, 0.013459863792034512), (3342, 0.038917671062961845), (3343, 0.008143276863613704), (3344, 0.00918077671187997), (3345, 0.0), (3346, 0.03674066255558152), (3347, 0.023470060583003653), (3348, 0.025237990468524988), (3349, 0.008457048950823184), (3350, 0.021852956234005266), (3351, 0.008507596668789676), (3352, 0.02254232897221087), (3353, 0.0), (3354, 0.0), (3355, 0.0), (3356, 0.0), (3357, 0.057338689381336946), (3358, 0.0), (3359, 0.008307103562435908), (3360, 0.043534966665746445), (3361, 0.013934807744128957), (3362, 0.0), (3363, 0.008902343582899416), (3364, 0.01765048980323465), (3365, 0.05087300864768106), (3366, 0.018312965505938635), (3367, 0.03062306298757844), (3368, 0.0), (3369, 0.0461804395514606), (3370, 0.010493211921308906), (3371, 0.016937142062405566), (3372, 0.0), (3373, 0.009174707476949314), (3374, 0.0), (3375, 0.01482210567014253), (3376, 0.011954510286132257), (3377, 0.015706365680442372), (3378, 0.008506069374726874), (3379, 0.0), (3380, 0.0063364687451444), (3381, 0.024261905483247897), (3382, 0.00850582571513058), (3383, 0.009230055544233295), (3384, 0.0), (3385, 0.027520819161719463), (3386, 0.008259482507265077), (3387, 0.04222259905831513), (3388, 0.01610929632625612), (3389, 0.03647283911021019), (3390, 0.07273287526466186), (3391, 0.02291896044282133), (3392, 0.0), (3393, 0.028968675603889563), (3394, 0.0), (3395, 0.03004578723952577), (3396, 0.0), (3397, 0.007315498427078919), (3398, 0.0), (3399, 0.010099665592159062), (3400, 0.02552438022910632), (3401, 0.04869670761862969), (3402, 0.007943488250670015), (3403, 0.03295094464774084), (3404, 0.06598893454345295), (3405, 0.0), (3406, 0.00753322102886901), (3407, 0.06611713815534995), (3408, 0.04910743466965576), (3409, 0.0), (3410, 0.016582000307036077), (3411, 0.016636140035059012), (3412, 0.010543119097032821), (3413, 0.06404554537530287), (3414, 0.0), (3415, 0.008531119834476499), (3416, 0.01356549663411521), (3417, 0.035296588671101796), (3418, 0.05287424607769411), (3419, 0.06366492650299645), (3420, 0.010008934090404), (3421, 0.10070146049744769), (3422, 0.008598012107927908), (3423, 0.0), (3424, 0.030397377162910313), (3425, 0.025327521808801844), (3426, 0.0), (3427, 0.0), (3428, 0.022288434186894496), (3429, 0.0), (3430, 0.07371947797539712), (3431, 0.0), (3432, 0.0), (3433, 0.02225662983079777), (3434, 0.020844121506593292), (3435, 0.0), (3436, 0.02471298795950785), (3437, 0.040518252805628895), (3438, 0.02523416751246507), (3439, 0.01057291906422824), (3440, 0.0), (3441, 0.0), (3442, 0.037898595096606064), (3443, 0.04513732931763943), (3444, 0.01797082415296276), (3445, 0.025147584237932254), (3446, 0.0), (3447, 0.033469111538394575), (3448, 0.03802992412506449), (3449, 0.05391140683673455), (3450, 0.0), (3451, 0.03573808857921189), (3452, 0.010080377789608718), (3453, 0.0), (3454, 0.0), (3455, 0.020117698668704852), (3456, 0.014766194419433366), (3457, 0.015693579418934126), (3458, 0.021584546444575414), (3459, 0.023198859272593936), (3460, 0.0), (3461, 0.008688990546635765), (3462, 0.026402603551148873), (3463, 0.058418859413917806), (3464, 0.022864406253462907), (3465, 0.0), (3466, 0.05298718368602018), (3467, 0.021896957348154406), (3468, 0.0), (3469, 0.0), (3470, 0.0), (3471, 0.0), (3472, 0.09747456713011667), (3473, 0.0), (3474, 0.023655248382258187), (3475, 0.013250527469978911), (3476, 0.0), (3477, 0.05748639733751548), (3478, 0.0), (3479, 0.020418905667300993), (3480, 0.0), (3481, 0.006860440173682525), (3482, 0.0), (3483, 0.024627811256980506), (3484, 0.016436857063202095), (3485, 0.007243555678710314), (3486, 0.0), (3487, 0.03168652365366894), (3488, 0.0), (3489, 0.015760351947796646), (3490, 0.014682710579449967), (3491, 0.023730011676453645), (3492, 0.027664386313879234), (3493, 0.016003001150894324), (3494, 0.008203842129114765), (3495, 0.03257246910386656), (3496, 0.1132575818519071), (3497, 0.0), (3498, 0.020934147298530905), (3499, 0.0), (3500, 0.04803643129134561), (3501, 0.014230316485760352), (3502, 0.0), (3503, 0.018182513779540374), (3504, 0.0), (3505, 0.0), (3506, 0.023713193255781778), (3507, 0.0), (3508, 0.008022086698122132), (3509, 0.08303508790221283), (3510, 0.008787836676563318), (3511, 0.09097836110257905), (3512, 0.012499648863987472), (3513, 0.016019331567349582), (3514, 0.008509912277836769), (3515, 0.08276170144520108), (3516, 0.03132669472864285), (3517, 0.035830963909558755), (3518, 0.021628896328319613), (3519, 0.008974527303397288), (3520, 0.03580129361138543), (3521, 0.0), (3522, 0.022665639916584213), (3523, 0.01924114751739264), (3524, 0.023052004599050643), (3525, 0.0), (3526, 0.015647247482451727), (3527, 0.0), (3528, 0.0), (3529, 0.02867982149326914), (3530, 0.0), (3531, 0.029107714947956817), (3532, 0.0), (3533, 0.05045995144171912), (3534, 0.014877635948628485), (3535, 0.0), (3536, 0.04968746684409169), (3537, 0.01011072050831205), (3538, 0.006499752889906483), (3539, 0.008684493223979555), (3540, 0.016328132468316842), (3541, 0.027908414520345644), (3542, 0.0), (3543, 0.007577587496564246), (3544, 0.009922490693231494), (3545, 0.00809092787078741), (3546, 0.005325566928195157), (3547, 0.0), (3548, 0.032298283953720947), (3549, 0.015812494393129234), (3550, 0.0), (3551, 0.020751242154887953), (3552, 0.024866996058924506), (3553, 0.0), (3554, 0.02611559479431379), (3555, 0.0), (3556, 0.049304777468683496), (3557, 0.0321039398237568), (3558, 0.028068527931162136), (3559, 0.006832456999131498), (3560, 0.008020311732230117), (3561, 0.0), (3562, 0.007851680876923468), (3563, 0.02897255530017859), (3564, 0.0), (3565, 0.01613467246782222), (3566, 0.0), (3567, 0.0), (3568, 0.0), (3569, 0.0), (3570, 0.03588895850765297), (3571, 0.06458358813309795), (3572, 0.009024863617036272), (3573, 0.0), (3574, 0.006260573852113763), (3575, 0.01235214806400833), (3576, 0.0), (3577, 0.0188954377950639), (3578, 0.0892987654511595), (3579, 0.03290943708632298), (3580, 0.00798638838150618), (3581, 0.008960887812313372), (3582, 0.051284118435242304), (3583, 0.0), (3584, 0.016420479160857083), (3585, 0.026426057159070468), (3586, 0.014445013660508809), (3587, 0.0), (3588, 0.02691964271149458), (3589, 0.03555361999654029), (3590, 0.0), (3591, 0.008507654532892501), (3592, 0.019009353282708676), (3593, 0.016432583411140837), (3594, 0.007109896056454411), (3595, 0.007799108969362136), (3596, 0.0), (3597, 0.036262857510758306), (3598, 0.013534739751696806), (3599, 0.028968483345606224), (3600, 0.03254485808273377), (3601, 0.01630613379030513), (3602, 0.013350913318740347), (3603, 0.028273819452327573), (3604, 0.0), (3605, 0.0), (3606, 0.05070338470572581), (3607, 0.03673737365304859), (3608, 0.0), (3609, 0.0), (3610, 0.02548029418568254), (3611, 0.0), (3612, 0.0585283146050172), (3613, 0.0), (3614, 0.017734201771907147), (3615, 0.013183130291556948), (3616, 0.10909692817414118), (3617, 0.015553887869100811), (3618, 0.0), (3619, 0.05322316727422987), (3620, 0.0), (3621, 0.009591961907210537), (3622, 0.015281276979738603), (3623, 0.0), (3624, 0.0), (3625, 0.0), (3626, 0.036224720258722296), (3627, 0.0), (3628, 0.008913967110825514), (3629, 0.015396175553404593), (3630, 0.032731945041983894), (3631, 0.0), (3632, 0.03343070482933245), (3633, 0.0073005556299124575), (3634, 0.0), (3635, 0.0), (3636, 0.0), (3637, 0.009453795647253812), (3638, 0.029470240264931277), (3639, 0.0), (3640, 0.013889875272668339), (3641, 0.08217912475597647), (3642, 0.02606057624583486), (3643, 0.0571471184875795), (3644, 0.04154997252740404), (3645, 0.018508256709717518), (3646, 0.026234073587441568), (3647, 0.04934425854962292), (3648, 0.03105094069495306), (3649, 0.009247454564592661), (3650, 0.008259623402668692), (3651, 0.012366546272239567), (3652, 0.009006975534733546), (3653, 0.08038547336732095), (3654, 0.020605710695622975), (3655, 0.006212092256021476), (3656, 0.05583983979927737), (3657, 0.05247220293832681), (3658, 0.03105425368521956), (3659, 0.011781980010133322), (3660, 0.019059765297948124), (3661, 0.0), (3662, 0.053473706982832984), (3663, 0.0), (3664, 0.0), (3665, 0.032307024211853816), (3666, 0.0), (3667, 0.014979501392533751), (3668, 0.05737920170528177), (3669, 0.016603984056523687), (3670, 0.0), (3671, 0.04071244084068883), (3672, 0.0), (3673, 0.04522743081644836), (3674, 0.016006155842947317), (3675, 0.0), (3676, 0.008237550377406488), (3677, 0.014733396254152358), (3678, 0.04968790706288426), (3679, 0.0), (3680, 0.0), (3681, 0.06634195397681536), (3682, 0.0), (3683, 0.06052060726422797), (3684, 0.007074371408552136), (3685, 0.007996957857078012), (3686, 0.04450420298455038), (3687, 0.0), (3688, 0.034805792114394836), (3689, 0.0), (3690, 0.013716903114795634), (3691, 0.04042394814386998), (3692, 0.0), (3693, 0.0), (3694, 0.030262815706504763), (3695, 0.01182426881157357), (3696, 0.04046797083263922), (3697, 0.029745560192198085), (3698, 0.010227816106151527), (3699, 0.0), (3700, 0.0), (3701, 0.0), (3702, 0.0), (3703, 0.020034145282907378), (3704, 0.0), (3705, 0.027666800629114773), (3706, 0.04824283805633835), (3707, 0.029316239696247838), (3708, 0.0), (3709, 0.05663174458558927), (3710, 0.0), (3711, 0.0508057949344862), (3712, 0.05697443053224063), (3713, 0.0), (3714, 0.0), (3715, 0.010518608392618605), (3716, 0.023457802251517227), (3717, 0.0), (3718, 0.013650057344262344), (3719, 0.0), (3720, 0.0), (3721, 0.009469286123256617), (3722, 0.037910021669593404), (3723, 0.0), (3724, 0.0), (3725, 0.0), (3726, 0.0), (3727, 0.0), (3728, 0.0087167302824611), (3729, 0.0), (3730, 0.025002785300116966), (3731, 0.024507500978738612), (3732, 0.019198012889880545), (3733, 0.04438278052601442), (3734, 0.0), (3735, 0.009020258396639804), (3736, 0.01531043602219763), (3737, 0.0), (3738, 0.0), (3739, 0.03213821850999636), (3740, 0.010316297178734678), (3741, 0.015591247615726224), (3742, 0.0), (3743, 0.024067584393194227), (3744, 0.0), (3745, 0.02959172846723132), (3746, 0.024422829012801107), (3747, 0.021880259298011462), (3748, 0.013228902901119933), (3749, 0.0), (3750, 0.01212299694053757), (3751, 0.0), (3752, 0.009183873518624788), (3753, 0.01408507653002225), (3754, 0.06211719694327062), (3755, 0.007204263698334081), (3756, 0.014738067831158016), (3757, 0.01933837108547904), (3758, 0.033182612748214865), (3759, 0.02618633253620664), (3760, 0.0), (3761, 0.007982409903437425), (3762, 0.0), (3763, 0.03084108364760907), (3764, 0.03391376113529094), (3765, 0.00791825252846007), (3766, 0.0), (3767, 0.039732309573135664), (3768, 0.015043138129830557), (3769, 0.02066549118447218), (3770, 0.0), (3771, 0.0), (3772, 0.09683332101457688), (3773, 0.014397477843816106), (3774, 0.014372818640643418), (3775, 0.0), (3776, 0.020243846974745662), (3777, 0.0), (3778, 0.058430984973773796), (3779, 0.0), (3780, 0.013298169118722928), (3781, 0.014999754411724986), (3782, 0.027347346327706846), (3783, 0.0), (3784, 0.01714977672722216), (3785, 0.034937450840772266), (3786, 0.0), (3787, 0.025465190142113087), (3788, 0.0), (3789, 0.09330198905306412), (3790, 0.00847244435799366), (3791, 0.009301326597352375), (3792, 0.015548788965693377), (3793, 0.0), (3794, 0.010239057578989774), (3795, 0.006385226839703876), (3796, 0.011274168897536418), (3797, 0.025739828103144288), (3798, 0.03013083746763549), (3799, 0.0), (3800, 0.04938987602224479), (3801, 0.021999674891572646), (3802, 0.0334790021656345), (3803, 0.007131988729366443), (3804, 0.007962622310154748), (3805, 0.008127815232503421), (3806, 0.0), (3807, 0.022030019462642707), (3808, 0.032519529465440566), (3809, 0.0216568659306113), (3810, 0.0), (3811, 0.0348387398418549), (3812, 0.008296808339890785), (3813, 0.013589362432106148), (3814, 0.0), (3815, 0.0), (3816, 0.0), (3817, 0.012025459111973585), (3818, 0.008083833257647449), (3819, 0.0), (3820, 0.009215470346091095), (3821, 0.015110388967332983), (3822, 0.02129078281403671), (3823, 0.0), (3824, 0.021141756884322675), (3825, 0.0), (3826, 0.019916128769404108), (3827, 0.0), (3828, 0.03536524847231937), (3829, 0.07064499485542208), (3830, 0.0), (3831, 0.014718779418231704), (3832, 0.019902606202158325), (3833, 0.0), (3834, 0.045851328714012346), (3835, 0.02023164648799721), (3836, 0.007949929698537209), (3837, 0.008947687930004552), (3838, 0.0), (3839, 0.052807828941699775), (3840, 0.0139194337578821), (3841, 0.0), (3842, 0.032871092061045486), (3843, 0.0), (3844, 0.010214830774909135), (3845, 0.02893867545490515), (3846, 0.015686990709667975), (3847, 0.0), (3848, 0.0), (3849, 0.02052847161094923), (3850, 0.03786623733549361), (3851, 0.017505740161033262), (3852, 0.037222500011521345), (3853, 0.0), (3854, 0.00999679117466083), (3855, 0.00691666806524964), (3856, 0.046770676375992415), (3857, 0.020012087810857258), (3858, 0.04161971605695433), (3859, 0.021213457219620167), (3860, 0.04547246244489969), (3861, 0.06080710636077262), (3862, 0.04717578961075994), (3863, 0.012579872308244009), (3864, 0.04760900717668443), (3865, 0.036465857802916404), (3866, 0.05006424489011681), (3867, 0.0577099381886792), (3868, 0.014629568672244686), (3869, 0.0), (3870, 0.03779311562112762), (3871, 0.014611608865327879), (3872, 0.0), (3873, 0.0), (3874, 0.0), (3875, 0.03719552022498596), (3876, 0.03060658124845381), (3877, 0.0), (3878, 0.04991401023106659), (3879, 0.038122779942964265), (3880, 0.0), (3881, 0.08526841852312537), (3882, 0.14461610916017437), (3883, 0.0), (3884, 0.0), (3885, 0.007415460081502931), (3886, 0.021965639144990855), (3887, 0.0), (3888, 0.008065510026848988), (3889, 0.03254652068085229), (3890, 0.0711916187943995), (3891, 0.05441096873319372), (3892, 0.069316677476674), (3893, 0.0077112801030963405), (3894, 0.009480861064996102), (3895, 0.018134904593726103), (3896, 0.007860240518258855), (3897, 0.01900732049341591), (3898, 0.04139883581714164), (3899, 0.03210475036546879), (3900, 0.0), (3901, 0.0), (3902, 0.0), (3903, 0.0), (3904, 0.007634946633138625), (3905, 0.008622529360716226), (3906, 0.013773708026913366), (3907, 0.0), (3908, 0.0), (3909, 0.04485754088869064), (3910, 0.0), (3911, 0.016038498119931934), (3912, 0.11421657129879441), (3913, 0.07435389219701193), (3914, 0.046541909864857685), (3915, 0.022332076358398456), (3916, 0.05488691168473606), (3917, 0.0), (3918, 0.0), (3919, 0.015983178032023627), (3920, 0.0), (3921, 0.03216789713910334), (3922, 0.01006284017725312), (3923, 0.028862593316906025), (3924, 0.05715922882969343), (3925, 0.010624865879040086), (3926, 0.02218655145264898), (3927, 0.02000341055011119), (3928, 0.0), (3929, 0.01217116241685222), (3930, 0.008439098282930414), (3931, 0.03516605323747554), (3932, 0.06336694222764609), (3933, 0.0407907230801233), (3934, 0.08618675765678617), (3935, 0.0), (3936, 0.019342126425922125), (3937, 0.0), (3938, 0.013504030494009178), (3939, 0.0), (3940, 0.008912773791918077), (3941, 0.0245232053838999), (3942, 0.0), (3943, 0.04881677626970243), (3944, 0.0), (3945, 0.0), (3946, 0.0), (3947, 0.0), (3948, 0.0), (3949, 0.011205289307860638), (3950, 0.114221078415313), (3951, 0.021023456068129897), (3952, 0.01753389286630846), (3953, 0.0), (3954, 0.03549594370340978), (3955, 0.0), (3956, 0.012477665917301919), (3957, 0.02374191757587941), (3958, 0.0), (3959, 0.0), (3960, 0.012255513528925429), (3961, 0.0), (3962, 0.009154993095292711), (3963, 0.0), (3964, 0.03914977649794335), (3965, 0.00778505009296955), (3966, 0.010082084093598677), (3967, 0.018022347308562885), (3968, 0.014095111687462386), (3969, 0.046503436612254714), (3970, 0.010339228221503178), (3971, 0.0065737356744935554), (3972, 0.027755259375177713), (3973, 0.017357761521759992), (3974, 0.0), (3975, 0.01749512230916462), (3976, 0.0), (3977, 0.05164230925981373), (3978, 0.0), (3979, 0.0), (3980, 0.016494097004208334), (3981, 0.0), (3982, 0.0), (3983, 0.021529202837900885), (3984, 0.008572736646877818), (3985, 0.0), (3986, 0.012596106868962783), (3987, 0.0), (3988, 0.010260348439789948), (3989, 0.0), (3990, 0.0), (3991, 0.0), (3992, 0.009214293516319296), (3993, 0.039602766358358035), (3994, 0.0), (3995, 0.02049137373048339), (3996, 0.009719210457497827), (3997, 0.014455257247564558), (3998, 0.007853223434425833), (3999, 0.024124916097743972), (4000, 0.0), (4001, 0.06740467992221516), (4002, 0.05402634242185054), (4003, 0.009004528858885608), (4004, 0.01377016523515725), (4005, 0.0), (4006, 0.0), (4007, 0.011590816319813539), (4008, 0.008459738722419279), (4009, 0.05484061455552693), (4010, 0.009405712802523026), (4011, 0.006703754023373189), (4012, 0.022123445328823217), (4013, 0.0), (4014, 0.0), (4015, 0.03996407491421507), (4016, 0.0), (4017, 0.0), (4018, 0.031419587366346285), (4019, 0.0), (4020, 0.021494753814477862), (4021, 0.0), (4022, 0.08264135931482554), (4023, 0.02566163974687105), (4024, 0.01344980903287944), (4025, 0.015862139208460375), (4026, 0.017962172038204785), (4027, 0.04152193086596276), (4028, 0.0), (4029, 0.007988433285367252), (4030, 0.0), (4031, 0.009528993150578079), (4032, 0.0), (4033, 0.013139338762502013), (4034, 0.025805525142271836), (4035, 0.007092733982039383), (4036, 0.007964770567299766), (4037, 0.007722090979125528), (4038, 0.0), (4039, 0.0), (4040, 0.07367288645189254), (4041, 0.0), (4042, 0.014824671311765045), (4043, 0.0), (4044, 0.0), (4045, 0.0), (4046, 0.031023105560359296), (4047, 0.018605930313734333), (4048, 0.0), (4049, 0.008272913828902754), (4050, 0.007885171151686562), (4051, 0.03348081911433749), (4052, 0.008615182021730786), (4053, 0.02180690121934861), (4054, 0.06098749141677625), (4055, 0.0), (4056, 0.020449272441038245), (4057, 0.016015018725296988), (4058, 0.01013916092131893), (4059, 0.0), (4060, 0.007091823176659915), (4061, 0.0635897318774439), (4062, 0.0), (4063, 0.05457836644203909), (4064, 0.03329146296466635), (4065, 0.0), (4066, 0.0071585947212417815), (4067, 0.018291074100604834), (4068, 0.023630854159461714), (4069, 0.0), (4070, 0.0), (4071, 0.007712777176124988), (4072, 0.0), (4073, 0.014902400704268706), (4074, 0.027515327080289278), (4075, 0.05298202240182401), (4076, 0.03670462186275338), (4077, 0.02562971034216002), (4078, 0.013820044263549217), (4079, 0.03151717887278536), (4080, 0.04469760870009146), (4081, 0.013653356511416378), (4082, 0.010083813619322327), (4083, 0.0), (4084, 0.036919489007585835), (4085, 0.033723836469740705), (4086, 0.008820846798283672), (4087, 0.0), (4088, 0.0), (4089, 0.033336879468644026), (4090, 0.05152427119892726), (4091, 0.0), (4092, 0.0), (4093, 0.008338389205415953), (4094, 0.017472010914212004), (4095, 0.04804791643911505), (4096, 0.019186173383074625), (4097, 0.05516923276000617), (4098, 0.013918261403536716), (4099, 0.0401579713353594), (4100, 0.0), (4101, 0.041049838224495254), (4102, 0.01034994551946286), (4103, 0.0), (4104, 0.072795433175078), (4105, 0.00914990271182646), (4106, 0.02866446786581213), (4107, 0.0), (4108, 0.009121186941094395), (4109, 0.07368839688940047), (4110, 0.012050844424891538), (4111, 0.023713028381185868), (4112, 0.007956648827373349), (4113, 0.029066301332606122), (4114, 0.0), (4115, 0.010998822074895274), (4116, 0.0), (4117, 0.029793612283654076), (4118, 0.008790414163204325), (4119, 0.024614231938304486), (4120, 0.0), (4121, 0.009271274617295419), (4122, 0.013425606141344635), (4123, 0.025927034353278134), (4124, 0.0), (4125, 0.02375545846822756), (4126, 0.0), (4127, 0.031655458837970905), (4128, 0.021830041091443226), (4129, 0.0), (4130, 0.0), (4131, 0.008723167522589096), (4132, 0.030048662786005677), (4133, 0.0), (4134, 0.0), (4135, 0.008267142694833076), (4136, 0.007435995851216872), (4137, 0.01818300466152182), (4138, 0.023429443655982148), (4139, 0.04834568284263887), (4140, 0.008906489296553376), (4141, 0.006364374647605398), (4142, 0.017160429548911414), (4143, 0.00971729532943653), (4144, 0.05391170169192237), (4145, 0.041232828741153096), (4146, 0.02381650801394278), (4147, 0.04013459582072655), (4148, 0.03529394216202966), (4149, 0.01648235785239916), (4150, 0.0), (4151, 0.024022470888956787), (4152, 0.013356596109722696), (4153, 0.020181352291680815), (4154, 0.04137042570729747), (4155, 0.05099909298452897), (4156, 0.013402543869132866), (4157, 0.0240627421143429), (4158, 0.01263951300812823), (4159, 0.0), (4160, 0.0), (4161, 0.0), (4162, 0.0), (4163, 0.0), (4164, 0.03045032788862044), (4165, 0.012521592297249041), (4166, 0.05584016758258088), (4167, 0.0), (4168, 0.0), (4169, 0.025812862664663705), (4170, 0.0), (4171, 0.03608735015976715), (4172, 0.0), (4173, 0.00872149763097831), (4174, 0.020388162171860257), (4175, 0.020862695500812267), (4176, 0.0), (4177, 0.011447574913152944), (4178, 0.014699682553809284), (4179, 0.0), (4180, 0.008614159564301815), (4181, 0.05005043620384626), (4182, 0.0156335964543261), (4183, 0.032172656536961455), (4184, 0.008184786109536232), (4185, 0.0), (4186, 0.05656150420928745), (4187, 0.0), (4188, 0.0), (4189, 0.0), (4190, 0.009721846869434498), (4191, 0.020064554520367595), (4192, 0.03733020560163474), (4193, 0.0), (4194, 0.028951159613424232), (4195, 0.008146568299267978), (4196, 0.0), (4197, 0.09799442833731178), (4198, 0.05711242045299758), (4199, 0.010112509964312065), (4200, 0.006739587924220887), (4201, 0.0), (4202, 0.0), (4203, 0.026512098483608797), (4204, 0.009702097916211202), (4205, 0.0), (4206, 0.007743004132134065), (4207, 0.00884656623163584), (4208, 0.0), (4209, 0.0), (4210, 0.022467830029122518), (4211, 0.0), (4212, 0.026466704350902513), (4213, 0.007751212859525901), (4214, 0.0082567916820827), (4215, 0.0), (4216, 0.0), (4217, 0.015746323080810965), (4218, 0.02125517232881323), (4219, 0.0), (4220, 0.023956728846535214), (4221, 0.0), (4222, 0.020505570157802577), (4223, 0.05105362239299348), (4224, 0.01753254602308964), (4225, 0.014089753828670198), (4226, 0.00891156351657463), (4227, 0.024186983909872315), (4228, 0.0), (4229, 0.006900543903911763), (4230, 0.0), (4231, 0.0), (4232, 0.01082762242678355), (4233, 0.017267494370019506), (4234, 0.007952069216059116), (4235, 0.0), (4236, 0.03928856774514164), (4237, 0.007257130940781248), (4238, 0.0), (4239, 0.011261807442372219), (4240, 0.01606981657243498), (4241, 0.010691302739071314), (4242, 0.013429916649417586), (4243, 0.008126163298252055), (4244, 0.0), (4245, 0.03430240147014048), (4246, 0.007718107998375359), (4247, 0.01293825556506455), (4248, 0.0), (4249, 0.0), (4250, 0.0), (4251, 0.0), (4252, 0.03601815294275076), (4253, 0.0), (4254, 0.021475825473088635), (4255, 0.0), (4256, 0.03921706203545806), (4257, 0.007678966851507293), (4258, 0.008881656051301545), (4259, 0.00905446031082079), (4260, 0.03320050061205292), (4261, 0.0), (4262, 0.0), (4263, 0.04287438937297186), (4264, 0.0), (4265, 0.018972642340658076), (4266, 0.0), (4267, 0.0), (4268, 0.010766633627111014), (4269, 0.0), (4270, 0.02533435084852486), (4271, 0.0), (4272, 0.007733251631831907), (4273, 0.0), (4274, 0.0), (4275, 0.0), (4276, 0.0), (4277, 0.0), (4278, 0.02772495444579742), (4279, 0.014076979061174173), (4280, 0.048405676351224294), (4281, 0.0), (4282, 0.016502181763630254), (4283, 0.018366157272675678), (4284, 0.0), (4285, 0.009565969543580691), (4286, 0.0), (4287, 0.09306565794312366), (4288, 0.0), (4289, 0.014451898181759234), (4290, 0.0), (4291, 0.008140094248577198), (4292, 0.010185235586203292), (4293, 0.00909610399884978), (4294, 0.0), (4295, 0.041590162179902454), (4296, 0.0), (4297, 0.007469833208537791), (4298, 0.02687956450684801), (4299, 0.0), (4300, 0.008215238585799943), (4301, 0.0), (4302, 0.0), (4303, 0.007827626287050322), (4304, 0.007316056289562852), (4305, 0.0075726998781728005), (4306, 0.008824982575905119), (4307, 0.0361734815822948), (4308, 0.008939298549108117), (4309, 0.006966993309310206), (4310, 0.06626570448060357), (4311, 0.012421989215087456), (4312, 0.0), (4313, 0.02332978200685041), (4314, 0.034045221207074566), (4315, 0.016282290772072452), (4316, 0.0), (4317, 0.009243479299858977), (4318, 0.0), (4319, 0.028516638669224215), (4320, 0.07425993982127448), (4321, 0.026413807323342465), (4322, 0.006535701497889459), (4323, 0.008586169301784042), (4324, 0.02535559319625662), (4325, 0.05196164779542164), (4326, 0.0), (4327, 0.056615356168491726), (4328, 0.0), (4329, 0.08016928497601361), (4330, 0.0), (4331, 0.0), (4332, 0.008843614132013561), (4333, 0.031167676213896094), (4334, 0.015214483073308444), (4335, 0.03424102936520851), (4336, 0.0), (4337, 0.015076521044773788), (4338, 0.016078487817837533), (4339, 0.0), (4340, 0.05817981958528747), (4341, 0.009669461278245313), (4342, 0.016603116608666334), (4343, 0.00956188224972624), (4344, 0.0), (4345, 0.0), (4346, 0.009457114338262552), (4347, 0.05084143389895432), (4348, 0.0), (4349, 0.0), (4350, 0.029898458941557633), (4351, 0.02975291917624478), (4352, 0.0), (4353, 0.007079009530268619), (4354, 0.018848355156375646), (4355, 0.03980535423767784), (4356, 0.028177090613874935), (4357, 0.05938218985376946), (4358, 0.019543365790285476), (4359, 0.0), (4360, 0.024686109982759222), (4361, 0.0), (4362, 0.03775084062214421), (4363, 0.0), (4364, 0.03162583480597439), (4365, 0.031580833004879474), (4366, 0.01220881319109725), (4367, 0.01996874576784323), (4368, 0.0), (4369, 0.022541101576578775), (4370, 0.008705910116373101), (4371, 0.02796566814743816), (4372, 0.0), (4373, 0.0), (4374, 0.02902294109128263), (4375, 0.05364840725019546), (4376, 0.015092250450228682), (4377, 0.0), (4378, 0.026822858472000378), (4379, 0.0), (4380, 0.025248310415864946), (4381, 0.0069201051453002295), (4382, 0.025304639873924), (4383, 0.01346915657419474), (4384, 0.013191633406176741), (4385, 0.0), (4386, 0.0), (4387, 0.0), (4388, 0.008382710897737119), (4389, 0.0), (4390, 0.0), (4391, 0.0), (4392, 0.0), (4393, 0.0), (4394, 0.021980680020272154), (4395, 0.00793016301390447), (4396, 0.015662679454296065), (4397, 0.0), (4398, 0.02559036992535829), (4399, 0.0), (4400, 0.0), (4401, 0.015641132807850653), (4402, 0.0), (4403, 0.01710771880280968), (4404, 0.02673604474681835), (4405, 0.02320324539638601), (4406, 0.02500205930926976), (4407, 0.0), (4408, 0.018357028888642823), (4409, 0.06223749038078752), (4410, 0.04160087146362431), (4411, 0.03346687148556093), (4412, 0.0), (4413, 0.00883860624688419), (4414, 0.014979204232397752), (4415, 0.0), (4416, 0.0), (4417, 0.0), (4418, 0.0187497435184985), (4419, 0.0), (4420, 0.019994318967067132), (4421, 0.07461955622206626), (4422, 0.030267235778798113), (4423, 0.0), (4424, 0.0), (4425, 0.0), (4426, 0.016361068148591056), (4427, 0.019742494764384562), (4428, 0.02208693919267009), (4429, 0.0), (4430, 0.0), (4431, 0.0429527128659577), (4432, 0.0), (4433, 0.07823550709818265), (4434, 0.007808707924288386), (4435, 0.013486310241709936), (4436, 0.0), (4437, 0.05910805868413151), (4438, 0.029143644244764802), (4439, 0.0), (4440, 0.027789283732803698), (4441, 0.032722809120792895), (4442, 0.045238064635105324), (4443, 0.02849448664560969), (4444, 0.028700959739043855), (4445, 0.008115390824576546), (4446, 0.04317675526382605), (4447, 0.007395468788668697), (4448, 0.008512923223668256), (4449, 0.0), (4450, 0.0209533084417781), (4451, 0.022372318782447796), (4452, 0.024401650077791825), (4453, 0.0350726624474891), (4454, 0.009404265010892197), (4455, 0.0), (4456, 0.0), (4457, 0.008121475855093598), (4458, 0.008513287954243115), (4459, 0.01733363867605527), (4460, 0.032722515024116466), (4461, 0.0), (4462, 0.040041461125107806), (4463, 0.030795983437165393), (4464, 0.017066400457430676), (4465, 0.020649544156158054), (4466, 0.05117590243244261), (4467, 0.013864553987477473), (4468, 0.011719234253160186), (4469, 0.0), (4470, 0.03542969846850039), (4471, 0.037573903554342224), (4472, 0.019105571704852643), (4473, 0.03218611442366581), (4474, 0.018875961495657782), (4475, 0.011199870238157612), (4476, 0.0), (4477, 0.025597204228166224), (4478, 0.02625256600530047), (4479, 0.03093888865931312), (4480, 0.06531293661889223), (4481, 0.0), (4482, 0.0), (4483, 0.018239028253046557), (4484, 0.010868286164610495), (4485, 0.0), (4486, 0.008449177184476967), (4487, 0.050218862866128484), (4488, 0.011636619799528982), (4489, 0.033315262207017166), (4490, 0.0), (4491, 0.0), (4492, 0.03879575136652859), (4493, 0.014536174419357976), (4494, 0.0), (4495, 0.026301272727124188), (4496, 0.04041363693396986), (4497, 0.0), (4498, 0.052593570558199465), (4499, 0.0667711783537518), (4500, 0.0), (4501, 0.041703620693318455), (4502, 0.012401354244252665), (4503, 0.02345877329579714), (4504, 0.013105006378696448), (4505, 0.0), (4506, 0.03589075504341901), (4507, 0.04547518939651922), (4508, 0.015650472018654927), (4509, 0.0), (4510, 0.032343329182264555), (4511, 0.03184452397832233), (4512, 0.0), (4513, 0.0), (4514, 0.018493865701088314), (4515, 0.0), (4516, 0.0), (4517, 0.0), (4518, 0.021872342041243827), (4519, 0.018349410601425725), (4520, 0.0), (4521, 0.02764248905104068), (4522, 0.008883323710706333), (4523, 0.026380978056364378), (4524, 0.12523243007838208), (4525, 0.012291198184225135), (4526, 0.0), (4527, 0.0), (4528, 0.0), (4529, 0.0869624471463403), (4530, 0.07953268529957765), (4531, 0.03817597940653526), (4532, 0.0), (4533, 0.03217701541078857), (4534, 0.02356840866455766), (4535, 0.0), (4536, 0.0068196867599308415), (4537, 0.010610923072739321), (4538, 0.0), (4539, 0.032198742204035416), (4540, 0.0), (4541, 0.0), (4542, 0.008059231812670884), (4543, 0.0), (4544, 0.0), (4545, 0.0383435978989007), (4546, 0.0), (4547, 0.0), (4548, 0.022861882689454417), (4549, 0.0), (4550, 0.017466999110411736), (4551, 0.01196367762416415), (4552, 0.00844929156693611), (4553, 0.012871655180744897), (4554, 0.0), (4555, 0.023043671708126847), (4556, 0.061094062126694174), (4557, 0.008646776754703897), (4558, 0.03116896029294935), (4559, 0.0), (4560, 0.021913883475549775), (4561, 0.0), (4562, 0.010126559628368115), (4563, 0.018475765717870036), (4564, 0.00784878237797259), (4565, 0.0), (4566, 0.03378336189464645), (4567, 0.010331833793017739), (4568, 0.0), (4569, 0.0), (4570, 0.03621756992750823), (4571, 0.012952954174984477), (4572, 0.0), (4573, 0.0), (4574, 0.01919510072186811), (4575, 0.007552600861798174), (4576, 0.05539829143892077), (4577, 0.007484563515154314), (4578, 0.0), (4579, 0.0), (4580, 0.017061656696547026), (4581, 0.0), (4582, 0.024598928351818296), (4583, 0.0), (4584, 0.0), (4585, 0.022976622451269975), (4586, 0.0), (4587, 0.047191164817937906), (4588, 0.03431529107010421), (4589, 0.0), (4590, 0.0), (4591, 0.07017342128982064), (4592, 0.008126279584728929), (4593, 0.0), (4594, 0.008407730481618272), (4595, 0.0), (4596, 0.007184517153191145), (4597, 0.0), (4598, 0.0), (4599, 0.026888658155113758), (4600, 0.007459791453286192), (4601, 0.026876663199061922), (4602, 0.019768278805735583), (4603, 0.007603734130494886), (4604, 0.0), (4605, 0.05732731798622945), (4606, 0.01368580385626321), (4607, 0.015697758824228202), (4608, 0.03434631688720906), (4609, 0.022303227320450092), (4610, 0.019195800756003873), (4611, 0.08613662012123645), (4612, 0.0), (4613, 0.0), (4614, 0.0), (4615, 0.03464805258377661), (4616, 0.012932043251284093), (4617, 0.0), (4618, 0.018750695769460077), (4619, 0.0), (4620, 0.0), (4621, 0.025113190750706074), (4622, 0.008652694024990332), (4623, 0.024300431257083713), (4624, 0.018893556421347654), (4625, 0.00741157938545605), (4626, 0.0), (4627, 0.01864552204156834), (4628, 0.0991356050647295), (4629, 0.01879581590243623), (4630, 0.0), (4631, 0.009898886022206298), (4632, 0.00841541432565432), (4633, 0.030754504619041126), (4634, 0.02044449608526046), (4635, 0.0), (4636, 0.006874172189476995), (4637, 0.02599847305645654), (4638, 0.016435703135956346), (4639, 0.025694160850687077), (4640, 0.07213325036263821), (4641, 0.0), (4642, 0.0), (4643, 0.02392637016673076), (4644, 0.0), (4645, 0.0), (4646, 0.0), (4647, 0.06564879888077454), (4648, 0.008430269639492675), (4649, 0.016546671399221564), (4650, 0.02185232110930832), (4651, 0.0), (4652, 0.0116866645936547), (4653, 0.0), (4654, 0.0), (4655, 0.04613287564283628), (4656, 0.0), (4657, 0.007677040495820309), (4658, 0.058003452799091956), (4659, 0.0), (4660, 0.0), (4661, 0.012035921881971258), (4662, 0.0), (4663, 0.0), (4664, 0.022663785121127194), (4665, 0.014600002715589857), (4666, 0.031490629518136644), (4667, 0.03455987411379991), (4668, 0.0), (4669, 0.04374371278984904), (4670, 0.0), (4671, 0.0), (4672, 0.0), (4673, 0.0), (4674, 0.017364982461125514), (4675, 0.008120874128876018), (4676, 0.0), (4677, 0.010926295343069355), (4678, 0.013718416652699817), (4679, 0.0), (4680, 0.0), (4681, 0.0), (4682, 0.0), (4683, 0.01084669959367181), (4684, 0.07988482656758367), (4685, 0.0176892790164134), (4686, 0.0), (4687, 0.0), (4688, 0.0640023596034229), (4689, 0.0), (4690, 0.024456733238679553), (4691, 0.0), (4692, 0.08096147718815089), (4693, 0.0), (4694, 0.0), (4695, 0.018988510424578234), (4696, 0.0), (4697, 0.0), (4698, 0.0), (4699, 0.0), (4700, 0.011037320949733318), (4701, 0.07730106024291512), (4702, 0.015525806411952617), (4703, 0.015004440552920705), (4704, 0.0), (4705, 0.0), (4706, 0.009056255755725842), (4707, 0.0), (4708, 0.0), (4709, 0.029781286452024536), (4710, 0.0), (4711, 0.009620861835063867), (4712, 0.006430271645490895), (4713, 0.008263164703790916), (4714, 0.0), (4715, 0.0), (4716, 0.0), (4717, 0.02547398101887002), (4718, 0.00800560406481096), (4719, 0.0645087355743686), (4720, 0.009893855210276343), (4721, 0.05602941193370434), (4722, 0.02910233783788635), (4723, 0.0), (4724, 0.0), (4725, 0.025154693772891274), (4726, 0.019278248032004196), (4727, 0.0193556698449011), (4728, 0.014880690299353409), (4729, 0.0), (4730, 0.0), (4731, 0.09063226703707472), (4732, 0.014809838871513966), (4733, 0.029991956803766043), (4734, 0.008809280817836657), (4735, 0.04066489951102421), (4736, 0.010803705789107615), (4737, 0.009242657271421841), (4738, 0.029996567296301815), (4739, 0.0), (4740, 0.0), (4741, 0.008134051174199207), (4742, 0.0), (4743, 0.023796347288896263), (4744, 0.016704520647580247), (4745, 0.0), (4746, 0.009245595399996379), (4747, 0.03518782238769241), (4748, 0.0), (4749, 0.0), (4750, 0.0), (4751, 0.0), (4752, 0.0097261584538691), (4753, 0.0), (4754, 0.043484704788569487), (4755, 0.0), (4756, 0.01968165288087414), (4757, 0.0), (4758, 0.0), (4759, 0.0)]\n"
          ]
        }
      ]
    },
    {
      "cell_type": "code",
      "source": [
        "len(Recommendation_Score)"
      ],
      "metadata": {
        "colab": {
          "base_uri": "https://localhost:8080/"
        },
        "id": "x36prrk7nwnf",
        "outputId": "33247edc-ee15-4b8a-d9bd-0855e45712aa"
      },
      "execution_count": 51,
      "outputs": [
        {
          "output_type": "execute_result",
          "data": {
            "text/plain": [
              "4760"
            ]
          },
          "metadata": {},
          "execution_count": 51
        }
      ]
    },
    {
      "cell_type": "markdown",
      "source": [
        "## **All Movies Sort Based on Recommendation Score wrt Favourite Movie**"
      ],
      "metadata": {
        "id": "vhAwWfG0jFun"
      }
    },
    {
      "cell_type": "code",
      "source": [
        "# Sorting the movies vbased on similarity score\n",
        "Sorted_Similar_Movies=sorted(Recommendation_Score,key=lambda x:x[1],reverse=True)\n",
        "print(Sorted_Similar_Movies)"
      ],
      "metadata": {
        "id": "lND3jJj_jhx4",
        "colab": {
          "base_uri": "https://localhost:8080/"
        },
        "outputId": "e34c84cc-da8a-470d-9e1a-f22ffe828c63"
      },
      "execution_count": 54,
      "outputs": [
        {
          "output_type": "stream",
          "name": "stdout",
          "text": [
            "[(2234, 1.0), (2732, 0.15426261394444393), (3882, 0.14461610916017437), (3098, 0.14396209496778173), (846, 0.13918278862445838), (896, 0.1303562656542937), (211, 0.12841013254076564), (4524, 0.12523243007838208), (232, 0.1251697289097215), (1523, 0.11751314675031929), (1010, 0.11559585114321971), (2998, 0.11550624062415185), (3950, 0.114221078415313), (3912, 0.11421657129879441), (605, 0.11331363650743903), (3496, 0.1132575818519071), (1956, 0.11211215236436864), (2395, 0.10928246681676229), (3616, 0.10909692817414118), (2553, 0.10774072418745927), (286, 0.1046622161205772), (2776, 0.10465887455383166), (1578, 0.10436449449836566), (3315, 0.10291970370509979), (780, 0.10161819266593348), (1935, 0.10090945691989309), (3421, 0.10070146049744769), (1109, 0.10002684889145472), (1888, 0.09943382716462498), (4628, 0.0991356050647295), (3320, 0.09905353482863925), (3168, 0.09892403416427532), (1139, 0.0985223410562503), (4197, 0.09799442833731178), (3472, 0.09747456713011667), (194, 0.09735419575940471), (1006, 0.09716435650350048), (3772, 0.09683332101457688), (660, 0.0962217203145757), (212, 0.09584043049025776), (92, 0.09524638010081032), (583, 0.09430416641419614), (1626, 0.09393777227170387), (579, 0.09387183109430364), (356, 0.09366244676562897), (2111, 0.0934192340895286), (3789, 0.09330198905306412), (4287, 0.09306565794312366), (225, 0.09295405373461385), (1305, 0.09142922628569305), (3511, 0.09097836110257905), (1743, 0.09097196853941769), (1860, 0.09070454951679363), (4731, 0.09063226703707472), (2831, 0.09062170004217254), (3304, 0.08995009226800302), (3578, 0.0892987654511595), (2779, 0.08886512504107094), (2625, 0.08854311526668238), (591, 0.08790923181008578), (1091, 0.08763564124474954), (741, 0.08696624003977538), (4529, 0.0869624471463403), (1011, 0.08689133926915701), (3934, 0.08618675765678617), (4611, 0.08613662012123645), (1881, 0.0859942516183292), (2161, 0.0857634440920569), (43, 0.08546108161951892), (3881, 0.08526841852312537), (1903, 0.08501915667581915), (3100, 0.08427777760004476), (695, 0.08417731054302285), (1228, 0.08417114408125981), (3149, 0.08367859698811192), (2809, 0.08366843710317073), (1690, 0.08316873854419074), (3509, 0.08303508790221283), (86, 0.08299271297918139), (3515, 0.08276170144520108), (4022, 0.08264135931482554), (3641, 0.08217912475597647), (4692, 0.08096147718815089), (1045, 0.08089412201087252), (2009, 0.08053040622458976), (2663, 0.08052771346779042), (1009, 0.08050680179957218), (3653, 0.08038547336732095), (703, 0.08023808484703077), (4329, 0.08016928497601361), (508, 0.0799704287729544), (4684, 0.07988482656758367), (2730, 0.07962281905359257), (4530, 0.07953268529957765), (1445, 0.07932723221120526), (2592, 0.07905644551613401), (1367, 0.07890744624074274), (1816, 0.07850397544040819), (4433, 0.07823550709818265), (1247, 0.07808022720089504), (2608, 0.07742680913703344), (4701, 0.07730106024291512), (349, 0.07718195564314256), (2051, 0.07699970863065622), (1763, 0.07670673190600907), (1818, 0.07649886730357663), (491, 0.07582410827199994), (3193, 0.07519597892475312), (582, 0.07477124183687951), (4421, 0.07461955622206626), (1458, 0.07436493919882875), (3913, 0.07435389219701193), (4320, 0.07425993982127448), (456, 0.07417920259309727), (3430, 0.07371947797539712), (2457, 0.07369961649361191), (4109, 0.07368839688940047), (4040, 0.07367288645189254), (530, 0.07340724859085787), (2359, 0.07310979052079719), (4104, 0.072795433175078), (2687, 0.07279170959336177), (3390, 0.07273287526466186), (1382, 0.07272463030402465), (0, 0.07242749005204199), (131, 0.07231536451301646), (620, 0.07226269812651272), (1368, 0.07225547643050942), (4640, 0.07213325036263821), (331, 0.07207374805872824), (1180, 0.07202393764564688), (962, 0.07175068752716554), (3890, 0.0711916187943995), (737, 0.07094035697178823), (3829, 0.07064499485542208), (700, 0.07046182280661736), (4591, 0.07017342128982064), (1552, 0.06999598012346876), (3892, 0.069316677476674), (1329, 0.06909112011477131), (1425, 0.0689047978827117), (1992, 0.06862893355254772), (1255, 0.06860011812681087), (2143, 0.06824269058146622), (1867, 0.06779767276987846), (618, 0.06761786752843696), (1038, 0.06755035370213806), (2032, 0.06745033357830874), (4001, 0.06740467992221516), (3077, 0.06718002139972791), (1365, 0.0670543027466331), (3111, 0.06701439368430231), (4499, 0.0667711783537518), (2068, 0.06672043164088881), (3681, 0.06634195397681536), (4310, 0.06626570448060357), (1785, 0.06625985630299375), (3407, 0.06611713815534995), (3404, 0.06598893454345295), (1789, 0.06587352898335726), (4647, 0.06564879888077454), (3230, 0.06548474487245735), (1693, 0.06544618115725559), (1557, 0.06532416487035857), (4480, 0.06531293661889223), (1201, 0.0651877766357442), (3147, 0.06517959817358497), (1701, 0.06500646239686425), (1103, 0.0647969830344713), (1131, 0.06460731763846637), (3571, 0.06458358813309795), (4719, 0.0645087355743686), (742, 0.06444370813130876), (994, 0.06419248293258874), (3413, 0.06404554537530287), (4688, 0.0640023596034229), (691, 0.06383147669979897), (3419, 0.06366492650299645), (89, 0.0636454398780845), (4061, 0.0635897318774439), (1216, 0.06353040910307454), (3932, 0.06336694222764609), (2249, 0.06322797907065175), (1778, 0.06303678216927035), (3247, 0.06298219152474933), (3211, 0.06285974414796794), (601, 0.0628425329073582), (1408, 0.0625570237644757), (2, 0.0625286063269125), (730, 0.0625068013278611), (155, 0.06250613669921201), (709, 0.06245419688058891), (670, 0.06240521231005383), (1536, 0.06236660736557831), (4409, 0.06223749038078752), (3754, 0.06211719694327062), (1580, 0.06177260667604556), (237, 0.0615218233491687), (648, 0.06139093745024205), (1680, 0.06124366393938245), (1897, 0.06118539045505361), (1827, 0.06110419337214414), (4556, 0.061094062126694174), (4054, 0.06098749141677625), (1539, 0.06096463368746098), (3178, 0.06094961272981675), (279, 0.06085850722262971), (2566, 0.06085285663196848), (2610, 0.06083011831380075), (3861, 0.06080710636077262), (1157, 0.060769915457991264), (1893, 0.060709715842234696), (3683, 0.06052060726422797), (1814, 0.06035352429593081), (935, 0.06019200544188033), (3073, 0.0601731609491188), (2637, 0.060146976661632746), (1714, 0.059998789755545706), (24, 0.05976987217899514), (2116, 0.059708032866144296), (978, 0.059586235739032135), (2142, 0.059422772822943365), (4357, 0.05938218985376946), (231, 0.05936046561774776), (110, 0.05925034848251205), (609, 0.05911049741501511), (4437, 0.05910805868413151), (302, 0.05907707479130983), (1798, 0.058964101448811354), (630, 0.05891177565828827), (1585, 0.05890098972617125), (1492, 0.05888255682157104), (3082, 0.05888213575416409), (2560, 0.05886778647393576), (1297, 0.05857864423647624), (3612, 0.0585283146050172), (3778, 0.058430984973773796), (3463, 0.058418859413917806), (2199, 0.05836152376605856), (3184, 0.05820779326216966), (4340, 0.05817981958528747), (2194, 0.05804624224996281), (4658, 0.058003452799091956), (2629, 0.05793050094207568), (1606, 0.057830409092829486), (200, 0.05771003983348087), (3867, 0.0577099381886792), (96, 0.05758441725880822), (3477, 0.05748639733751548), (2306, 0.05744803109826711), (3116, 0.05738543744247096), (3668, 0.05737920170528177), (98, 0.05737353808646499), (3357, 0.057338689381336946), (4605, 0.05732731798622945), (3924, 0.05715922882969343), (3643, 0.0571471184875795), (667, 0.057120279366748995), (4198, 0.05711242045299758), (2114, 0.05707140963486685), (3712, 0.05697443053224063), (923, 0.05693791708546328), (3297, 0.056701569311999454), (3310, 0.05667785019207841), (3709, 0.05663174458558927), (4327, 0.056615356168491726), (4186, 0.05656150420928745), (3117, 0.05622538177402309), (1234, 0.056042223988831324), (4721, 0.05602941193370434), (1049, 0.055987706207514386), (1802, 0.055889109623847716), (4166, 0.05584016758258088), (3656, 0.05583983979927737), (4, 0.05574897111501531), (324, 0.05557565663894584), (3183, 0.05546963467257105), (4576, 0.05539829143892077), (1026, 0.05537918761165759), (4097, 0.05516923276000617), (125, 0.055155914162322635), (294, 0.05508620620687025), (266, 0.055045658031970396), (3060, 0.05497208334812856), (3916, 0.05488691168473606), (4009, 0.05484061455552693), (2919, 0.05458318096041495), (4063, 0.05457836644203909), (537, 0.054572849464552896), (1219, 0.054534698537512735), (645, 0.05451357473763234), (3238, 0.05450810843642817), (2206, 0.05446392768089403), (3891, 0.05441096873319372), (31, 0.05432590983814585), (1722, 0.054148034750497905), (1991, 0.0541206856223016), (2258, 0.05409943224791351), (4002, 0.05402634242185054), (1003, 0.05400689017277993), (697, 0.05400202680734929), (4144, 0.05391170169192237), (3449, 0.05391140683673455), (2448, 0.05390790599273455), (939, 0.05382168290382906), (1094, 0.05372781639976734), (4375, 0.05364840725019546), (957, 0.053501249731445634), (3662, 0.053473706982832984), (2588, 0.05343873016879741), (1129, 0.053435680706788474), (1296, 0.053365555577890196), (3619, 0.05322316727422987), (3182, 0.05322141007183652), (3212, 0.05317945489139042), (966, 0.05308484369002701), (3466, 0.05298718368602018), (4075, 0.05298202240182401), (1996, 0.05297194088484869), (1951, 0.05293770848114866), (3418, 0.05287424607769411), (3129, 0.052825836723444645), (3839, 0.052807828941699775), (1515, 0.05278322570453802), (178, 0.052774559185611976), (1733, 0.052716882596538256), (129, 0.05270234211406664), (4498, 0.052593570558199465), (783, 0.05251369704548027), (3657, 0.05247220293832681), (689, 0.05241461915570216), (2512, 0.0524030486728916), (2221, 0.052211300336256164), (870, 0.052175828084746925), (1787, 0.05199833061815505), (4325, 0.05196164779542164), (2073, 0.05194963921591009), (3169, 0.05190786484530605), (2749, 0.051857521395367916), (2766, 0.05182749760229148), (489, 0.051778103389713115), (1762, 0.05172474499499068), (1662, 0.05167155726457922), (3977, 0.05164230925981373), (589, 0.05162829463117334), (1211, 0.05161131136695914), (4090, 0.05152427119892726), (2375, 0.0515082359120486), (1759, 0.05133890540814692), (3289, 0.05130522339094067), (3582, 0.051284118435242304), (4466, 0.05117590243244261), (2999, 0.05114353008430295), (4223, 0.05105362239299348), (3083, 0.05105327262002066), (4155, 0.05099909298452897), (1501, 0.05094938069817429), (1176, 0.050945448355293535), (1169, 0.05089181448832321), (2107, 0.05088699097352081), (3365, 0.05087300864768106), (4347, 0.05084143389895432), (3711, 0.0508057949344862), (1463, 0.05079703802830985), (2661, 0.05078383287233293), (665, 0.05072939408276368), (1639, 0.05072602632710889), (3606, 0.05070338470572581), (2491, 0.05068237751152162), (1412, 0.05056625611747759), (355, 0.05052305604321243), (1633, 0.05048651607976494), (3271, 0.05046095672573723), (3533, 0.05045995144171912), (2603, 0.050456381156099114), (705, 0.050335738986480756), (2201, 0.050325184479625855), (2235, 0.05029269508060354), (2367, 0.05025924955596793), (856, 0.05024148134404827), (4487, 0.050218862866128484), (3000, 0.05021618427713518), (2167, 0.05009577226878538), (3866, 0.05006424489011681), (4181, 0.05005043620384626), (3878, 0.04991401023106659), (1569, 0.049868507224947324), (1612, 0.04985440553668546), (2897, 0.0498180996355506), (2237, 0.049772720559035345), (622, 0.049691956447232365), (3678, 0.04968790706288426), (3536, 0.04968746684409169), (227, 0.04962827647547752), (1021, 0.04953382690956601), (1692, 0.049523607135397676), (3800, 0.04938987602224479), (2696, 0.04936377640637315), (1052, 0.04935946087832843), (1205, 0.04935631983528171), (731, 0.049346980723801025), (3647, 0.04934425854962292), (3556, 0.049304777468683496), (1938, 0.049294800445967756), (1126, 0.04926472938214749), (188, 0.049249067244538536), (3104, 0.04919189001322846), (465, 0.0491697211663583), (3408, 0.04910743466965576), (1323, 0.04905419558139942), (29, 0.04903478497006039), (621, 0.048986735158837266), (1506, 0.04891249048482771), (1758, 0.04887916303190581), (3943, 0.04881677626970243), (2807, 0.04879390853031915), (748, 0.04879152751737922), (3401, 0.04869670761862969), (1974, 0.04868283362189631), (1409, 0.04858701286274403), (209, 0.048500379190099835), (3120, 0.048489841127813765), (1878, 0.04843289735601071), (2226, 0.0484248561293765), (440, 0.04840875699611811), (4280, 0.048405676351224294), (3066, 0.04839870416733484), (1046, 0.048396754931037664), (4139, 0.04834568284263887), (2159, 0.04832615194510062), (3706, 0.04824283805633835), (1175, 0.04817480084729517), (938, 0.048051088382274426), (4095, 0.04804791643911505), (3500, 0.04803643129134561), (1592, 0.04799794557252715), (157, 0.047979719857524014), (1004, 0.047978836019520715), (2335, 0.04789308792029154), (3061, 0.04784596914448147), (2903, 0.04764109193442993), (3864, 0.04760900717668443), (794, 0.04760533032591183), (3308, 0.04759098577515605), (2202, 0.0475012839753612), (3323, 0.04743620866514183), (2538, 0.047382864965303105), (892, 0.04737169942148486), (3003, 0.04736401245253957), (2368, 0.04729116163179898), (1931, 0.04722993707970197), (4587, 0.047191164817937906), (3862, 0.04717578961075994), (3319, 0.04714288887123061), (2769, 0.0470298400459915), (18, 0.04692985366201118), (2286, 0.046878921061157916), (2308, 0.04684967602712768), (3856, 0.046770676375992415), (2147, 0.0467095053191322), (2182, 0.04669352135070197), (434, 0.046642690896637154), (3123, 0.04663761765497847), (108, 0.0465845120456426), (3914, 0.046541909864857685), (1538, 0.046531703352474), (457, 0.04651654289477335), (3969, 0.046503436612254714), (1374, 0.04627630959656135), (1217, 0.046244430880849105), (2611, 0.0462269116584835), (2857, 0.04621021193303085), (3369, 0.0461804395514606), (4655, 0.04613287564283628), (2001, 0.04608999138285996), (906, 0.04603290620363996), (3834, 0.045851328714012346), (1828, 0.04579931262725591), (2631, 0.04579684768950569), (2804, 0.045776208796018424), (2534, 0.04573086841791393), (619, 0.04571570021586484), (269, 0.045585744164347686), (4507, 0.04547518939651922), (3860, 0.04547246244489969), (2488, 0.045462085209816344), (3205, 0.04538184534348361), (1351, 0.045270004056820586), (4442, 0.045238064635105324), (3673, 0.04522743081644836), (3443, 0.04513732931763943), (1605, 0.045036484559832224), (22, 0.044890927986568366), (3909, 0.04485754088869064), (1188, 0.04483132709718325), (1978, 0.04471544970538492), (4080, 0.04469760870009146), (2646, 0.04466864753897478), (1654, 0.04451870788138556), (2844, 0.04451098701605553), (3686, 0.04450420298455038), (1075, 0.04449642886622823), (1442, 0.04447907486890824), (3733, 0.04438278052601442), (2552, 0.04422013818871126), (1254, 0.044089862253718394), (1663, 0.04400051778124842), (975, 0.043782077936329426), (2798, 0.04374943096320399), (4669, 0.04374371278984904), (1438, 0.043721471351322684), (2528, 0.04366017547743867), (15, 0.04362963461266872), (2980, 0.04361546682612748), (1421, 0.04354544102058395), (3360, 0.043534966665746445), (2177, 0.04353339919765027), (4754, 0.043484704788569487), (1023, 0.043438015453279036), (753, 0.04341765921753563), (2319, 0.043360229521152094), (1937, 0.04321664812161694), (928, 0.04318768106433201), (4446, 0.04317675526382605), (1353, 0.04313038773420302), (312, 0.0430068650721562), (538, 0.04300405303260083), (971, 0.042967191103227), (4431, 0.0429527128659577), (45, 0.04290855508052597), (3329, 0.04289930774583342), (386, 0.04288792119089718), (4263, 0.04287438937297186), (2981, 0.04276812721745316), (2402, 0.04276014270082813), (664, 0.04275727321835275), (1820, 0.04271148538405585), (532, 0.042679800064446334), (66, 0.042629379274814395), (2693, 0.042625156168360254), (894, 0.04262089060507867), (2403, 0.04259365702782703), (114, 0.04248639557522589), (838, 0.042425504011356516), (562, 0.04240395196280379), (989, 0.042318386745904296), (1478, 0.042289091424119345), (3387, 0.04222259905831513), (566, 0.04217077058542945), (2517, 0.04197296979085107), (3235, 0.04195655471901574), (3270, 0.041947663615115004), (1911, 0.04192400679022274), (1456, 0.041846139509880746), (973, 0.041837028402369025), (347, 0.041764280956257456), (4501, 0.041703620693318455), (1939, 0.041687195884019694), (373, 0.04168202136015401), (2441, 0.04165094120845672), (455, 0.04164157516965564), (3858, 0.04161971605695433), (4410, 0.04160087146362431), (1072, 0.04159736332642366), (4295, 0.041590162179902454), (3644, 0.04154997252740404), (4027, 0.04152193086596276), (2109, 0.041505245832720195), (198, 0.041500137067573814), (121, 0.04145511730010727), (529, 0.04142103308336902), (3275, 0.041413500088290055), (3016, 0.04140812516516849), (3898, 0.04139883581714164), (4154, 0.04137042570729747), (3175, 0.04131392094022119), (754, 0.041300494627898005), (2570, 0.041257816275953), (3011, 0.04124527126009781), (4145, 0.041232828741153096), (680, 0.041161307750237824), (2699, 0.04113679784411595), (2223, 0.04106293290788372), (4101, 0.041049838224495254), (3229, 0.041046666195802925), (991, 0.04104273259147386), (1084, 0.04090343657904259), (584, 0.04090189529010128), (2642, 0.04089491689862158), (1401, 0.04089327220787177), (44, 0.04088073461431659), (3136, 0.040869869201247334), (1760, 0.04083034808623692), (1928, 0.04082928198437681), (3933, 0.0407907230801233), (1500, 0.04078478826240681), (524, 0.04073375264018204), (961, 0.0407227932580748), (3671, 0.04071244084068883), (2865, 0.040711342888276), (4735, 0.04066489951102421), (698, 0.04054882987038483), (2962, 0.040537386185583786), (713, 0.04053159144333096), (3437, 0.040518252805628895), (2746, 0.04051283360241773), (3696, 0.04046797083263922), (3691, 0.04042394814386998), (4496, 0.04041363693396986), (1718, 0.04041239772881485), (2542, 0.040403291948262296), (2203, 0.04035003240598654), (1655, 0.040349842820684254), (2975, 0.040274281879819365), (2103, 0.04019799356205812), (407, 0.0401705748003381), (4099, 0.0401579713353594), (4147, 0.04013459582072655), (4462, 0.040041461125107806), (1259, 0.04000285832519125), (4015, 0.03996407491421507), (1204, 0.03993411985915688), (2041, 0.03991680679922515), (1993, 0.03983425277859956), (1879, 0.03981919224556394), (4355, 0.03980535423767784), (305, 0.039798648002072945), (214, 0.039763243194080845), (3767, 0.039732309573135664), (563, 0.03972639032918675), (1707, 0.03967530065939293), (2742, 0.03965678576094605), (1402, 0.039618923420963625), (3993, 0.039602766358358035), (2662, 0.03956265837824889), (2254, 0.03953133265804624), (308, 0.03950974354962058), (769, 0.039508275860555594), (842, 0.03935299526321739), (4236, 0.03928856774514164), (3014, 0.039257972231647856), (4256, 0.03921706203545806), (736, 0.039187842098381775), (1270, 0.03915740239764139), (3964, 0.03914977649794335), (205, 0.03913226836189095), (3177, 0.03910533297171238), (2000, 0.03893528092167453), (768, 0.0389306025315644), (3342, 0.038917671062961845), (4492, 0.03879575136652859), (395, 0.0387805334268347), (931, 0.03869975667874054), (2240, 0.03869462037746425), (1172, 0.0385343774729424), (1941, 0.038520364322035906), (1233, 0.03843495390668881), (2174, 0.03843308399042887), (2501, 0.03841914777614485), (113, 0.03840779381368936), (3224, 0.03840607565662263), (790, 0.03839574488426092), (1503, 0.03836632657644575), (4545, 0.0383435978989007), (1059, 0.03831236488443905), (25, 0.038286771080757905), (1677, 0.03826106847191649), (4531, 0.03817597940653526), (3089, 0.03816523346752401), (1977, 0.03815850404005992), (3879, 0.038122779942964265), (318, 0.03812063637476435), (3206, 0.03811840633737475), (273, 0.03811347270821952), (1494, 0.03809587743530693), (1405, 0.03805703592200446), (1549, 0.03803093784439892), (3448, 0.03802992412506449), (1734, 0.03802971751850745), (1876, 0.03802798476272232), (327, 0.03795966099835754), (3722, 0.037910021669593404), (3442, 0.037898595096606064), (843, 0.03786757572282509), (1221, 0.03786691085741557), (3850, 0.03786623733549361), (1125, 0.03782246209915066), (3870, 0.03779311562112762), (3096, 0.03777684018236452), (4362, 0.03775084062214421), (1833, 0.037684906886132866), (808, 0.037654750020030915), (2564, 0.03763980990681382), (692, 0.037618328640115425), (1791, 0.03760873384333538), (1281, 0.03759300542844453), (4471, 0.037573903554342224), (433, 0.03756928528653183), (1, 0.03753063532975679), (2939, 0.03744090209553523), (2391, 0.037439866241293494), (2814, 0.03742618150142068), (1676, 0.03741213762757164), (1482, 0.03733328438596557), (4192, 0.03733020560163474), (3852, 0.037222500011521345), (1464, 0.03722128697719218), (2060, 0.03721093556591115), (3875, 0.03719552022498596), (3074, 0.03717194818850568), (3067, 0.037155016035789), (320, 0.03714591376211825), (702, 0.03710280559211023), (3330, 0.03708867908395689), (1507, 0.037084686947648604), (2928, 0.037075633659526624), (2854, 0.03703047872962407), (3213, 0.03701855958684602), (2793, 0.03697561020112672), (415, 0.03696399563846533), (4084, 0.036919489007585835), (2753, 0.03690866571209675), (2309, 0.03689560059748014), (867, 0.036894628442977445), (334, 0.03689268579777154), (2108, 0.03686820607947418), (3071, 0.03683121441998842), (3346, 0.03674066255558152), (3607, 0.03673737365304859), (2409, 0.03672026737806576), (1927, 0.036706356138837326), (4076, 0.03670462186275338), (1403, 0.036664340069525334), (2992, 0.03666423166615508), (1053, 0.036662664804169194), (3220, 0.0365872789004111), (3152, 0.036555943166107656), (3043, 0.03647365109354852), (3389, 0.03647283911021019), (3865, 0.036465857802916404), (694, 0.03639639861509958), (37, 0.036366850722134345), (3597, 0.036262857510758306), (1261, 0.03624527646920238), (2253, 0.03622631767884431), (3626, 0.036224720258722296), (4570, 0.03621756992750823), (671, 0.03619652096874849), (1725, 0.03619297387309821), (4307, 0.0361734815822948), (1488, 0.03615840480732893), (1032, 0.036113448663533984), (3209, 0.036110181513570094), (623, 0.03609226955800591), (4171, 0.03608735015976715), (812, 0.03605642519764827), (54, 0.03603996927620082), (3300, 0.03603563464256703), (4252, 0.03601815294275076), (1166, 0.03601027858481127), (1207, 0.03600881104498418), (410, 0.03595170733877116), (346, 0.035921383326706496), (2211, 0.03591909686258335), (2043, 0.03591146279787331), (4506, 0.03589075504341901), (3570, 0.03588895850765297), (3045, 0.035888055719841244), (1178, 0.035871513603988874), (280, 0.0358509010250851), (3517, 0.035830963909558755), (1700, 0.03582698892983364), (3520, 0.03580129361138543), (1090, 0.035753333462865314), (2843, 0.035739219648079204), (3451, 0.03573808857921189), (602, 0.035649103753214804), (2995, 0.0356452917698228), (2815, 0.03564167814129437), (2597, 0.035624969825529824), (2056, 0.035612045850539745), (2399, 0.035588916130443016), (2053, 0.03556429537792438), (3589, 0.03555361999654029), (1149, 0.03552306700430541), (3954, 0.03549594370340978), (1183, 0.035489931074586804), (2738, 0.035475821990025684), (3241, 0.035452688349403974), (4470, 0.03542969846850039), (1242, 0.03542735025484208), (1208, 0.03537150437420793), (3828, 0.03536524847231937), (1648, 0.03532447253799634), (309, 0.03531654150603966), (3325, 0.03531262985669014), (3417, 0.035296588671101796), (4148, 0.03529394216202966), (1124, 0.03527895248158898), (504, 0.035266142458071296), (2292, 0.035245615142575945), (4747, 0.03518782238769241), (3931, 0.03516605323747554), (2468, 0.03512415638685774), (2755, 0.0351239461462487), (2036, 0.03509654811833452), (1277, 0.03509090496718167), (4453, 0.0350726624474891), (193, 0.03507139115429669), (1433, 0.035014903098160716), (921, 0.035003404600304724), (3785, 0.034937450840772266), (948, 0.03493348049295825), (1419, 0.03488429758669494), (1127, 0.034874395604571264), (1616, 0.03486875708177345), (3811, 0.0348387398418549), (3688, 0.034805792114394836), (2514, 0.03479258772826415), (2836, 0.03478178261103389), (2589, 0.034733152980145156), (1293, 0.034712672712625334), (756, 0.034711289158568054), (148, 0.03469712046438192), (2909, 0.03468926140613147), (192, 0.03466158936467535), (4615, 0.03464805258377661), (2957, 0.0346206456432684), (1934, 0.034602603763677506), (1475, 0.034580168282921986), (549, 0.034574086315211985), (4667, 0.03455987411379991), (2744, 0.03451940658584493), (1490, 0.0345062675980094), (23, 0.03440452175387153), (2141, 0.034356679053972605), (4608, 0.03434631688720906), (1737, 0.03433083956974903), (4588, 0.03431529107010421), (3268, 0.03430461133049959), (4245, 0.03430240147014048), (1348, 0.03428405063018237), (1278, 0.03426240408545701), (4335, 0.03424102936520851), (1999, 0.034224249978898405), (2951, 0.034178148289374474), (2982, 0.034152695723633136), (472, 0.03414964339333626), (358, 0.03413866946570164), (1063, 0.0341381152609984), (1914, 0.03411029207357816), (4314, 0.034045221207074566), (271, 0.034029180785647706), (1366, 0.034018841900031044), (3294, 0.03400334520328453), (1831, 0.03397815022167258), (175, 0.03391852528356249), (3764, 0.03391376113529094), (1165, 0.03387921130848421), (3236, 0.03380969957491037), (1871, 0.03378345897090414), (4566, 0.03378336189464645), (52, 0.03378281858564495), (1675, 0.03376108615437657), (1942, 0.03374799755030152), (2591, 0.03372639469424936), (4085, 0.033723836469740705), (2007, 0.033690525445328676), (1302, 0.03368987615840528), (684, 0.03363847799260729), (847, 0.03358671089566154), (2122, 0.033554605953720604), (223, 0.033551846357828666), (1301, 0.03351124489469514), (4051, 0.03348081911433749), (3802, 0.0334790021656345), (3447, 0.033469111538394575), (4411, 0.03346687148556093), (1973, 0.03346426548266188), (597, 0.033453755118793546), (3632, 0.03343070482933245), (1596, 0.03336705145265916), (4089, 0.033336879468644026), (2761, 0.03333212704203158), (2037, 0.03332049986729735), (4489, 0.033315262207017166), (201, 0.03331011998488977), (4064, 0.03329146296466635), (1279, 0.033281261230447216), (3223, 0.03328015876433638), (1251, 0.03326556533854586), (1170, 0.03325419872018931), (409, 0.03324963308877098), (951, 0.03322683183152335), (1965, 0.033203936347004685), (998, 0.033203012997715706), (4260, 0.03320050061205292), (603, 0.03319351225638929), (1866, 0.03319280122262677), (3758, 0.033182612748214865), (2266, 0.03312590777974859), (2772, 0.03312474996017763), (2207, 0.033063541457206226), (172, 0.033060930998573296), (2509, 0.03303461913706428), (262, 0.03302857551760997), (1336, 0.03298731374393663), (1555, 0.03298514856910847), (3403, 0.03295094464774084), (3579, 0.03290943708632298), (3081, 0.03290909088768496), (87, 0.03289004826549381), (2153, 0.032885402300826504), (1372, 0.032883061227601484), (3842, 0.032871092061045486), (1883, 0.03284976405016607), (2263, 0.032815025739869615), (1594, 0.032792712310068736), (464, 0.03278790914822853), (3630, 0.032731945041983894), (4441, 0.032722809120792895), (4460, 0.032722515024116466), (520, 0.03270948056826178), (693, 0.03269507144557167), (2751, 0.03266645930740519), (2189, 0.03265142698575742), (2936, 0.03260670506696717), (1040, 0.03260366399432039), (2058, 0.03259073353421186), (1155, 0.03258391467428267), (3495, 0.03257246910386656), (3889, 0.03254652068085229), (3600, 0.03254485808273377), (3808, 0.032519529465440566), (2682, 0.032507942396896757), (1443, 0.03250497127691943), (3039, 0.03249018362251123), (3057, 0.032459133471154984), (3335, 0.032380047740103314), (377, 0.03236975657205567), (1516, 0.0323499326789348), (4510, 0.032343329182264555), (3665, 0.032307024211853816), (3548, 0.032298283953720947), (1856, 0.032220615765671784), (3278, 0.03221828688867537), (2461, 0.032206586965947165), (1404, 0.032205862339053), (4539, 0.032198742204035416), (4473, 0.03218611442366581), (4533, 0.03217701541078857), (4183, 0.032172656536961455), (3921, 0.03216789713910334), (497, 0.03213827461082468), (3739, 0.03213821850999636), (1994, 0.03213356791144791), (91, 0.03213128307740296), (454, 0.03211721222145883), (3899, 0.03210475036546879), (3557, 0.0321039398237568), (874, 0.03209367415800191), (1954, 0.0320229924647239), (1830, 0.03200011255028142), (1276, 0.031970956668585376), (1238, 0.03196461403382013), (3246, 0.03193045798525624), (85, 0.031910894030465764), (4511, 0.03184452397832233), (2187, 0.03184189074114236), (3202, 0.03183952678851361), (2487, 0.03183451830147542), (2430, 0.031827967787904525), (760, 0.031827732517357474), (2398, 0.03181732497527493), (1000, 0.03180904687296087), (1598, 0.03177027463147125), (3192, 0.03176958324035312), (1553, 0.031723495505804916), (772, 0.03171666851829734), (2729, 0.031712750360972826), (752, 0.03171027527366894), (3487, 0.03168652365366894), (1561, 0.03168198642872552), (1378, 0.03166629116960914), (1479, 0.031661865165423554), (4127, 0.031655458837970905), (4364, 0.03162583480597439), (2014, 0.031616980579167904), (246, 0.0316121135850059), (2264, 0.0316036341943108), (146, 0.03159320728569698), (4365, 0.031580833004879474), (1215, 0.031536427670150705), (4079, 0.03151717887278536), (2633, 0.03150579400072569), (672, 0.03150093594545465), (4666, 0.031490629518136644), (1702, 0.03149018418945223), (751, 0.03146957792026351), (1801, 0.03145491193795649), (1269, 0.031454656983784), (4018, 0.031419587366346285), (1256, 0.031362839740143277), (2802, 0.03133677206085002), (3516, 0.03132669472864285), (2160, 0.031256668105023644), (284, 0.031204723470215245), (4558, 0.03116896029294935), (4333, 0.031167676213896094), (3658, 0.03105425368521956), (3648, 0.03105094069495306), (4046, 0.031023105560359296), (1746, 0.031000871541521365), (4479, 0.03093888865931312), (3244, 0.030854949119963313), (1446, 0.030841897144405654), (3763, 0.03084108364760907), (1807, 0.030838696529087516), (4463, 0.030795983437165393), (830, 0.03078340343506455), (4633, 0.030754504619041126), (2327, 0.030731236474551178), (255, 0.03066545103329778), (3367, 0.03062306298757844), (2820, 0.03060989424321009), (1915, 0.030607298878596017), (3876, 0.03060658124845381), (3164, 0.03058357155099868), (647, 0.030571091368322412), (683, 0.030481559217106123), (4164, 0.03045032788862044), (3076, 0.030441353153629433), (1364, 0.030412504305450533), (1245, 0.030408702090180366), (3424, 0.030397377162910313), (1289, 0.030361839224339215), (2760, 0.03034036154644066), (1845, 0.030323262162663473), (915, 0.03031630616570927), (1821, 0.030292948953259572), (1806, 0.030289338166280377), (2852, 0.03027832920765154), (4422, 0.030267235778798113), (3694, 0.030262815706504763), (1824, 0.030252440540568984), (3295, 0.03022857558183064), (254, 0.030224352208952567), (105, 0.030221410919873362), (588, 0.03018470591286321), (3231, 0.030162276294461426), (2460, 0.030158371651855125), (3798, 0.03013083746763549), (890, 0.030107247423254074), (2472, 0.03010541446519106), (490, 0.03010151085586902), (2347, 0.030078790583931043), (865, 0.030069008937719258), (1134, 0.03005503313883833), (4132, 0.030048662786005677), (3395, 0.03004578723952577), (785, 0.03002796927348323), (288, 0.030005595358249128), (4738, 0.029996567296301815), (4733, 0.029991956803766043), (1485, 0.029968635424042045), (1520, 0.029967507122415624), (1345, 0.029943659577754245), (1061, 0.029904085718424997), (4350, 0.029898458941557633), (4117, 0.029793612283654076), (4709, 0.029781286452024536), (4351, 0.02975291917624478), (3697, 0.029745560192198085), (1799, 0.029742876934582867), (1910, 0.02973593874106177), (2190, 0.029726131500738696), (1957, 0.029678552664359426), (775, 0.029663214249154385), (2579, 0.029652425848216757), (2087, 0.029633243102045608), (2321, 0.029593700550612775), (3745, 0.02959172846723132), (1096, 0.029557478658788904), (2313, 0.029491742107710116), (3034, 0.029479641637912113), (3638, 0.029470240264931277), (1579, 0.0294675896913408), (1558, 0.02946133572261659), (1563, 0.029456758762663314), (995, 0.02944941670811268), (3240, 0.02944660443693801), (1548, 0.02944317007139577), (2518, 0.0294404094879712), (1423, 0.029438970070299393), (2580, 0.029431224763848275), (997, 0.02942756953086298), (1832, 0.02941814500765517), (1588, 0.029405485804952905), (1793, 0.02938283595211899), (3303, 0.029376985589070058), (2548, 0.029372965728048296), (820, 0.029341751505509047), (2118, 0.029325078828877783), (3707, 0.029316239696247838), (2582, 0.02929126644231481), (2640, 0.02925839137255178), (1771, 0.02925803262595545), (3188, 0.029255671377832755), (3042, 0.029231139898317604), (1033, 0.02920850412087693), (1410, 0.029176330998451717), (4438, 0.029143644244764802), (1331, 0.029136869220458165), (2028, 0.029122480706046415), (1398, 0.02912068904132727), (3531, 0.029107714947956817), (4722, 0.02910233783788635), (3282, 0.029085510830003734), (4113, 0.029066301332606122), (2175, 0.02903224500577795), (4374, 0.02902294109128263), (2064, 0.028990674877487445), (2193, 0.028973076445274616), (3563, 0.02897255530017859), (3393, 0.028968675603889563), (3599, 0.028968483345606224), (3141, 0.028962269118844662), (4194, 0.028951159613424232), (1422, 0.02894218023475551), (3845, 0.02893867545490515), (75, 0.028932909840158186), (924, 0.02889349327517824), (3923, 0.028862593316906025), (2299, 0.028812124706032834), (35, 0.02879644761061209), (169, 0.02877632979463666), (4444, 0.028700959739043855), (3529, 0.02867982149326914), (2856, 0.02867348453157051), (2930, 0.028673090346983454), (4106, 0.02866446786581213), (3288, 0.028657153352324376), (4319, 0.028516638669224215), (4443, 0.02849448664560969), (1065, 0.02848977109628074), (880, 0.02834571452021254), (2140, 0.02830871549137368), (462, 0.028299977208820725), (3173, 0.028283882108945613), (3603, 0.028273819452327573), (3225, 0.028260116906012753), (633, 0.028218521914391125), (1527, 0.028189970785127184), (4356, 0.028177090613874935), (531, 0.028144379025951134), (2250, 0.028082097111470517), (3558, 0.028068527931162136), (2789, 0.02806527699176532), (2154, 0.028064487361059116), (2256, 0.028040477707536423), (216, 0.02799237733223075), (1496, 0.02797665005882986), (547, 0.02796678025369706), (4371, 0.02796566814743816), (1534, 0.027937781749447735), (3541, 0.027908414520345644), (400, 0.027884453254875555), (1282, 0.027880284567764556), (1073, 0.027845595702615536), (2817, 0.027830514837197697), (2876, 0.02781768007065486), (4440, 0.027789283732803698), (352, 0.027788994539225235), (3972, 0.027755259375177713), (2245, 0.02773971990343696), (207, 0.027735390651450673), (173, 0.027725299016168298), (4278, 0.02772495444579742), (3705, 0.027666800629114773), (3492, 0.027664386313879234), (4521, 0.02764248905104068), (32, 0.02762840462859662), (179, 0.027605716016354732), (968, 0.027603404866233187), (3277, 0.027554722961671815), (811, 0.027550995618077143), (3385, 0.027520819161719463), (4074, 0.027515327080289278), (2584, 0.02740852358239182), (2442, 0.027380897745859924), (3056, 0.027350505213915185), (3782, 0.027347346327706846), (1214, 0.027285413160350554), (3186, 0.027249589879616103), (983, 0.02724923726863197), (1669, 0.02724904469165662), (2090, 0.027217644929910714), (1035, 0.027165739637556398), (1715, 0.027139425674657207), (2715, 0.02712742086883318), (3154, 0.02710564806835495), (7, 0.027076465332562312), (1754, 0.027049678554281347), (3252, 0.02702320193956125), (1682, 0.02698759380959536), (637, 0.02695821345640576), (132, 0.026954483035224047), (2422, 0.02693145870576668), (3588, 0.02691964271149458), (2465, 0.02690514752811734), (4599, 0.026888658155113758), (3261, 0.026884456040844412), (4298, 0.02687956450684801), (4601, 0.026876663199061922), (2353, 0.026872052458895276), (144, 0.026870755815489353), (4378, 0.026822858472000378), (82, 0.02680785264013763), (202, 0.02678527555756478), (4404, 0.02673604474681835), (2156, 0.026722539539984914), (969, 0.026710387920871916), (2290, 0.026704590025143422), (1067, 0.026704274749218476), (614, 0.026687898878052712), (2136, 0.02661250710796219), (1543, 0.02659634415168688), (2893, 0.026582744546993768), (643, 0.0265723746734755), (855, 0.026559112349559617), (1274, 0.026556381461442943), (2927, 0.02655096468914684), (1646, 0.026520890749409776), (4203, 0.026512098483608797), (883, 0.02650278057962737), (3027, 0.026492897786732268), (4212, 0.026466704350902513), (905, 0.026458088564142022), (3023, 0.026456703198271554), (2845, 0.026450378771552374), (3585, 0.026426057159070468), (4321, 0.026413807323342465), (3462, 0.026402603551148873), (342, 0.026398003241860875), (4523, 0.026380978056364378), (1430, 0.02631334240160115), (2481, 0.02631192649735533), (815, 0.026302547679190963), (4495, 0.026301272727124188), (2102, 0.026300423174529367), (649, 0.02629414772935776), (2121, 0.026254338828790687), (4478, 0.02625256600530047), (3646, 0.026234073587441568), (461, 0.026231510035288726), (325, 0.026217459389088236), (2875, 0.02618997523225828), (1344, 0.026186456676775556), (3759, 0.02618633253620664), (3263, 0.026181307625492135), (1804, 0.026179128909374322), (2066, 0.02616679494172001), (1505, 0.026154270462674767), (328, 0.026128357054637882), (3554, 0.02611559479431379), (1562, 0.026067415253756172), (3024, 0.026062280298797865), (3642, 0.02606057624583486), (2027, 0.026044890038852443), (2038, 0.026031217850872566), (170, 0.02602200965742505), (4637, 0.02599847305645654), (1158, 0.02598749409480995), (2752, 0.02597377599548827), (946, 0.02597272708595555), (2756, 0.025971140484364122), (161, 0.025947922363045297), (4123, 0.025927034353278134), (2725, 0.025915904096757605), (471, 0.025909187407858553), (368, 0.025895880376473578), (420, 0.02584219530643372), (187, 0.025824225889050353), (834, 0.025820951034935355), (4169, 0.025812862664663705), (1576, 0.025806879984711817), (4034, 0.025805525142271836), (109, 0.02579857442311316), (2419, 0.025797655680234313), (1477, 0.025748759875221103), (3797, 0.025739828103144288), (1790, 0.02571796914215887), (1439, 0.02571017586292931), (239, 0.02570342369268843), (4639, 0.025694160850687077), (20, 0.025683790147419266), (2075, 0.025672440621521644), (4023, 0.02566163974687105), (4077, 0.02562971034216002), (1803, 0.02559989015502552), (937, 0.02559807384950217), (4477, 0.025597204228166224), (4398, 0.02559036992535829), (2737, 0.025563899832138262), (3092, 0.025535791704821623), (1042, 0.025535724380129778), (3400, 0.02552438022910632), (2935, 0.0255226539143176), (1107, 0.025513373946011424), (819, 0.025498988467482185), (3124, 0.025493658816204506), (3610, 0.02548029418568254), (4717, 0.02547398101887002), (3787, 0.025465190142113087), (767, 0.025464842189330004), (2782, 0.025460396948631177), (341, 0.025450996677751046), (717, 0.025433130355399437), (483, 0.025374312899518612), (977, 0.02537202393999995), (1312, 0.025368891212171923), (4324, 0.02535559319625662), (4270, 0.02533435084852486), (3425, 0.025327521808801844), (2169, 0.025318326750216037), (4382, 0.025304639873924), (2964, 0.025258659115592), (4380, 0.025248310415864946), (3, 0.025240867563644517), (3348, 0.025237990468524988), (3438, 0.02523416751246507), (1200, 0.02521784869114388), (1253, 0.025174566008879445), (4725, 0.025154693772891274), (3445, 0.025147584237932254), (351, 0.025147400710446823), (652, 0.025116110430806114), (4621, 0.025113190750706074), (2138, 0.02510571815227784), (2848, 0.025096543813119623), (1086, 0.025073121177964362), (2689, 0.025056742230385076), (2185, 0.02500876435085796), (3730, 0.025002785300116966), (4406, 0.02500205930926976), (363, 0.024992889758555886), (1081, 0.024984581123971537), (744, 0.024969658091854405), (111, 0.024937101379614173), (2762, 0.02491473855314125), (2316, 0.02491467539846677), (1948, 0.02490164696726479), (2678, 0.024900795017746266), (2759, 0.02487766373165745), (3552, 0.024866996058924506), (679, 0.024863306368858536), (2882, 0.024854233064290125), (1321, 0.02482917457535605), (2881, 0.024814549512432674), (2701, 0.024745513301420594), (3094, 0.024732654811571088), (2606, 0.02472469853700048), (3436, 0.02471298795950785), (208, 0.024694690782526646), (4360, 0.024686109982759222), (3140, 0.0246574638526019), (3483, 0.024627811256980506), (1498, 0.024620969208529134), (2714, 0.024617295894767643), (4119, 0.024614231938304486), (835, 0.024614080658852004), (4582, 0.024598928351818296), (2351, 0.024595976938800702), (2259, 0.024572608510972285), (2908, 0.024570203296392236), (3196, 0.024568857064697795), (3941, 0.0245232053838999), (2773, 0.024514793243186953), (3731, 0.024507500978738612), (2873, 0.024503038711956287), (1970, 0.02448589877040102), (1199, 0.02447450859054144), (4690, 0.024456733238679553), (3746, 0.024422829012801107), (1971, 0.024414478049655918), (1835, 0.02440577392589874), (4452, 0.024401650077791825), (1016, 0.024393015238269318), (1333, 0.0243905950924663), (833, 0.024363558648380714), (1572, 0.02433692040972424), (469, 0.02433055410498514), (3180, 0.02431860146432429), (3221, 0.024303794146603084), (4623, 0.024300431257083713), (1985, 0.02428414049161265), (3381, 0.024261905483247897), (2106, 0.024232617850489146), (550, 0.024200713486464298), (1512, 0.02418902956592055), (4227, 0.024186983909872315), (1453, 0.024146206528876456), (3999, 0.024124916097743972), (2654, 0.024109102670660847), (1392, 0.024106450557058692), (3743, 0.024067584393194227), (1703, 0.02406654826902231), (4157, 0.0240627421143429), (1997, 0.02406101993853776), (749, 0.024046933605113657), (2315, 0.02403738481407556), (4151, 0.024022470888956787), (326, 0.023994351269252562), (2126, 0.023988137226101738), (4220, 0.023956728846535214), (2647, 0.023940441608652954), (799, 0.023937490023864198), (2599, 0.023935833708816766), (3148, 0.023932229528425747), (4643, 0.02392637016673076), (1776, 0.023916150403321648), (1089, 0.02389033811102307), (177, 0.023838289107823058), (329, 0.023820365919471655), (4146, 0.02381650801394278), (2493, 0.02381011776700833), (4743, 0.023796347288896263), (3338, 0.02378589084194961), (1686, 0.023784952787501284), (4125, 0.02375545846822756), (3957, 0.02374191757587941), (3491, 0.023730011676453645), (807, 0.023724870322637554), (872, 0.023713874738806345), (3506, 0.023713193255781778), (4111, 0.023713028381185868), (408, 0.023698126999394983), (1963, 0.023697060355569177), (2626, 0.023677317685069407), (1712, 0.02367198279986088), (3474, 0.023655248382258187), (2084, 0.02364561187134038), (2063, 0.023642794069251055), (130, 0.02363366630568106), (4068, 0.023630854159461714), (2222, 0.02362471429250302), (1093, 0.023570678888319044), (4534, 0.02356840866455766), (2968, 0.023548272192681942), (449, 0.023544453605559713), (515, 0.02350708472949195), (3347, 0.023470060583003653), (4503, 0.02345877329579714), (3716, 0.023457802251517227), (829, 0.023453383666583866), (4138, 0.023429443655982148), (3007, 0.023406725181219043), (976, 0.023342015156821844), (4313, 0.02332978200685041), (1870, 0.023308675494413948), (142, 0.023284238521409057), (1495, 0.023269619045149535), (2833, 0.02324559598095213), (1634, 0.023233004889657984), (612, 0.0232079204550607), (4405, 0.02320324539638601), (3459, 0.023198859272593936), (1609, 0.023188404090428213), (2586, 0.023174005113969984), (2390, 0.02317205606764757), (1926, 0.023089899989213673), (1614, 0.023079243485952944), (138, 0.023075363576720177), (889, 0.023071795992486238), (3273, 0.02306347829022723), (3524, 0.023052004599050643), (1232, 0.023048526303836123), (4555, 0.023043671708126847), (1189, 0.02303189584352152), (1226, 0.02302619959321844), (2973, 0.02299101224338041), (2915, 0.022986463444043138), (4585, 0.022976622451269975), (1861, 0.022969008304933116), (2197, 0.022968403517407622), (2847, 0.022965326501264205), (2780, 0.022930568463628054), (2340, 0.022928750914716356), (3391, 0.02291896044282133), (2771, 0.02291070095712088), (1044, 0.022897871710640717), (950, 0.02289112311167682), (365, 0.02288299299275129), (2830, 0.022882439656566583), (3464, 0.022864406253462907), (4548, 0.022861882689454417), (1356, 0.022852887277924616), (2525, 0.022818448043567627), (3233, 0.022783042517903564), (2904, 0.022735395575145943), (668, 0.0227353828824713), (1726, 0.02273053407443576), (1220, 0.022704693222132456), (881, 0.022669357479187253), (3522, 0.022665639916584213), (4664, 0.022663785121127194), (1529, 0.02265138302676989), (3207, 0.02264452068445527), (3121, 0.022630768117237448), (50, 0.02258739708430714), (168, 0.02258566045241703), (1028, 0.022573537799982453), (793, 0.022567097350389306), (1920, 0.02254993236352819), (3352, 0.02254232897221087), (4369, 0.022541101576578775), (3018, 0.022530094203338055), (797, 0.022515329012080882), (2685, 0.02248022369478239), (4210, 0.022467830029122518), (1375, 0.02246587922143299), (1316, 0.02241404474351865), (1961, 0.022385600245581023), (4451, 0.022372318782447796), (160, 0.02235437955091353), (1002, 0.022334615973304273), (3915, 0.022332076358398456), (1741, 0.02233017955207854), (764, 0.022314319776511927), (1383, 0.022310931762770474), (2192, 0.022307210874724565), (2788, 0.022305795049517296), (4609, 0.022303227320450092), (3428, 0.022288434186894496), (2322, 0.022279721583391632), (2429, 0.022277474218933814), (2023, 0.02225904537407869), (3433, 0.02225662983079777), (83, 0.02220263129313148), (3290, 0.022201756383745042), (2529, 0.02219456674145797), (3122, 0.02218970531702177), (3926, 0.02218655145264898), (2219, 0.02218525636071167), (1001, 0.022168935763560303), (3035, 0.022143704636302816), (849, 0.02213634694144923), (4012, 0.022123445328823217), (1472, 0.022112797457848967), (970, 0.02211000629593721), (2158, 0.022108579495503412), (3256, 0.022103773795091947), (3013, 0.022102250437598676), (1559, 0.022095933989053018), (4428, 0.02208693919267009), (1112, 0.022062388734052307), (1105, 0.02205237276169554), (2110, 0.02205011603342064), (908, 0.02203957721395028), (3807, 0.022030019462642707), (2444, 0.02200608114607213), (3801, 0.021999674891572646), (2405, 0.021984346002772433), (4394, 0.021980680020272154), (663, 0.021966908467503515), (3886, 0.021965639144990855), (1055, 0.02194417173556112), (2609, 0.021930140043812874), (1774, 0.021928949118971967), (1577, 0.021919418384424804), (4560, 0.021913883475549775), (3467, 0.021896957348154406), (375, 0.021886566409632782), (3747, 0.021880259298011462), (3279, 0.021877070960994525), (4518, 0.021872342041243827), (3302, 0.021868456956494788), (1519, 0.021858045277222935), (1526, 0.021856735546220286), (3350, 0.021852956234005266), (4650, 0.02185232110930832), (1447, 0.021848427225617126), (4128, 0.021830041091443226), (2050, 0.021809137496988935), (4053, 0.02180690121934861), (1611, 0.021802336565638288), (418, 0.02179630063500859), (2764, 0.02178297666640027), (1292, 0.021782670246701778), (3137, 0.021756560087854267), (1102, 0.021745287321963097), (3260, 0.02173308406989763), (1768, 0.021732353580439814), (1764, 0.02172694684434064), (317, 0.02172397403032083), (3058, 0.021713761507656932), (1227, 0.02170767629531882), (2878, 0.021673366577149838), (2891, 0.02165754862802516), (3809, 0.0216568659306113), (62, 0.021631526793291167), (3518, 0.021628896328319613), (100, 0.021616506449606027), (1077, 0.02159438127947816), (1509, 0.021584655571352536), (3458, 0.021584546444575414), (1284, 0.021562881212680834), (463, 0.021557052419615412), (1666, 0.02155572324605158), (3983, 0.021529202837900885), (755, 0.021526919082442787), (1017, 0.021525607221668765), (256, 0.021519298001841644), (2025, 0.02151275752946844), (4020, 0.021494753814477862), (1638, 0.021490124383656772), (825, 0.021478799127397866), (2342, 0.021478084248991884), (662, 0.02147682380467978), (4254, 0.021475825473088635), (1373, 0.021459814040874256), (2546, 0.021451406609540462), (2929, 0.021434022857674085), (949, 0.021431253143249982), (839, 0.021423337708825763), (3009, 0.021409273259275198), (1629, 0.02138434011617507), (2500, 0.02133234980240491), (2716, 0.02133160954534518), (1899, 0.021322394545441867), (2144, 0.021321227951100384), (585, 0.02130896578244419), (3822, 0.02129078281403671), (2614, 0.021274197267738607), (6, 0.02126532725280361), (4218, 0.02125517232881323), (1231, 0.021226201631425197), (3859, 0.021213457219620167), (3166, 0.021208511863667782), (1912, 0.021207554349823236), (156, 0.021202444271770374), (814, 0.02116755636144923), (2297, 0.021146464384363337), (3824, 0.021141756884322675), (1877, 0.021137372773277985), (1235, 0.021103922123033417), (1060, 0.021089906608639755), (2445, 0.02105135949611837), (1384, 0.021037383671676783), (1532, 0.02102627352947793), (3951, 0.021023456068129897), (2070, 0.021003119358428857), (53, 0.020990031071427717), (4450, 0.0209533084417781), (2598, 0.020952663187903366), (185, 0.020941514436017678), (1416, 0.020937532292710906), (362, 0.020935462583445218), (3498, 0.020934147298530905), (293, 0.020933441847435078), (1122, 0.02093230949875518), (1597, 0.020932021214535773), (3333, 0.020903609647028178), (757, 0.02090352312413624), (2954, 0.02088416015837766), (735, 0.020877997834541376), (1117, 0.020874766404166443), (2105, 0.020863431879907732), (4175, 0.020862695500812267), (3434, 0.020844121506593292), (141, 0.020827369651523646), (1288, 0.0208104550007723), (493, 0.020802472835021228), (1275, 0.020789688639125677), (16, 0.02076167463259514), (2236, 0.020754808187580312), (2745, 0.020752831407705986), (3551, 0.020751242154887953), (448, 0.02071687094425636), (706, 0.0206770422211749), (2644, 0.020676238401816354), (3769, 0.02066549118447218), (4465, 0.020649544156158054), (1362, 0.020617438513932298), (51, 0.02061392136373191), (2447, 0.020612039802074964), (3654, 0.020605710695622975), (2507, 0.020598198266039227), (2450, 0.02059184882931418), (2615, 0.020576716094027683), (653, 0.020565639793007923), (2387, 0.02056141126349277), (3239, 0.02055435893885022), (661, 0.02055360545210426), (1679, 0.02054525519101242), (3849, 0.02052847161094923), (4222, 0.020505570157802577), (3995, 0.02049137373048339), (203, 0.02045730088036281), (4056, 0.020449272441038245), (488, 0.020445308308735706), (4634, 0.02044449608526046), (980, 0.020427306578109896), (3479, 0.020418905667300993), (3280, 0.02039858401890071), (4174, 0.020388162171860257), (234, 0.020343344542822595), (1913, 0.020335112889997575), (2747, 0.020311529678989512), (774, 0.02030100782467204), (14, 0.020269386804764023), (248, 0.020269238532626632), (2712, 0.020259750071298335), (2022, 0.020247751998652953), (3776, 0.020243846974745662), (36, 0.020237978525245556), (3835, 0.02023164648799721), (852, 0.02021964778984627), (4153, 0.020181352291680815), (2048, 0.020165985448887362), (871, 0.020131233496745917), (3455, 0.020117698668704852), (2590, 0.020083077673705464), (71, 0.020072165155326484), (2832, 0.02006533518740492), (4191, 0.020064554520367595), (473, 0.020040152344646508), (3703, 0.020034145282907378), (63, 0.020020598433255873), (3857, 0.020012087810857258), (3927, 0.02000341055011119), (4420, 0.019994318967067132), (406, 0.019989869576890876), (88, 0.019986832678703867), (199, 0.019977919407104004), (2666, 0.01997549786889925), (4367, 0.01996874576784323), (934, 0.01996836426861886), (2741, 0.019944471518990176), (862, 0.019925702772682664), (3826, 0.019916128769404108), (3832, 0.019902606202158325), (2176, 0.019889995844633957), (1668, 0.019840166661182546), (1465, 0.019829640114992126), (371, 0.019826408096549064), (2601, 0.019775232461355808), (3162, 0.019772602632733872), (4602, 0.019768278805735583), (4427, 0.019742494764384562), (1784, 0.019731611034554855), (2125, 0.019731111826013545), (2246, 0.019727539182192798), (3336, 0.019720765561288267), (3217, 0.019703021676917343), (3318, 0.01970048472126509), (1043, 0.01968953992221788), (4756, 0.01968165288087414), (635, 0.01967124156228878), (3078, 0.019647180974007965), (2619, 0.019632931994815972), (323, 0.01959865635340249), (4358, 0.019543365790285476), (2195, 0.01954113467348042), (2838, 0.019539782853630124), (2214, 0.019491904415572248), (1777, 0.01948051757223629), (577, 0.01946155326688781), (1314, 0.019442856249271227), (1564, 0.019420074670872943), (1808, 0.01939003180507048), (1025, 0.019364045861778333), (2149, 0.019356212140257723), (4727, 0.0193556698449011), (3237, 0.019351953609633314), (3936, 0.019342126425922125), (3113, 0.01934007809646167), (3757, 0.01933837108547904), (944, 0.019300962724350144), (2983, 0.0192966541728136), (1617, 0.019295490502892528), (4726, 0.019278248032004196), (3201, 0.019271417955898804), (2824, 0.019255661022680844), (393, 0.01924305595259047), (3523, 0.01924114751739264), (945, 0.019200015762315704), (1599, 0.01919843308821898), (3732, 0.019198012889880545), (4610, 0.019195800756003873), (4574, 0.01919510072186811), (4096, 0.019186173383074625), (2543, 0.019184910721822823), (1222, 0.019173778556015583), (2671, 0.019169940432080663), (4472, 0.019105571704852643), (2792, 0.019088698916252037), (3660, 0.019059765297948124), (494, 0.01904885782390562), (822, 0.0190420451738064), (3156, 0.019036363556406696), (3592, 0.019009353282708676), (3897, 0.01900732049341591), (2813, 0.01900225306252181), (381, 0.019001796912775395), (4695, 0.018988510424578234), (4265, 0.018972642340658076), (2834, 0.018968769945736104), (2649, 0.0189595017645652), (147, 0.01895574258504752), (523, 0.018940131517694542), (1133, 0.0189210400488214), (3577, 0.0188954377950639), (4624, 0.018893556421347654), (4474, 0.018875961495657782), (1022, 0.018875089417301802), (1925, 0.018873943915755587), (3232, 0.018862393463208633), (1194, 0.01884907156961929), (4354, 0.018848355156375646), (958, 0.018834462223538215), (656, 0.018834124940786873), (561, 0.01882655703352601), (2550, 0.018810932742336493), (4629, 0.01879581590243623), (1869, 0.01875653463261348), (4618, 0.018750695769460077), (4418, 0.0187497435184985), (1411, 0.018737456378642596), (1428, 0.018735693009096516), (2797, 0.018714326357616086), (551, 0.018712082275975), (1757, 0.018679377671921002), (73, 0.018677589862981736), (615, 0.01866415743480296), (1100, 0.018647996721989517), (1273, 0.01864681861736364), (4627, 0.01864552204156834), (4047, 0.018605930313734333), (2329, 0.01859880272570395), (1130, 0.01858054708867872), (2859, 0.01857537023384884), (1062, 0.018521357972412195), (1695, 0.018512665610496856), (1080, 0.01850911796621078), (3645, 0.018508256709717518), (2276, 0.018507464334459475), (4514, 0.018493865701088314), (116, 0.0184917579866224), (1980, 0.01848231861239938), (4563, 0.018475765717870036), (3257, 0.018423229470730038), (404, 0.01840150571719723), (345, 0.018377601809426), (4283, 0.018366157272675678), (2912, 0.018360582667267852), (4408, 0.018357028888642823), (339, 0.018349584751064532), (4519, 0.018349410601425725), (2119, 0.01833498992860473), (1267, 0.018330377724732345), (1435, 0.018328206484356097), (1340, 0.018321405294023135), (1111, 0.01831960050806791), (2129, 0.018314073545707663), (3366, 0.018312965505938635), (33, 0.01830792552372627), (4067, 0.018291074100604834), (544, 0.018284120571838022), (2434, 0.01827845572261271), (2157, 0.01827170019396055), (2155, 0.018262142016393736), (1092, 0.01826209846239857), (4483, 0.018239028253046557), (3063, 0.01822282019524051), (2304, 0.01821558317505861), (2333, 0.018201018947668183), (4137, 0.01818300466152182), (3503, 0.018182513779540374), (2829, 0.018166933200743477), (3017, 0.018165908335793554), (3895, 0.018134904593726103), (2986, 0.018085237436690965), (929, 0.01808126297852334), (498, 0.018077176501953136), (795, 0.018071387069102954), (1005, 0.018067043137893878), (431, 0.018031421963943653), (3967, 0.018022347308562885), (39, 0.018000844028033272), (3444, 0.01797082415296276), (1187, 0.01796384013953807), (4026, 0.017962172038204785), (2362, 0.017960036479582255), (1029, 0.0179436538447729), (135, 0.017911841878020297), (3299, 0.017903762652473152), (484, 0.017893157958620145), (290, 0.0178789620028669), (2311, 0.01783706059671633), (1341, 0.01783455705076115), (259, 0.017824611423811622), (439, 0.017821756147238823), (311, 0.017797750886013576), (2655, 0.017787519125040858), (2320, 0.017774527846038328), (699, 0.017774083401433858), (3614, 0.017734201771907147), (2924, 0.017731999762963545), (2439, 0.01771238382734165), (4685, 0.0176892790164134), (3046, 0.017671630010523055), (613, 0.01767045452839639), (3364, 0.01765048980323465), (228, 0.017619829015605194), (2734, 0.017605666402765036), (2872, 0.017599800139767446), (1989, 0.01759786281896977), (366, 0.01759356108921601), (289, 0.017585002174285436), (1291, 0.017564305738255667), (3952, 0.01753389286630846), (4224, 0.01753254602308964), (745, 0.01753169208679949), (882, 0.017520099770810177), (1359, 0.017518454350770752), (3851, 0.017505740161033262), (3975, 0.01749512230916462), (985, 0.017490189748551155), (2702, 0.017474948247025383), (4094, 0.017472010914212004), (557, 0.017469667575949064), (4550, 0.017466999110411736), (1424, 0.017455784581051945), (413, 0.017408808230587977), (2151, 0.017382098331307123), (2302, 0.017366318009157684), (821, 0.01736593177151403), (4674, 0.017364982461125514), (3973, 0.017357761521759992), (2113, 0.01733386996297983), (2499, 0.017333866672234584), (4459, 0.01733363867605527), (2186, 0.017330350349232453), (999, 0.01731861647423457), (338, 0.01729981115070832), (19, 0.01729666683492684), (261, 0.017296372612687072), (2432, 0.01728002798720541), (4233, 0.017267494370019506), (1248, 0.017244595649534823), (1489, 0.017180400077902093), (1567, 0.0171765622685809), (4142, 0.017160429548911414), (3301, 0.017157401182249316), (3311, 0.017152543521510966), (3784, 0.01714977672722216), (344, 0.017146651623667714), (2420, 0.017126273312872385), (2568, 0.017121779082512775), (4403, 0.01710771880280968), (2262, 0.017082886574224104), (1710, 0.017067353871960997), (4464, 0.017066400457430676), (4580, 0.017061656696547026), (828, 0.017020301335646842), (1467, 0.017008750954852894), (260, 0.017003845937868352), (1177, 0.016972652890668974), (369, 0.016952678545737194), (2535, 0.01694621644286004), (3254, 0.01693857240766445), (3371, 0.016937142062405566), (385, 0.01692570706499239), (387, 0.016907519398953828), (1749, 0.016898983659760038), (2148, 0.01689800703618697), (734, 0.016874030379693764), (3251, 0.016860930155917216), (2049, 0.01685596475348012), (1206, 0.016843127764373782), (2634, 0.01683536355088113), (2726, 0.016834209988961586), (287, 0.016821480888021847), (982, 0.01681921143510652), (1652, 0.016819192187947404), (1786, 0.016816003562471038), (3265, 0.01680101246649744), (778, 0.01677780663502809), (2410, 0.016773168933352497), (963, 0.01675761808528215), (2101, 0.01673164407720745), (2862, 0.016707261233513966), (4744, 0.016704520647580247), (1514, 0.016674729293126606), (912, 0.016673784083815334), (1905, 0.016669211020986428), (866, 0.016665943358273493), (545, 0.016657273715371717), (1213, 0.01665678746202362), (3411, 0.016636140035059012), (2748, 0.016626176955853566), (3258, 0.016625829788988983), (2039, 0.016625389832458867), (2978, 0.016625122060016588), (3669, 0.016603984056523687), (4342, 0.016603116608666334), (3410, 0.016582000307036077), (669, 0.01657824150558503), (4649, 0.016546671399221564), (2459, 0.01652689144202912), (306, 0.016517399562395393), (4282, 0.016502181763630254), (3980, 0.016494097004208334), (2494, 0.016484345622137832), (1441, 0.016482476941854503), (4149, 0.01648235785239916), (2880, 0.016478876022367573), (1518, 0.0164669395988349), (2774, 0.01646602819060776), (1249, 0.0164391812754781), (3484, 0.016436857063202095), (4638, 0.016435703135956346), (3593, 0.016432583411140837), (801, 0.01642175005017353), (3584, 0.016420479160857083), (1731, 0.016392241060620837), (405, 0.016391195188212387), (218, 0.016386049774619327), (629, 0.01637379792778665), (873, 0.016372755719243452), (2132, 0.016368451141339484), (4426, 0.016361068148591056), (1212, 0.016358153029189967), (3130, 0.016354711184525125), (3540, 0.016328132468316842), (3601, 0.01630613379030513), (3218, 0.016300289888547405), (1237, 0.016292805482466383), (607, 0.016287822504693128), (2086, 0.0162842948918173), (3109, 0.016283750566393987), (4315, 0.016282290772072452), (1008, 0.016248144311613054), (1137, 0.016227428507167796), (69, 0.016163224290051854), (438, 0.016157778923213423), (3565, 0.01613467246782222), (3388, 0.01610929632625612), (2385, 0.01610380970525709), (4338, 0.016078487817837533), (2204, 0.016074052081492683), (4240, 0.01606981657243498), (474, 0.01606555970212925), (3189, 0.016063793969665098), (1955, 0.016060216483758855), (1508, 0.016055436905185835), (3911, 0.016038498119931934), (435, 0.016026626055620004), (3513, 0.016019331567349582), (4057, 0.016015018725296988), (3674, 0.016006155842947317), (3493, 0.016003001150894324), (1511, 0.01598481815825787), (3919, 0.015983178032023627), (879, 0.01595141520789712), (2531, 0.015934530783414863), (2567, 0.015927797092064867), (1851, 0.015917786189013575), (2864, 0.015913123105678165), (4025, 0.015862139208460375), (784, 0.015853340794151478), (2511, 0.01584811374597857), (2247, 0.01582968724395662), (2794, 0.01582895367266146), (2816, 0.015820152908851096), (3549, 0.015812494393129234), (3198, 0.01579477365659659), (972, 0.015783622512880274), (2519, 0.015771170424927226), (477, 0.015765773703214733), (3489, 0.015760351947796646), (2227, 0.015756291927465985), (4217, 0.015746323080810965), (2431, 0.01573610396575216), (518, 0.015735331573957217), (3377, 0.015706365680442372), (4607, 0.015697758824228202), (3457, 0.015693579418934126), (10, 0.015687368960178076), (3846, 0.015686990709667975), (1779, 0.015672479705552564), (4396, 0.015662679454296065), (4508, 0.015650472018654927), (3526, 0.015647247482451727), (4401, 0.015641132807850653), (4182, 0.0156335964543261), (1116, 0.015594880993675071), (3741, 0.015591247615726224), (336, 0.015584278845966058), (3309, 0.01556781971942575), (2372, 0.015566908064127943), (2294, 0.015565427532668286), (3617, 0.015553887869100811), (2397, 0.015550013714243598), (3792, 0.015548788965693377), (319, 0.015536705105932792), (4702, 0.015525806411952617), (2443, 0.015523591269678219), (2220, 0.0155225544497281), (1533, 0.015509518687024987), (1476, 0.015490438573206778), (642, 0.015484918707024013), (2823, 0.015435401469391511), (274, 0.015411482425846246), (758, 0.015408221481263591), (1106, 0.01540155764721838), (3629, 0.015396175553404593), (398, 0.01539593839220035), (844, 0.015387646880114398), (2492, 0.015385310753048501), (2020, 0.01536891668038353), (3736, 0.01531043602219763), (2016, 0.01528179797900469), (3622, 0.015281276979738603), (2026, 0.015277463552563441), (1868, 0.015268520828559829), (4334, 0.015214483073308444), (403, 0.015212886242832976), (2035, 0.015205051228397772), (626, 0.015192541405102731), (1586, 0.01514889674818274), (1959, 0.015143459105993472), (196, 0.015133734102891141), (444, 0.015129078708438489), (3821, 0.015110388967332983), (174, 0.01510231480015049), (4376, 0.015092250450228682), (3103, 0.015083551036901583), (4337, 0.015076521044773788), (1313, 0.015066492693689724), (3768, 0.015043138129830557), (3222, 0.015022490338049843), (436, 0.015017224111244145), (4703, 0.015004440552920705), (3781, 0.014999754411724986), (1286, 0.014989171472220737), (3667, 0.014979501392533751), (4414, 0.014979204232397752), (1589, 0.014977140713502804), (2945, 0.014966594594434474), (2393, 0.014939873489410158), (416, 0.014939670680903006), (1880, 0.014907055296867342), (4073, 0.014902400704268706), (2677, 0.014897037436446325), (128, 0.014890272315516033), (4728, 0.014880690299353409), (776, 0.014879933566348421), (3534, 0.014877635948628485), (2602, 0.014875135677784318), (2636, 0.01483859548080468), (4042, 0.014824671311765045), (3375, 0.01482210567014253), (49, 0.01482006856926963), (4732, 0.014809838871513966), (1618, 0.01480474248520932), (773, 0.014790841283112042), (48, 0.014789338370647784), (2003, 0.01477123734085485), (3456, 0.014766194419433366), (2583, 0.014760875190300756), (2467, 0.014751449432652074), (3756, 0.014738067831158016), (1104, 0.014735060925285749), (3677, 0.014733396254152358), (600, 0.014730775801633548), (3831, 0.014718779418231704), (677, 0.014709733880925478), (4178, 0.014699682553809284), (2681, 0.014699386501759112), (2131, 0.014687815263205), (802, 0.014686471592339935), (3317, 0.014683389198332009), (3490, 0.014682710579449967), (2229, 0.014668303555093501), (1600, 0.014651620976190953), (610, 0.014635984325638857), (3868, 0.014629568672244686), (1724, 0.014620020743410242), (3871, 0.014611608865327879), (1811, 0.01460218957603328), (4665, 0.014600002715589857), (3214, 0.01459685510627162), (887, 0.014594491441132097), (1744, 0.014585992205773798), (2370, 0.014585010512500787), (2408, 0.01457661900350937), (2595, 0.014558199417786773), (1190, 0.014536387808836758), (4493, 0.014536174419357976), (2242, 0.014532735960767595), (467, 0.014510893705498164), (1363, 0.014510490020924024), (2145, 0.014479096560320858), (2587, 0.014467772954683343), (3997, 0.014455257247564558), (859, 0.01445267979635995), (4289, 0.014451898181759234), (3586, 0.014445013660508809), (197, 0.014436612319278222), (1696, 0.014434970261087768), (3194, 0.01443141533362622), (539, 0.014404818971389137), (3773, 0.014397477843816106), (176, 0.014385000642086821), (343, 0.014384455112432292), (1705, 0.014373040818885005), (3774, 0.014372818640643418), (12, 0.014333397242839245), (2594, 0.014321048682832415), (2170, 0.014298362903523956), (2630, 0.014295556095624346), (1813, 0.01429141688142702), (1182, 0.014283219607365533), (676, 0.014271247826325028), (2078, 0.014257673977813816), (1603, 0.01424928289947805), (960, 0.014245056892213625), (1457, 0.014238846290176566), (2565, 0.014238445847106807), (3501, 0.014230316485760352), (2866, 0.014227573832739994), (2088, 0.014225973237787596), (3028, 0.014225183723777412), (3048, 0.014218139804288227), (2612, 0.014216954614359394), (651, 0.014211992218523579), (2337, 0.014210519694356442), (1969, 0.014206100545038588), (1610, 0.014156000247064206), (1328, 0.01415429646993259), (1670, 0.01412708042454962), (628, 0.014114545836116876), (3968, 0.014095111687462386), (4225, 0.014089753828670198), (2523, 0.014088916903693679), (3753, 0.01408507653002225), (3161, 0.01408370380357614), (4279, 0.014076979061174173), (1417, 0.014064463739420226), (907, 0.014060503140061164), (1984, 0.014052822578818246), (788, 0.014038372634403353), (1229, 0.014012787833011296), (806, 0.014012382122816136), (3050, 0.014008159418585998), (137, 0.013979496938825033), (922, 0.013973370356836982), (1309, 0.01395299650541582), (3361, 0.013934807744128957), (3840, 0.0139194337578821), (4098, 0.013918261403536716), (2072, 0.013908292752385974), (988, 0.01390504458371942), (724, 0.013902900545996254), (918, 0.01389034092359644), (3640, 0.013889875272668339), (1332, 0.013876656691951188), (4467, 0.013864553987477473), (1728, 0.013848560804234637), (2988, 0.013843541999582735), (247, 0.013841942974656555), (3133, 0.013836395514229794), (61, 0.013821386983162936), (4078, 0.013820044263549217), (1890, 0.01381986445875215), (3272, 0.013819551668788704), (1621, 0.013800953069816815), (1719, 0.013798800711435837), (1440, 0.013787819693244644), (2466, 0.013784481450310178), (1294, 0.013778909243242059), (3906, 0.013773708026913366), (4004, 0.01377016523515725), (715, 0.013743660230538149), (1319, 0.013734839369962079), (4678, 0.013718416652699817), (3690, 0.013716903114795634), (885, 0.01371407237587358), (2955, 0.01370651219832862), (2017, 0.013698106498462415), (26, 0.013697711803709824), (4606, 0.01368580385626321), (1406, 0.013682185066147686), (2533, 0.01365660066347278), (4081, 0.013653356511416378), (568, 0.013652891413017584), (3718, 0.013650057344262344), (2210, 0.013646816160147532), (1087, 0.013645785679839623), (658, 0.013629736186992545), (315, 0.013619964629764593), (1068, 0.01361357622874189), (1953, 0.013602346421590914), (2991, 0.013601018884878692), (1385, 0.013595280548037821), (2354, 0.01359174109728067), (3813, 0.013589362432106148), (292, 0.01358246928894742), (714, 0.013581046705493817), (909, 0.013565980588192153), (3416, 0.01356549663411521), (1394, 0.013546273081316078), (3598, 0.013534739751696806), (1197, 0.013534701509499198), (993, 0.013520992331235196), (94, 0.013518247948121157), (359, 0.01350915031842929), (3938, 0.013504030494009178), (3306, 0.01349554506886411), (1076, 0.013494642429929954), (80, 0.013488011114399016), (4435, 0.013486310241709936), (1672, 0.01347580080106255), (4383, 0.01346915657419474), (3006, 0.013463450363656723), (646, 0.013462593039020077), (1604, 0.013462447780526394), (3341, 0.013459863792034512), (2171, 0.013454973085297278), (4024, 0.01344980903287944), (1873, 0.01343556137169821), (4242, 0.013429916649417586), (2117, 0.013428446029177503), (4122, 0.013425606141344635), (466, 0.01342403421607644), (1179, 0.013420415360575382), (1797, 0.013404336630297633), (4156, 0.013402543869132866), (233, 0.013401212533129469), (370, 0.013400534974485359), (1263, 0.013389938259275235), (79, 0.013380423939494835), (2805, 0.013370084789077658), (1471, 0.013361163968074595), (4152, 0.013356596109722696), (3602, 0.013350913318740347), (2850, 0.01334020172440438), (65, 0.013310318328227272), (2480, 0.013306914562570816), (1964, 0.013306760883063921), (1132, 0.013304572171831728), (3780, 0.013298169118722928), (787, 0.013291440819816635), (1387, 0.013288882040372403), (534, 0.013256690434530144), (3475, 0.013250527469978911), (103, 0.0132430030613323), (1647, 0.013233380434940852), (3748, 0.013228902901119933), (1358, 0.01322842133358692), (282, 0.013223043742401448), (1573, 0.013223041087575067), (322, 0.013217088126967494), (824, 0.01320438776490842), (4384, 0.013191633406176741), (3615, 0.013183130291556948), (278, 0.013168389122467868), (1041, 0.013140917949161942), (154, 0.01314070022862676), (4033, 0.013139338762502013), (1306, 0.013134580850030582), (1414, 0.013132561868166406), (548, 0.013127892243149995), (140, 0.01311367693786573), (2268, 0.013113548876815916), (4504, 0.013105006378696448), (1493, 0.013090616329393354), (567, 0.01308887127422655), (500, 0.013087515240351484), (2168, 0.01308376190871741), (2918, 0.01308154321019637), (60, 0.013079155051039546), (3242, 0.013076126980032953), (1607, 0.013071058573891327), (2958, 0.01304221709327959), (486, 0.013039440206553463), (2006, 0.013039281306843939), (1481, 0.012990924209479542), (2933, 0.012984457789679518), (1983, 0.012971354805332612), (2855, 0.012965936471144735), (4571, 0.012952954174984477), (4247, 0.01293825556506455), (4616, 0.012932043251284093), (1864, 0.012909803423906971), (1667, 0.012901984144141974), (1979, 0.012881221364638791), (782, 0.012879771727982582), (4553, 0.012871655180744897), (3293, 0.012851706661039724), (195, 0.012851417615459767), (2877, 0.012836300606021873), (878, 0.012824788367862704), (3085, 0.012822476727574835), (786, 0.012805879195112103), (276, 0.012802736072181057), (726, 0.012784488954059196), (2765, 0.012758407322432188), (2750, 0.012752760903861852), (2224, 0.012736497231249975), (1630, 0.01273572244346055), (2378, 0.012722083144381025), (3115, 0.012689898356610208), (1054, 0.012674194785056754), (832, 0.012663733667062102), (4158, 0.01263951300812823), (2703, 0.012618734692789792), (868, 0.012606833857893227), (1135, 0.012600160599453757), (3986, 0.012596106868962783), (307, 0.012590026455021809), (1625, 0.012588466927668239), (3863, 0.012579872308244009), (636, 0.012578255846022766), (3022, 0.012576329608228912), (1706, 0.012568134523051448), (475, 0.012565091927636413), (2331, 0.012544920087865095), (1427, 0.012533492855392542), (104, 0.012533327234986633), (4165, 0.012521592297249041), (932, 0.01251446707125607), (3512, 0.012499648863987472), (604, 0.012487751850766516), (3956, 0.012477665917301919), (573, 0.0124459199349503), (639, 0.012430313504693634), (4311, 0.012421989215087456), (2777, 0.012419550474259036), (4502, 0.012401354244252665), (2853, 0.012392298214443334), (1317, 0.01238804677720536), (2482, 0.012372013039373941), (3651, 0.012366546272239567), (3575, 0.01235214806400833), (186, 0.01231029945684422), (4525, 0.012291198184225135), (910, 0.01228671733377762), (1550, 0.01228116105320218), (3960, 0.012255513528925429), (1434, 0.012254506166974807), (511, 0.01222417695602779), (510, 0.012221580927315345), (4366, 0.01220881319109725), (1565, 0.012202752241110776), (3929, 0.01217116241685222), (3069, 0.01216263809889559), (2279, 0.012135192557660258), (1921, 0.012134849079423065), (3750, 0.01212299694053757), (3088, 0.012121483744286466), (893, 0.012103209412582291), (522, 0.01208977729114135), (2573, 0.012066594317502533), (657, 0.012057724450886488), (2669, 0.012055015758728535), (4110, 0.012050844424891538), (2526, 0.01204425124431162), (4661, 0.012035921881971258), (3817, 0.012025459111973585), (519, 0.011988835075548286), (2352, 0.011964298090827028), (4551, 0.01196367762416415), (184, 0.011956743163415951), (3376, 0.011954510286132257), (2657, 0.011940282329828624), (926, 0.011925196885673435), (2287, 0.011910480499887771), (2996, 0.011896679958193256), (1352, 0.011891652228148258), (1202, 0.011874638253921986), (3151, 0.01186398481162516), (2524, 0.011861765731748533), (3695, 0.01182426881157357), (70, 0.011823817855960012), (102, 0.011810387111711994), (2684, 0.011804759354599164), (3659, 0.011781980010133322), (2379, 0.011764179033577495), (2490, 0.011748903243621657), (2659, 0.011741822742810333), (58, 0.0117383540150642), (2312, 0.011735750127702739), (4468, 0.011719234253160186), (257, 0.011718866184537765), (4652, 0.0116866645936547), (900, 0.011644954520918313), (4488, 0.011636619799528982), (810, 0.011636302272962645), (430, 0.011635415681354344), (4007, 0.011590816319813539), (441, 0.011568640552808812), (149, 0.011560541871727628), (2858, 0.01155399869964722), (2137, 0.01155335373173328), (2104, 0.01154505368896353), (3139, 0.011541019978779085), (399, 0.011540583462275149), (996, 0.01150256644021381), (136, 0.011501376343639697), (792, 0.011499207665674012), (899, 0.011480927737649268), (1627, 0.011473467929841713), (4177, 0.011447574913152944), (2722, 0.011443341066238418), (2196, 0.011431847256784452), (432, 0.01141856332581028), (725, 0.011418052225210047), (2818, 0.011415074289759523), (1859, 0.011398967584024), (2920, 0.011395582758997897), (891, 0.011387232520207282), (3040, 0.011383750610084254), (853, 0.011381605321737369), (1393, 0.011350914672928187), (143, 0.011340208031954364), (106, 0.011331671727326433), (1209, 0.011315058552696553), (2627, 0.011295582947550592), (298, 0.01129253486704824), (3266, 0.011276199049533302), (3796, 0.011274168897536418), (3142, 0.011270247642426404), (4239, 0.011261807442372219), (611, 0.011246057264326792), (1195, 0.011205665177399687), (3949, 0.011205289307860638), (4475, 0.011199870238157612), (57, 0.011198340407102214), (2537, 0.011182297149036693), (158, 0.011171929973448876), (2668, 0.0111229908474377), (2667, 0.011107597499060573), (1334, 0.011097345733235169), (2922, 0.011091363532128234), (2404, 0.01108722182986006), (1431, 0.011069568396268095), (4700, 0.011037320949733318), (2421, 0.011014404714434389), (4115, 0.010998822074895274), (2617, 0.010980770175900814), (2990, 0.010973374833683104), (2731, 0.010941861346844155), (4677, 0.010926295343069355), (3204, 0.010911894121350504), (1574, 0.010909020712919975), (4484, 0.010868286164610495), (2826, 0.01086801698735789), (4683, 0.01084669959367181), (4232, 0.01082762242678355), (2281, 0.010814529220401709), (4736, 0.010803705789107615), (3276, 0.01077524225905419), (4268, 0.010766633627111014), (2483, 0.010750182601730897), (527, 0.010749386636496962), (1678, 0.01074853068311872), (1295, 0.01070432475115088), (940, 0.010700540606660116), (4241, 0.010691302739071314), (1852, 0.010660361088123094), (2536, 0.010648329488742577), (3195, 0.010638355418323843), (3925, 0.010624865879040086), (2948, 0.010615374476907281), (4537, 0.010610923072739321), (150, 0.010582175334234058), (3439, 0.01057291906422824), (2917, 0.010572154618029139), (2632, 0.010556191610417308), (2228, 0.010550190923860546), (3412, 0.010543119097032821), (2698, 0.010532505186411944), (3715, 0.010518608392618605), (1967, 0.010501888803697498), (152, 0.010498107950619248), (3370, 0.010493211921308906), (2941, 0.010475586658631542), (2282, 0.01047312585528972), (2062, 0.010467471626030988), (167, 0.010443378976467008), (391, 0.010439971692611153), (3010, 0.010424367886153653), (2100, 0.010395002735184757), (396, 0.010388324238249048), (1118, 0.01038683484888547), (616, 0.01037904898168336), (1632, 0.010364768352049473), (4102, 0.01034994551946286), (2455, 0.010346426415718375), (3970, 0.010339228221503178), (4567, 0.010331833793017739), (3740, 0.010316297178734678), (2540, 0.010303045544474075), (2656, 0.010292062260079834), (2600, 0.010284205486483065), (3087, 0.010283996137830868), (2423, 0.01027293497256466), (3988, 0.010260348439789948), (3794, 0.010239057578989774), (3698, 0.010227816106151527), (2562, 0.010223394275188449), (3844, 0.010214830774909135), (763, 0.010205629444591729), (3249, 0.010195211321833635), (2581, 0.010186307302468344), (4292, 0.010185235586203292), (330, 0.010171317170240635), (1451, 0.010154252975459072), (1723, 0.01014824000903941), (4058, 0.01013916092131893), (4562, 0.010126559628368115), (2515, 0.010120238449861187), (4199, 0.010112509964312065), (3537, 0.01011072050831205), (3399, 0.010099665592159062), (4082, 0.010083813619322327), (3966, 0.010082084093598677), (3452, 0.010080377789608718), (1649, 0.010074789735390019), (2363, 0.010073599163278218), (895, 0.010071507065221925), (3922, 0.01006284017725312), (641, 0.010024970228998205), (3420, 0.010008934090404), (240, 0.010006028948070221), (2317, 0.010002432338059756), (3854, 0.00999679117466083), (122, 0.009958229415836574), (1114, 0.009956960592100184), (2077, 0.009941268862145941), (858, 0.009939293781483444), (3544, 0.009922490693231494), (3284, 0.009900778498433153), (4631, 0.009898886022206298), (3020, 0.009895867495568613), (4720, 0.009893855210276343), (2349, 0.00988333222500816), (831, 0.009883006600163982), (1584, 0.009872440222208057), (1145, 0.009870624131481171), (2407, 0.009867053640137687), (2781, 0.009823659217396119), (3203, 0.009817175156453592), (337, 0.009811627814581217), (1865, 0.009807020187392865), (2727, 0.00980438301865159), (3054, 0.009794841864769746), (285, 0.00979063519314183), (1809, 0.009769784165778197), (981, 0.009732258296346967), (936, 0.009726765042611886), (4752, 0.0097261584538691), (804, 0.009723015322482525), (4190, 0.009721846869434498), (3996, 0.009719210457497827), (4143, 0.00971729532943653), (4204, 0.009702097916211202), (2191, 0.009694906792043002), (2775, 0.00969040583654693), (2870, 0.009676554823565905), (3030, 0.009669972930986367), (4341, 0.009669461278245313), (2883, 0.009659559951533564), (1615, 0.009653157214061677), (732, 0.009650347341815264), (191, 0.009645203972286003), (4711, 0.009620861835063867), (333, 0.009615546024833443), (955, 0.009611239371542308), (904, 0.009595570541501031), (3291, 0.009592365590745002), (3621, 0.009591961907210537), (153, 0.009580619181645406), (3324, 0.009579928597535927), (1792, 0.00957945628470623), (711, 0.009574931655349884), (4285, 0.009565969543580691), (4343, 0.00956188224972624), (2720, 0.009553774241255447), (2635, 0.009551337228974437), (2074, 0.009543480214262929), (2846, 0.009538124298891587), (4031, 0.009528993150578079), (3172, 0.00949165354812661), (3894, 0.009480861064996102), (3721, 0.009469286123256617), (1947, 0.00946283000334558), (4346, 0.009457114338262552), (3637, 0.009453795647253812), (2261, 0.009448668320256749), (3190, 0.009445649992757666), (2884, 0.009409976022412852), (4010, 0.009405712802523026), (3337, 0.009405595077174476), (4454, 0.009404265010892197), (2559, 0.009383509558973088), (2012, 0.00937442582832612), (925, 0.009372883752496848), (2520, 0.009371247708129036), (762, 0.00937013492184741), (2478, 0.009357706131251923), (2942, 0.009354387770782468), (2676, 0.009347259828060839), (1656, 0.009345643069273084), (2510, 0.00934424417174478), (2686, 0.009341529097448138), (2796, 0.009328653299759071), (2305, 0.009323022279288546), (38, 0.009315619944600848), (2486, 0.009306881272310859), (2079, 0.009305451830210337), (3791, 0.009301326597352375), (2801, 0.009273341342737235), (4121, 0.009271274617295419), (3253, 0.009269759853261457), (251, 0.009265523174874094), (2339, 0.009258286211632494), (2357, 0.009254051335756151), (3649, 0.009247454564592661), (4746, 0.009245595399996379), (4317, 0.009243479299858977), (4737, 0.009242657271421841), (1437, 0.009236780883500974), (2643, 0.009231726834637204), (2411, 0.009230272725463942), (3383, 0.009230055544233295), (496, 0.009229285126121714), (2914, 0.009218828961057867), (3820, 0.009215470346091095), (3992, 0.009214293516319296), (1560, 0.009185771199685284), (3752, 0.009183873518624788), (3344, 0.00918077671187997), (3373, 0.009174707476949314), (2541, 0.009173643662573039), (2622, 0.009171593764569977), (3962, 0.009154993095292711), (4105, 0.00914990271182646), (139, 0.009145822118830658), (1311, 0.009144816132982124), (40, 0.009143990737285917), (2672, 0.009136556021593212), (2810, 0.009135763374390581), (2164, 0.009123957280624486), (2799, 0.009123532357781516), (4108, 0.009121186941094395), (3146, 0.009117877591566303), (283, 0.00911437725796179), (2436, 0.009110684916165464), (2479, 0.009102575254970024), (4293, 0.00909610399884978), (1260, 0.009092963548744028), (2381, 0.009088398581417308), (3080, 0.009085944873280663), (2384, 0.009078652278277685), (2209, 0.009075035828490566), (2218, 0.009062290652314555), (4706, 0.009056255755725842), (1371, 0.00905493539171059), (4259, 0.00905446031082079), (1923, 0.009053034877439576), (1836, 0.00905069628772524), (3091, 0.009048371380089484), (3015, 0.009045338870043246), (687, 0.00904381849490696), (3215, 0.00904080556956537), (3062, 0.00903727550854285), (3572, 0.009024863617036272), (1658, 0.009024833953374094), (3735, 0.009020258396639804), (3652, 0.009006975534733546), (3026, 0.009006098067568033), (4003, 0.009004528858885608), (1766, 0.008995250713543358), (3097, 0.008988487699501382), (1486, 0.008977165853907575), (3519, 0.008974527303397288), (3581, 0.008960887812313372), (2544, 0.008954807498942655), (990, 0.008954598484607173), (841, 0.00895063734512897), (1844, 0.0089494613902778), (3837, 0.008947687930004552), (2452, 0.008942804662957165), (2563, 0.00894061988966973), (2464, 0.008940043661568486), (4308, 0.008939298549108117), (956, 0.008930989290090684), (1583, 0.008930553849290349), (2811, 0.008926672612672519), (3628, 0.008913967110825514), (3940, 0.008912773791918077), (253, 0.008912235223510754), (4226, 0.00891156351657463), (3234, 0.008910070282851498), (2575, 0.008909484232735332), (4140, 0.008906489296553376), (3363, 0.008902343582899416), (555, 0.008891585451314105), (1243, 0.008891059680487447), (678, 0.00888652515648483), (3044, 0.008885525656399496), (4522, 0.008883323710706333), (2458, 0.00888329632853638), (1491, 0.008883192586547073), (3181, 0.008882690989660264), (4258, 0.008881656051301545), (350, 0.00887423900585191), (2604, 0.00887105437242811), (2979, 0.008856138668337133), (1369, 0.008847903824251109), (4207, 0.00884656623163584), (4332, 0.008843614132013561), (2082, 0.008843224127244377), (4413, 0.00883860624688419), (2371, 0.008830283180144009), (4306, 0.008824982575905119), (2021, 0.00882349217504196), (4086, 0.008820846798283672), (76, 0.008820615012072073), (4734, 0.008809280817836657), (1246, 0.008806103272736902), (1640, 0.008804177550346551), (3004, 0.008791945411294287), (4118, 0.008790414163204325), (3510, 0.008787836676563318), (771, 0.00878204671489714), (1848, 0.008775036010986345), (1907, 0.0087742975918721), (1390, 0.008769925949821771), (2388, 0.008763515940358662), (2328, 0.008761065138303761), (1637, 0.008743822395172579), (2124, 0.008735906498495009), (2786, 0.008729368714201493), (1537, 0.008727271108142198), (4131, 0.008723167522589096), (1683, 0.008722868792758414), (4173, 0.00872149763097831), (2260, 0.008720033339649791), (3728, 0.0087167302824611), (2940, 0.008712673614225657), (1732, 0.008712272327682876), (4370, 0.008705910116373101), (3461, 0.008688990546635765), (2970, 0.008688640582493858), (3539, 0.008684493223979555), (2966, 0.008677430526099286), (536, 0.008675089235088428), (2415, 0.008661579244063284), (392, 0.008658860511002429), (361, 0.008652974550903983), (4622, 0.008652694024990332), (4557, 0.008646776754703897), (3084, 0.0086455884200386), (1099, 0.00864366794547617), (2208, 0.00863962171760808), (2516, 0.008637047777481104), (3905, 0.008622529360716226), (4052, 0.008615182021730786), (4180, 0.008614159564301815), (1013, 0.00861317887034392), (1822, 0.008604919692357474), (3037, 0.00860438639431944), (3041, 0.00860417182923148), (3422, 0.008598012107927908), (3259, 0.008596743348874445), (2394, 0.008589284456154965), (4323, 0.008586169301784042), (781, 0.008584623543848986), (1389, 0.008583800889002683), (1007, 0.008581524770940839), (3187, 0.008578084168717326), (3984, 0.008572736646877818), (1902, 0.008568095010056011), (1299, 0.008557018940536308), (1689, 0.008552349252941505), (2754, 0.008546052512241659), (2675, 0.008545182801313979), (1193, 0.00854175387745245), (1142, 0.008539707162485024), (2217, 0.008533655908908469), (2002, 0.008531675521100885), (3415, 0.008531119834476499), (3150, 0.008528692089129477), (3038, 0.008527096040732068), (2380, 0.008526414945767983), (2926, 0.008524982912657084), (1660, 0.008516967054963865), (204, 0.008516110900838295), (4458, 0.008513287954243115), (4448, 0.008512923223668256), (3514, 0.008509912277836769), (2605, 0.00850931209624659), (1224, 0.008509119060594966), (3591, 0.008507654532892501), (3351, 0.008507596668789676), (3378, 0.008506069374726874), (2042, 0.008506036072755638), (3382, 0.00850582571513058), (2561, 0.008504296301100217), (1047, 0.00849294805552425), (1513, 0.008491462687791922), (586, 0.008491225437492802), (1432, 0.008491040875369825), (1024, 0.008490071784876428), (2326, 0.008488563899324172), (884, 0.008480896228474291), (1613, 0.008478854962936344), (2241, 0.00847655164679193), (1727, 0.008475352694945067), (3790, 0.00847244435799366), (2325, 0.008462324772252627), (4008, 0.008459738722419279), (1602, 0.008457480220045218), (3349, 0.008457048950823184), (1949, 0.00845084965366108), (4552, 0.00844929156693611), (4486, 0.008449177184476967), (1542, 0.008439676673324677), (3930, 0.008439098282930414), (1469, 0.008438800627724216), (1765, 0.008430822683668243), (4648, 0.008430269639492675), (3287, 0.008426931930918393), (1847, 0.00841617509807138), (4632, 0.00841541432565432), (2456, 0.008413307367600698), (708, 0.008410186680290744), (1244, 0.00840814341164368), (4594, 0.008407730481618272), (1735, 0.008406389558119362), (2648, 0.008405385906066737), (59, 0.008398450220971354), (1697, 0.008390629664051586), (4388, 0.008382710897737119), (2092, 0.008373805022640792), (1917, 0.008367567909696103), (1885, 0.008363701334203747), (245, 0.008361338600973387), (2307, 0.00836127257810511), (1525, 0.008357762380692966), (869, 0.008357709973553305), (4093, 0.008338389205415953), (42, 0.008337902649991732), (115, 0.008335107257119967), (2200, 0.008330025842671144), (134, 0.008327117277613197), (933, 0.008324957856678679), (1337, 0.008318677396779533), (1108, 0.008317309000346025), (238, 0.008313976512046573), (1688, 0.00831219485515776), (1085, 0.008310109765194263), (3102, 0.008307944699498412), (3359, 0.008307103562435908), (3283, 0.008302928055311166), (528, 0.008300066357228969), (1322, 0.008298014696069183), (1587, 0.00829755255232743), (3812, 0.008296808339890785), (3072, 0.008296376168635837), (219, 0.008293808667984494), (2269, 0.008284575148201934), (2551, 0.008282506455887755), (1361, 0.008280276495961306), (2440, 0.008278410353936661), (2896, 0.008277828710101109), (28, 0.00827630747242328), (1889, 0.008275803607841211), (4049, 0.008272913828902754), (4135, 0.008267142694833076), (4713, 0.008263164703790916), (401, 0.008261685538598372), (3650, 0.008259623402668692), (3386, 0.008259482507265077), (4214, 0.0082567916820827), (1473, 0.008256546578102047), (3332, 0.008249137733324247), (1751, 0.008247323066570916), (1461, 0.008242730494236749), (3676, 0.008237550377406488), (1769, 0.008237420551572353), (3245, 0.008236042740570994), (2396, 0.00822560804412927), (2554, 0.008223318985455955), (182, 0.008216522060100782), (4300, 0.008215238585799943), (3155, 0.008207283180102226), (2994, 0.008204369575391175), (2449, 0.008204313210484074), (3494, 0.008203842129114765), (3165, 0.008198649397714848), (2284, 0.008195503042579483), (1388, 0.008187015771427006), (4184, 0.008184786109536232), (1906, 0.008179175583101557), (1074, 0.008176560254602443), (943, 0.008171062728007978), (264, 0.008162741078909507), (2081, 0.008160144250038179), (2709, 0.008155066345695182), (1304, 0.008154230327054058), (2495, 0.00815080114311786), (3033, 0.008146902144739857), (4195, 0.008146568299267978), (1184, 0.008143352046544454), (3343, 0.008143276863613704), (1644, 0.008142306847831616), (479, 0.008141896434822353), (2046, 0.008141360101635218), (4291, 0.008140094248577198), (4741, 0.008134051174199207), (965, 0.008133696086631536), (3805, 0.008127815232503421), (4592, 0.008126279584728929), (4243, 0.008126163298252055), (3106, 0.008125709664437935), (4457, 0.008121475855093598), (4675, 0.008120874128876018), (3296, 0.00811863444982454), (1420, 0.008118340817194328), (1517, 0.008115683739599132), (4445, 0.008115390824576546), (1444, 0.008111332439335523), (525, 0.0081078796138895), (1298, 0.008106361508421693), (2336, 0.008105768354595852), (1909, 0.008101997698788265), (1196, 0.008098312711855793), (2019, 0.008095611009418763), (3545, 0.00809092787078741), (3818, 0.008083833257647449), (1834, 0.008081155013560137), (2280, 0.008074900878371923), (1837, 0.008071515423204223), (1198, 0.008068919186701887), (3888, 0.008065510026848988), (1986, 0.008061643980430725), (4542, 0.008059231812670884), (2569, 0.008054677569424466), (2825, 0.008052727125170663), (2967, 0.008051820224535482), (2435, 0.008049392916925973), (576, 0.008046668642957912), (2298, 0.008043893767972255), (535, 0.00804314532972254), (3274, 0.008042661314651959), (2740, 0.00803703560994798), (1849, 0.008024783400197263), (3508, 0.008022086698122132), (3560, 0.008020311732230117), (813, 0.008017097261936983), (2128, 0.00801587561040491), (3090, 0.008015824884255807), (2974, 0.008014160283940122), (215, 0.008008267136344864), (4718, 0.00800560406481096), (1330, 0.008001949590658825), (2639, 0.007997821801567141), (3685, 0.007996957857078012), (4029, 0.007988433285367252), (1858, 0.0079871872480909), (3580, 0.00798638838150618), (459, 0.007985950801228001), (3761, 0.007982409903437425), (1842, 0.007975640483688096), (2616, 0.007970172171952929), (4036, 0.007964770567299766), (3804, 0.007962622310154748), (3248, 0.007960815255672942), (2763, 0.00796076710541333), (2504, 0.00795877060394675), (4112, 0.007956648827373349), (4234, 0.007952069216059116), (3836, 0.007949929698537209), (217, 0.007945168483990026), (3402, 0.007943488250670015), (4395, 0.00793016301390447), (503, 0.007929518943475421), (3765, 0.00791825252846007), (3286, 0.007914148496309012), (2806, 0.007905281811731453), (3127, 0.007895911857236454), (2150, 0.007893791122442553), (840, 0.007892010912857612), (4050, 0.007885171151686562), (857, 0.007882467186652387), (2890, 0.007876564265409038), (1113, 0.007869168936037594), (2653, 0.007866108840724072), (546, 0.007864932149393227), (3896, 0.007860240518258855), (3998, 0.007853223434425833), (3562, 0.007851680876923468), (587, 0.007850348722758091), (4564, 0.00784878237797259), (521, 0.007848289685805181), (1900, 0.007848000887796339), (720, 0.007839903386536633), (1767, 0.007830549364851391), (4303, 0.007827626287050322), (1582, 0.007825800362705514), (1544, 0.007825001000525527), (427, 0.007818797901507657), (1545, 0.007816781832260538), (367, 0.007808968895453684), (4434, 0.007808707924288386), (3595, 0.007799108969362136), (3965, 0.00778505009296955), (1839, 0.0077844577986308765), (2620, 0.007778422109213442), (1929, 0.0077710292647287325), (984, 0.0077537752440474846), (8, 0.007752086820391736), (1327, 0.007751494126478019), (4213, 0.007751212859525901), (2787, 0.007751143175793192), (2706, 0.007749625208183439), (505, 0.007743788130944859), (4206, 0.007743004132134065), (2690, 0.007740645156479183), (1376, 0.0077403201618542), (1738, 0.0077384548287907475), (4272, 0.007733251631831907), (2705, 0.00772899232190884), (1487, 0.0077285815819320945), (4037, 0.007722090979125528), (4246, 0.007718107998375359), (2271, 0.007714402220777572), (263, 0.007713995072945057), (4071, 0.007712777176124988), (3893, 0.0077112801030963405), (422, 0.007701852841487064), (2303, 0.007687979884255801), (2972, 0.007683607806668596), (2812, 0.007682166025404623), (4257, 0.007678966851507293), (1895, 0.007678888153249638), (2348, 0.007678067006016292), (4657, 0.007677040495820309), (2166, 0.007676961901479633), (2475, 0.007676391052524196), (1783, 0.0076698859400969625), (1788, 0.007665232252550022), (2179, 0.007657713770883893), (507, 0.007654050849717875), (1203, 0.007653591269403347), (2215, 0.00765126137171534), (3250, 0.007645078347239413), (886, 0.007642102636664861), (1709, 0.0076417493048924435), (903, 0.007640975919909398), (3904, 0.007634946633138625), (941, 0.007634710283445854), (1721, 0.007627765343804439), (1855, 0.007624453327375496), (1898, 0.0076221401973299826), (2099, 0.007619054532875972), (1324, 0.007614245536863395), (2664, 0.007609935706882504), (1619, 0.007606971225753814), (4603, 0.007603734130494886), (2052, 0.007602087682467358), (659, 0.007593073927504652), (1673, 0.007588725937629333), (690, 0.007584228105215683), (2071, 0.007583423780255309), (2044, 0.007582124299071605), (542, 0.007580677082574789), (2821, 0.007577858505223301), (3543, 0.007577587496564246), (930, 0.007576462117941826), (710, 0.00757278101041477), (4305, 0.0075726998781728005), (417, 0.007571707402743224), (2272, 0.007571536545469495), (2446, 0.0075710972510713865), (3314, 0.00757048439781386), (2874, 0.007565519010981204), (3326, 0.007560189188441525), (2183, 0.007559042675270286), (1152, 0.0075572797464379185), (916, 0.007553176727506785), (4575, 0.007552600861798174), (1685, 0.007552215703593959), (275, 0.007548487989950634), (1642, 0.007544346741132275), (3321, 0.00754223520833277), (2093, 0.007538965491294764), (3406, 0.00753322102886901), (770, 0.007529051470437948), (2497, 0.0075285236867962185), (2274, 0.0075003818964557364), (1079, 0.007496086885051972), (4577, 0.007484563515154314), (920, 0.007483229656715029), (1987, 0.00748254028008984), (1308, 0.007478700008126431), (564, 0.0074782194028427), (4297, 0.007469833208537791), (1982, 0.007466356778885276), (2225, 0.0074662287428934795), (1524, 0.007465604165672163), (4600, 0.007459791453286192), (1794, 0.007458901397597069), (4136, 0.007435995851216872), (2911, 0.007428961049025668), (1729, 0.0074243788935704725), (759, 0.0074217190198765555), (2728, 0.007419734024433036), (2650, 0.007416286457053788), (3885, 0.007415460081502931), (2033, 0.007414699320483749), (4625, 0.00741157938545605), (3197, 0.007408147149108374), (1528, 0.007403881227673541), (2265, 0.00740011751303593), (3267, 0.007396484041651758), (4447, 0.007395468788668697), (2424, 0.007388561984020112), (1173, 0.007376833762346429), (606, 0.007370965652398707), (632, 0.007367256397975645), (2863, 0.0073599255422043906), (1310, 0.007357161953609036), (2426, 0.007347297313926144), (898, 0.007343216003923128), (1946, 0.00733503659598043), (2230, 0.0073307199262991835), (2005, 0.007329756278093637), (2894, 0.0073251097592718), (3108, 0.0073161765321767625), (4304, 0.007316056289562852), (3397, 0.007315498427078919), (2976, 0.007302175859428049), (3633, 0.0073005556299124575), (2386, 0.007297864880689143), (594, 0.007285969647075003), (1750, 0.007284948103490606), (3070, 0.007281558833955478), (2489, 0.007274418008185955), (2389, 0.007271141734026173), (1318, 0.00726985956717812), (383, 0.007264934417511563), (4237, 0.007257130940781248), (3485, 0.007243555678710314), (1694, 0.0072374339131578815), (1601, 0.007235520488903042), (2366, 0.007229040217959241), (1468, 0.0072254101894033305), (2652, 0.00721636307991042), (3755, 0.007204263698334081), (2360, 0.0072041127790002735), (712, 0.007201815586885706), (897, 0.007192382544680261), (836, 0.007186188254261304), (4596, 0.007184517153191145), (1346, 0.007178875448705062), (4066, 0.0071585947212417815), (2344, 0.007152933161098774), (1566, 0.0071438274960558285), (851, 0.007141028595721582), (1684, 0.007140371654047422), (2433, 0.007138358158158084), (272, 0.007135962238376645), (3803, 0.007131988729366443), (2212, 0.00712262177345635), (2943, 0.007112441601326378), (3594, 0.007109896056454411), (2059, 0.007109235195583405), (1943, 0.007095128606698088), (4035, 0.007092733982039383), (2971, 0.00709271813766405), (4060, 0.007091823176659915), (2721, 0.0070829775478225025), (4353, 0.007079009530268619), (2539, 0.007076290540917557), (3684, 0.007074371408552136), (1379, 0.007065369275858518), (1159, 0.007064202072814219), (2660, 0.007058884761798495), (1397, 0.007049148954496602), (2270, 0.007043060383025344), (1698, 0.007041035250213597), (1521, 0.007040190291312925), (2822, 0.0070349754620761765), (357, 0.007034254353866731), (1850, 0.007030919105683448), (1370, 0.007028621418691815), (2688, 0.006993441409326084), (2098, 0.006972703842773202), (1088, 0.0069682442533139715), (1070, 0.006967097884311592), (4309, 0.006966993309310206), (2146, 0.006966243109590129), (1541, 0.006965095947894957), (1350, 0.006953128596893291), (1781, 0.006935838279190908), (959, 0.006933260906444857), (3075, 0.006932552267590877), (2758, 0.006923017735169209), (4381, 0.0069201051453002295), (3855, 0.00691666806524964), (4229, 0.006900543903911763), (3298, 0.006895226378620991), (1300, 0.006892711576409122), (2076, 0.006874986439584772), (4636, 0.006874172189476995), (3481, 0.006860440173682525), (707, 0.006856257486512868), (1020, 0.006848210422045498), (2296, 0.006847545256986383), (1034, 0.006835838642824018), (3559, 0.006832456999131498), (1027, 0.006825678226516975), (4536, 0.0068196867599308415), (2886, 0.006810142371363808), (1981, 0.006807422294590298), (2373, 0.006798079095894851), (964, 0.0067954824237395585), (3170, 0.00679075284627304), (1078, 0.0067884471173753356), (221, 0.006786790092400794), (644, 0.006780885792579642), (2892, 0.006775781273202395), (1944, 0.006770246157382267), (2508, 0.006747288516042183), (2770, 0.006740774193880133), (4200, 0.006739587924220887), (1752, 0.006739551643727859), (1571, 0.006739378006582329), (388, 0.0067385014589379936), (2665, 0.006712116153537298), (2004, 0.0067088931114207585), (4011, 0.006703754023373189), (1156, 0.006691722364597534), (2913, 0.00668607530805693), (655, 0.006665756116408127), (1326, 0.00665435497105116), (1819, 0.0066501326495701065), (2018, 0.0066488564927107505), (2907, 0.006620128334250612), (506, 0.006605823492087687), (638, 0.006578908152588737), (3971, 0.0065737356744935554), (2453, 0.006560536301743316), (1875, 0.006554904860315998), (2364, 0.006553983791805079), (1115, 0.006549909966560797), (2925, 0.006544824740310909), (4322, 0.006535701497889459), (1628, 0.006531323561973908), (2301, 0.006529545117393644), (1782, 0.0065285824489136335), (1268, 0.006525848283584821), (3538, 0.006499752889906483), (1236, 0.0064915960536754995), (2011, 0.006490686021289925), (2377, 0.006470825561569918), (608, 0.006470483811396783), (2931, 0.006456990293059656), (2338, 0.0064491426825217515), (4712, 0.006430271645490895), (3327, 0.006402624670124268), (1320, 0.006398958089871819), (2607, 0.006398199472356945), (3795, 0.006385226839703876), (4141, 0.006364374647605398), (3380, 0.0063364687451444), (421, 0.006304289433731644), (2502, 0.006297875437971653), (837, 0.0062661281701901755), (3574, 0.006260573852113763), (3655, 0.006212092256021476), (2412, 0.006198036789026067), (733, 0.006176074402142253), (2527, 0.006139306639334171), (414, 0.0061213664587439045), (3200, 0.006065013949667091), (796, 0.005926200786702026), (1415, 0.005848302121940523), (1530, 0.0058456971523041775), (1950, 0.005830514968166552), (1624, 0.005808608656067259), (1153, 0.005715350781525605), (1919, 0.0056974206522520795), (1747, 0.005555053886500649), (740, 0.005468373277145796), (224, 0.0054613495893248215), (3546, 0.005325566928195157), (5, 0.0), (9, 0.0), (11, 0.0), (13, 0.0), (17, 0.0), (21, 0.0), (27, 0.0), (30, 0.0), (34, 0.0), (41, 0.0), (46, 0.0), (47, 0.0), (55, 0.0), (56, 0.0), (64, 0.0), (67, 0.0), (68, 0.0), (72, 0.0), (74, 0.0), (77, 0.0), (78, 0.0), (81, 0.0), (84, 0.0), (90, 0.0), (93, 0.0), (95, 0.0), (97, 0.0), (99, 0.0), (101, 0.0), (107, 0.0), (112, 0.0), (117, 0.0), (118, 0.0), (119, 0.0), (120, 0.0), (123, 0.0), (124, 0.0), (126, 0.0), (127, 0.0), (133, 0.0), (145, 0.0), (151, 0.0), (159, 0.0), (162, 0.0), (163, 0.0), (164, 0.0), (165, 0.0), (166, 0.0), (171, 0.0), (180, 0.0), (181, 0.0), (183, 0.0), (189, 0.0), (190, 0.0), (206, 0.0), (210, 0.0), (213, 0.0), (220, 0.0), (222, 0.0), (226, 0.0), (229, 0.0), (230, 0.0), (235, 0.0), (236, 0.0), (241, 0.0), (242, 0.0), (243, 0.0), (244, 0.0), (249, 0.0), (250, 0.0), (252, 0.0), (258, 0.0), (265, 0.0), (267, 0.0), (268, 0.0), (270, 0.0), (277, 0.0), (281, 0.0), (291, 0.0), (295, 0.0), (296, 0.0), (297, 0.0), (299, 0.0), (300, 0.0), (301, 0.0), (303, 0.0), (304, 0.0), (310, 0.0), (313, 0.0), (314, 0.0), (316, 0.0), (321, 0.0), (332, 0.0), (335, 0.0), (340, 0.0), (348, 0.0), (353, 0.0), (354, 0.0), (360, 0.0), (364, 0.0), (372, 0.0), (374, 0.0), (376, 0.0), (378, 0.0), (379, 0.0), (380, 0.0), (382, 0.0), (384, 0.0), (389, 0.0), (390, 0.0), (394, 0.0), (397, 0.0), (402, 0.0), (411, 0.0), (412, 0.0), (419, 0.0), (423, 0.0), (424, 0.0), (425, 0.0), (426, 0.0), (428, 0.0), (429, 0.0), (437, 0.0), (442, 0.0), (443, 0.0), (445, 0.0), (446, 0.0), (447, 0.0), (450, 0.0), (451, 0.0), (452, 0.0), (453, 0.0), (458, 0.0), (460, 0.0), (468, 0.0), (470, 0.0), (476, 0.0), (478, 0.0), (480, 0.0), (481, 0.0), (482, 0.0), (485, 0.0), (487, 0.0), (492, 0.0), (495, 0.0), (499, 0.0), (501, 0.0), (502, 0.0), (509, 0.0), (512, 0.0), (513, 0.0), (514, 0.0), (516, 0.0), (517, 0.0), (526, 0.0), (533, 0.0), (540, 0.0), (541, 0.0), (543, 0.0), (552, 0.0), (553, 0.0), (554, 0.0), (556, 0.0), (558, 0.0), (559, 0.0), (560, 0.0), (565, 0.0), (569, 0.0), (570, 0.0), (571, 0.0), (572, 0.0), (574, 0.0), (575, 0.0), (578, 0.0), (580, 0.0), (581, 0.0), (590, 0.0), (592, 0.0), (593, 0.0), (595, 0.0), (596, 0.0), (598, 0.0), (599, 0.0), (617, 0.0), (624, 0.0), (625, 0.0), (627, 0.0), (631, 0.0), (634, 0.0), (640, 0.0), (650, 0.0), (654, 0.0), (666, 0.0), (673, 0.0), (674, 0.0), (675, 0.0), (681, 0.0), (682, 0.0), (685, 0.0), (686, 0.0), (688, 0.0), (696, 0.0), (701, 0.0), (704, 0.0), (716, 0.0), (718, 0.0), (719, 0.0), (721, 0.0), (722, 0.0), (723, 0.0), (727, 0.0), (728, 0.0), (729, 0.0), (738, 0.0), (739, 0.0), (743, 0.0), (746, 0.0), (747, 0.0), (750, 0.0), (761, 0.0), (765, 0.0), (766, 0.0), (777, 0.0), (779, 0.0), (789, 0.0), (791, 0.0), (798, 0.0), (800, 0.0), (803, 0.0), (805, 0.0), (809, 0.0), (816, 0.0), (817, 0.0), (818, 0.0), (823, 0.0), (826, 0.0), (827, 0.0), (845, 0.0), (848, 0.0), (850, 0.0), (854, 0.0), (860, 0.0), (861, 0.0), (863, 0.0), (864, 0.0), (875, 0.0), (876, 0.0), (877, 0.0), (888, 0.0), (901, 0.0), (902, 0.0), (911, 0.0), (913, 0.0), (914, 0.0), (917, 0.0), (919, 0.0), (927, 0.0), (942, 0.0), (947, 0.0), (952, 0.0), (953, 0.0), (954, 0.0), (967, 0.0), (974, 0.0), (979, 0.0), (986, 0.0), (987, 0.0), (992, 0.0), (1012, 0.0), (1014, 0.0), (1015, 0.0), (1018, 0.0), (1019, 0.0), (1030, 0.0), (1031, 0.0), (1036, 0.0), (1037, 0.0), (1039, 0.0), (1048, 0.0), (1050, 0.0), (1051, 0.0), (1056, 0.0), (1057, 0.0), (1058, 0.0), (1064, 0.0), (1066, 0.0), (1069, 0.0), (1071, 0.0), (1082, 0.0), (1083, 0.0), (1095, 0.0), (1097, 0.0), (1098, 0.0), (1101, 0.0), (1110, 0.0), (1119, 0.0), (1120, 0.0), (1121, 0.0), (1123, 0.0), (1128, 0.0), (1136, 0.0), (1138, 0.0), (1140, 0.0), (1141, 0.0), (1143, 0.0), (1144, 0.0), (1146, 0.0), (1147, 0.0), (1148, 0.0), (1150, 0.0), (1151, 0.0), (1154, 0.0), (1160, 0.0), (1161, 0.0), (1162, 0.0), (1163, 0.0), (1164, 0.0), (1167, 0.0), (1168, 0.0), (1171, 0.0), (1174, 0.0), (1181, 0.0), (1185, 0.0), (1186, 0.0), (1191, 0.0), (1192, 0.0), (1210, 0.0), (1218, 0.0), (1223, 0.0), (1225, 0.0), (1230, 0.0), (1239, 0.0), (1240, 0.0), (1241, 0.0), (1250, 0.0), (1252, 0.0), (1257, 0.0), (1258, 0.0), (1262, 0.0), (1264, 0.0), (1265, 0.0), (1266, 0.0), (1271, 0.0), (1272, 0.0), (1280, 0.0), (1283, 0.0), (1285, 0.0), (1287, 0.0), (1290, 0.0), (1303, 0.0), (1307, 0.0), (1315, 0.0), (1325, 0.0), (1335, 0.0), (1338, 0.0), (1339, 0.0), (1342, 0.0), (1343, 0.0), (1347, 0.0), (1349, 0.0), (1354, 0.0), (1355, 0.0), (1357, 0.0), (1360, 0.0), (1377, 0.0), (1380, 0.0), (1381, 0.0), (1386, 0.0), (1391, 0.0), (1395, 0.0), (1396, 0.0), (1399, 0.0), (1400, 0.0), (1407, 0.0), (1413, 0.0), (1418, 0.0), (1426, 0.0), (1429, 0.0), (1436, 0.0), (1448, 0.0), (1449, 0.0), (1450, 0.0), (1452, 0.0), (1454, 0.0), (1455, 0.0), (1459, 0.0), (1460, 0.0), (1462, 0.0), (1466, 0.0), (1470, 0.0), (1474, 0.0), (1480, 0.0), (1483, 0.0), (1484, 0.0), (1497, 0.0), (1499, 0.0), (1502, 0.0), (1504, 0.0), (1510, 0.0), (1522, 0.0), (1531, 0.0), (1535, 0.0), (1540, 0.0), (1546, 0.0), (1547, 0.0), (1551, 0.0), (1554, 0.0), (1556, 0.0), (1568, 0.0), (1570, 0.0), (1575, 0.0), (1581, 0.0), (1590, 0.0), (1591, 0.0), (1593, 0.0), (1595, 0.0), (1608, 0.0), (1620, 0.0), (1622, 0.0), (1623, 0.0), (1631, 0.0), (1635, 0.0), (1636, 0.0), (1641, 0.0), (1643, 0.0), (1645, 0.0), (1650, 0.0), (1651, 0.0), (1653, 0.0), (1657, 0.0), (1659, 0.0), (1661, 0.0), (1664, 0.0), (1665, 0.0), (1671, 0.0), (1674, 0.0), (1681, 0.0), (1687, 0.0), (1691, 0.0), (1699, 0.0), (1704, 0.0), (1708, 0.0), (1711, 0.0), (1713, 0.0), (1716, 0.0), (1717, 0.0), (1720, 0.0), (1730, 0.0), (1736, 0.0), (1739, 0.0), (1740, 0.0), (1742, 0.0), (1745, 0.0), (1748, 0.0), (1753, 0.0), (1755, 0.0), (1756, 0.0), (1761, 0.0), (1770, 0.0), (1772, 0.0), (1773, 0.0), (1775, 0.0), (1780, 0.0), (1795, 0.0), (1796, 0.0), (1800, 0.0), (1805, 0.0), (1810, 0.0), (1812, 0.0), (1815, 0.0), (1817, 0.0), (1823, 0.0), (1825, 0.0), (1826, 0.0), (1829, 0.0), (1838, 0.0), (1840, 0.0), (1841, 0.0), (1843, 0.0), (1846, 0.0), (1853, 0.0), (1854, 0.0), (1857, 0.0), (1862, 0.0), (1863, 0.0), (1872, 0.0), (1874, 0.0), (1882, 0.0), (1884, 0.0), (1886, 0.0), (1887, 0.0), (1891, 0.0), (1892, 0.0), (1894, 0.0), (1896, 0.0), (1901, 0.0), (1904, 0.0), (1908, 0.0), (1916, 0.0), (1918, 0.0), (1922, 0.0), (1924, 0.0), (1930, 0.0), (1932, 0.0), (1933, 0.0), (1936, 0.0), (1940, 0.0), (1945, 0.0), (1952, 0.0), (1958, 0.0), (1960, 0.0), (1962, 0.0), (1966, 0.0), (1968, 0.0), (1972, 0.0), (1975, 0.0), (1976, 0.0), (1988, 0.0), (1990, 0.0), (1995, 0.0), (1998, 0.0), (2008, 0.0), (2010, 0.0), (2013, 0.0), (2015, 0.0), (2024, 0.0), (2029, 0.0), (2030, 0.0), (2031, 0.0), (2034, 0.0), (2040, 0.0), (2045, 0.0), (2047, 0.0), (2054, 0.0), (2055, 0.0), (2057, 0.0), (2061, 0.0), (2065, 0.0), (2067, 0.0), (2069, 0.0), (2080, 0.0), (2083, 0.0), (2085, 0.0), (2089, 0.0), (2091, 0.0), (2094, 0.0), (2095, 0.0), (2096, 0.0), (2097, 0.0), (2112, 0.0), (2115, 0.0), (2120, 0.0), (2123, 0.0), (2127, 0.0), (2130, 0.0), (2133, 0.0), (2134, 0.0), (2135, 0.0), (2139, 0.0), (2152, 0.0), (2162, 0.0), (2163, 0.0), (2165, 0.0), (2172, 0.0), (2173, 0.0), (2178, 0.0), (2180, 0.0), (2181, 0.0), (2184, 0.0), (2188, 0.0), (2198, 0.0), (2205, 0.0), (2213, 0.0), (2216, 0.0), (2231, 0.0), (2232, 0.0), (2233, 0.0), (2238, 0.0), (2239, 0.0), (2243, 0.0), (2244, 0.0), (2248, 0.0), (2251, 0.0), (2252, 0.0), (2255, 0.0), (2257, 0.0), (2267, 0.0), (2273, 0.0), (2275, 0.0), (2277, 0.0), (2278, 0.0), (2283, 0.0), (2285, 0.0), (2288, 0.0), (2289, 0.0), (2291, 0.0), (2293, 0.0), (2295, 0.0), (2300, 0.0), (2310, 0.0), (2314, 0.0), (2318, 0.0), (2323, 0.0), (2324, 0.0), (2330, 0.0), (2332, 0.0), (2334, 0.0), (2341, 0.0), (2343, 0.0), (2345, 0.0), (2346, 0.0), (2350, 0.0), (2355, 0.0), (2356, 0.0), (2358, 0.0), (2361, 0.0), (2365, 0.0), (2369, 0.0), (2374, 0.0), (2376, 0.0), (2382, 0.0), (2383, 0.0), (2392, 0.0), (2400, 0.0), (2401, 0.0), (2406, 0.0), (2413, 0.0), (2414, 0.0), (2416, 0.0), (2417, 0.0), (2418, 0.0), (2425, 0.0), (2427, 0.0), (2428, 0.0), (2437, 0.0), (2438, 0.0), (2451, 0.0), (2454, 0.0), (2462, 0.0), (2463, 0.0), (2469, 0.0), (2470, 0.0), (2471, 0.0), (2473, 0.0), (2474, 0.0), (2476, 0.0), (2477, 0.0), (2484, 0.0), (2485, 0.0), (2496, 0.0), (2498, 0.0), (2503, 0.0), (2505, 0.0), (2506, 0.0), (2513, 0.0), (2521, 0.0), (2522, 0.0), (2530, 0.0), (2532, 0.0), (2545, 0.0), (2547, 0.0), (2549, 0.0), (2555, 0.0), (2556, 0.0), (2557, 0.0), (2558, 0.0), (2571, 0.0), (2572, 0.0), (2574, 0.0), (2576, 0.0), (2577, 0.0), (2578, 0.0), (2585, 0.0), (2593, 0.0), (2596, 0.0), (2613, 0.0), (2618, 0.0), (2621, 0.0), (2623, 0.0), (2624, 0.0), (2628, 0.0), (2638, 0.0), (2641, 0.0), (2645, 0.0), (2651, 0.0), (2658, 0.0), (2670, 0.0), (2673, 0.0), (2674, 0.0), (2679, 0.0), (2680, 0.0), (2683, 0.0), (2691, 0.0), (2692, 0.0), (2694, 0.0), (2695, 0.0), (2697, 0.0), (2700, 0.0), (2704, 0.0), (2707, 0.0), (2708, 0.0), (2710, 0.0), (2711, 0.0), (2713, 0.0), (2717, 0.0), (2718, 0.0), (2719, 0.0), (2723, 0.0), (2724, 0.0), (2733, 0.0), (2735, 0.0), (2736, 0.0), (2739, 0.0), (2743, 0.0), (2757, 0.0), (2767, 0.0), (2768, 0.0), (2778, 0.0), (2783, 0.0), (2784, 0.0), (2785, 0.0), (2790, 0.0), (2791, 0.0), (2795, 0.0), (2800, 0.0), (2803, 0.0), (2808, 0.0), (2819, 0.0), (2827, 0.0), (2828, 0.0), (2835, 0.0), (2837, 0.0), (2839, 0.0), (2840, 0.0), (2841, 0.0), (2842, 0.0), (2849, 0.0), (2851, 0.0), (2860, 0.0), (2861, 0.0), (2867, 0.0), (2868, 0.0), (2869, 0.0), (2871, 0.0), (2879, 0.0), (2885, 0.0), (2887, 0.0), (2888, 0.0), (2889, 0.0), (2895, 0.0), (2898, 0.0), (2899, 0.0), (2900, 0.0), (2901, 0.0), (2902, 0.0), (2905, 0.0), (2906, 0.0), (2910, 0.0), (2916, 0.0), (2921, 0.0), (2923, 0.0), (2932, 0.0), (2934, 0.0), (2937, 0.0), (2938, 0.0), (2944, 0.0), (2946, 0.0), (2947, 0.0), (2949, 0.0), (2950, 0.0), (2952, 0.0), (2953, 0.0), (2956, 0.0), (2959, 0.0), (2960, 0.0), (2961, 0.0), (2963, 0.0), (2965, 0.0), (2969, 0.0), (2977, 0.0), (2984, 0.0), (2985, 0.0), (2987, 0.0), (2989, 0.0), (2993, 0.0), (2997, 0.0), (3001, 0.0), (3002, 0.0), (3005, 0.0), (3008, 0.0), (3012, 0.0), (3019, 0.0), (3021, 0.0), (3025, 0.0), (3029, 0.0), (3031, 0.0), (3032, 0.0), (3036, 0.0), (3047, 0.0), (3049, 0.0), (3051, 0.0), (3052, 0.0), (3053, 0.0), (3055, 0.0), (3059, 0.0), (3064, 0.0), (3065, 0.0), (3068, 0.0), (3079, 0.0), (3086, 0.0), (3093, 0.0), (3095, 0.0), (3099, 0.0), (3101, 0.0), (3105, 0.0), (3107, 0.0), (3110, 0.0), (3112, 0.0), (3114, 0.0), (3118, 0.0), (3119, 0.0), (3125, 0.0), (3126, 0.0), (3128, 0.0), (3131, 0.0), (3132, 0.0), (3134, 0.0), (3135, 0.0), (3138, 0.0), (3143, 0.0), (3144, 0.0), (3145, 0.0), (3153, 0.0), (3157, 0.0), (3158, 0.0), (3159, 0.0), (3160, 0.0), (3163, 0.0), (3167, 0.0), (3171, 0.0), (3174, 0.0), (3176, 0.0), (3179, 0.0), (3185, 0.0), (3191, 0.0), (3199, 0.0), (3208, 0.0), (3210, 0.0), (3216, 0.0), (3219, 0.0), (3226, 0.0), (3227, 0.0), (3228, 0.0), (3243, 0.0), (3255, 0.0), (3262, 0.0), (3264, 0.0), (3269, 0.0), (3281, 0.0), (3285, 0.0), (3292, 0.0), (3305, 0.0), (3307, 0.0), (3312, 0.0), (3313, 0.0), (3316, 0.0), (3322, 0.0), (3328, 0.0), (3331, 0.0), (3334, 0.0), (3339, 0.0), (3340, 0.0), (3345, 0.0), (3353, 0.0), (3354, 0.0), (3355, 0.0), (3356, 0.0), (3358, 0.0), (3362, 0.0), (3368, 0.0), (3372, 0.0), (3374, 0.0), (3379, 0.0), (3384, 0.0), (3392, 0.0), (3394, 0.0), (3396, 0.0), (3398, 0.0), (3405, 0.0), (3409, 0.0), (3414, 0.0), (3423, 0.0), (3426, 0.0), (3427, 0.0), (3429, 0.0), (3431, 0.0), (3432, 0.0), (3435, 0.0), (3440, 0.0), (3441, 0.0), (3446, 0.0), (3450, 0.0), (3453, 0.0), (3454, 0.0), (3460, 0.0), (3465, 0.0), (3468, 0.0), (3469, 0.0), (3470, 0.0), (3471, 0.0), (3473, 0.0), (3476, 0.0), (3478, 0.0), (3480, 0.0), (3482, 0.0), (3486, 0.0), (3488, 0.0), (3497, 0.0), (3499, 0.0), (3502, 0.0), (3504, 0.0), (3505, 0.0), (3507, 0.0), (3521, 0.0), (3525, 0.0), (3527, 0.0), (3528, 0.0), (3530, 0.0), (3532, 0.0), (3535, 0.0), (3542, 0.0), (3547, 0.0), (3550, 0.0), (3553, 0.0), (3555, 0.0), (3561, 0.0), (3564, 0.0), (3566, 0.0), (3567, 0.0), (3568, 0.0), (3569, 0.0), (3573, 0.0), (3576, 0.0), (3583, 0.0), (3587, 0.0), (3590, 0.0), (3596, 0.0), (3604, 0.0), (3605, 0.0), (3608, 0.0), (3609, 0.0), (3611, 0.0), (3613, 0.0), (3618, 0.0), (3620, 0.0), (3623, 0.0), (3624, 0.0), (3625, 0.0), (3627, 0.0), (3631, 0.0), (3634, 0.0), (3635, 0.0), (3636, 0.0), (3639, 0.0), (3661, 0.0), (3663, 0.0), (3664, 0.0), (3666, 0.0), (3670, 0.0), (3672, 0.0), (3675, 0.0), (3679, 0.0), (3680, 0.0), (3682, 0.0), (3687, 0.0), (3689, 0.0), (3692, 0.0), (3693, 0.0), (3699, 0.0), (3700, 0.0), (3701, 0.0), (3702, 0.0), (3704, 0.0), (3708, 0.0), (3710, 0.0), (3713, 0.0), (3714, 0.0), (3717, 0.0), (3719, 0.0), (3720, 0.0), (3723, 0.0), (3724, 0.0), (3725, 0.0), (3726, 0.0), (3727, 0.0), (3729, 0.0), (3734, 0.0), (3737, 0.0), (3738, 0.0), (3742, 0.0), (3744, 0.0), (3749, 0.0), (3751, 0.0), (3760, 0.0), (3762, 0.0), (3766, 0.0), (3770, 0.0), (3771, 0.0), (3775, 0.0), (3777, 0.0), (3779, 0.0), (3783, 0.0), (3786, 0.0), (3788, 0.0), (3793, 0.0), (3799, 0.0), (3806, 0.0), (3810, 0.0), (3814, 0.0), (3815, 0.0), (3816, 0.0), (3819, 0.0), (3823, 0.0), (3825, 0.0), (3827, 0.0), (3830, 0.0), (3833, 0.0), (3838, 0.0), (3841, 0.0), (3843, 0.0), (3847, 0.0), (3848, 0.0), (3853, 0.0), (3869, 0.0), (3872, 0.0), (3873, 0.0), (3874, 0.0), (3877, 0.0), (3880, 0.0), (3883, 0.0), (3884, 0.0), (3887, 0.0), (3900, 0.0), (3901, 0.0), (3902, 0.0), (3903, 0.0), (3907, 0.0), (3908, 0.0), (3910, 0.0), (3917, 0.0), (3918, 0.0), (3920, 0.0), (3928, 0.0), (3935, 0.0), (3937, 0.0), (3939, 0.0), (3942, 0.0), (3944, 0.0), (3945, 0.0), (3946, 0.0), (3947, 0.0), (3948, 0.0), (3953, 0.0), (3955, 0.0), (3958, 0.0), (3959, 0.0), (3961, 0.0), (3963, 0.0), (3974, 0.0), (3976, 0.0), (3978, 0.0), (3979, 0.0), (3981, 0.0), (3982, 0.0), (3985, 0.0), (3987, 0.0), (3989, 0.0), (3990, 0.0), (3991, 0.0), (3994, 0.0), (4000, 0.0), (4005, 0.0), (4006, 0.0), (4013, 0.0), (4014, 0.0), (4016, 0.0), (4017, 0.0), (4019, 0.0), (4021, 0.0), (4028, 0.0), (4030, 0.0), (4032, 0.0), (4038, 0.0), (4039, 0.0), (4041, 0.0), (4043, 0.0), (4044, 0.0), (4045, 0.0), (4048, 0.0), (4055, 0.0), (4059, 0.0), (4062, 0.0), (4065, 0.0), (4069, 0.0), (4070, 0.0), (4072, 0.0), (4083, 0.0), (4087, 0.0), (4088, 0.0), (4091, 0.0), (4092, 0.0), (4100, 0.0), (4103, 0.0), (4107, 0.0), (4114, 0.0), (4116, 0.0), (4120, 0.0), (4124, 0.0), (4126, 0.0), (4129, 0.0), (4130, 0.0), (4133, 0.0), (4134, 0.0), (4150, 0.0), (4159, 0.0), (4160, 0.0), (4161, 0.0), (4162, 0.0), (4163, 0.0), (4167, 0.0), (4168, 0.0), (4170, 0.0), (4172, 0.0), (4176, 0.0), (4179, 0.0), (4185, 0.0), (4187, 0.0), (4188, 0.0), (4189, 0.0), (4193, 0.0), (4196, 0.0), (4201, 0.0), (4202, 0.0), (4205, 0.0), (4208, 0.0), (4209, 0.0), (4211, 0.0), (4215, 0.0), (4216, 0.0), (4219, 0.0), (4221, 0.0), (4228, 0.0), (4230, 0.0), (4231, 0.0), (4235, 0.0), (4238, 0.0), (4244, 0.0), (4248, 0.0), (4249, 0.0), (4250, 0.0), (4251, 0.0), (4253, 0.0), (4255, 0.0), (4261, 0.0), (4262, 0.0), (4264, 0.0), (4266, 0.0), (4267, 0.0), (4269, 0.0), (4271, 0.0), (4273, 0.0), (4274, 0.0), (4275, 0.0), (4276, 0.0), (4277, 0.0), (4281, 0.0), (4284, 0.0), (4286, 0.0), (4288, 0.0), (4290, 0.0), (4294, 0.0), (4296, 0.0), (4299, 0.0), (4301, 0.0), (4302, 0.0), (4312, 0.0), (4316, 0.0), (4318, 0.0), (4326, 0.0), (4328, 0.0), (4330, 0.0), (4331, 0.0), (4336, 0.0), (4339, 0.0), (4344, 0.0), (4345, 0.0), (4348, 0.0), (4349, 0.0), (4352, 0.0), (4359, 0.0), (4361, 0.0), (4363, 0.0), (4368, 0.0), (4372, 0.0), (4373, 0.0), (4377, 0.0), (4379, 0.0), (4385, 0.0), (4386, 0.0), (4387, 0.0), (4389, 0.0), (4390, 0.0), (4391, 0.0), (4392, 0.0), (4393, 0.0), (4397, 0.0), (4399, 0.0), (4400, 0.0), (4402, 0.0), (4407, 0.0), (4412, 0.0), (4415, 0.0), (4416, 0.0), (4417, 0.0), (4419, 0.0), (4423, 0.0), (4424, 0.0), (4425, 0.0), (4429, 0.0), (4430, 0.0), (4432, 0.0), (4436, 0.0), (4439, 0.0), (4449, 0.0), (4455, 0.0), (4456, 0.0), (4461, 0.0), (4469, 0.0), (4476, 0.0), (4481, 0.0), (4482, 0.0), (4485, 0.0), (4490, 0.0), (4491, 0.0), (4494, 0.0), (4497, 0.0), (4500, 0.0), (4505, 0.0), (4509, 0.0), (4512, 0.0), (4513, 0.0), (4515, 0.0), (4516, 0.0), (4517, 0.0), (4520, 0.0), (4526, 0.0), (4527, 0.0), (4528, 0.0), (4532, 0.0), (4535, 0.0), (4538, 0.0), (4540, 0.0), (4541, 0.0), (4543, 0.0), (4544, 0.0), (4546, 0.0), (4547, 0.0), (4549, 0.0), (4554, 0.0), (4559, 0.0), (4561, 0.0), (4565, 0.0), (4568, 0.0), (4569, 0.0), (4572, 0.0), (4573, 0.0), (4578, 0.0), (4579, 0.0), (4581, 0.0), (4583, 0.0), (4584, 0.0), (4586, 0.0), (4589, 0.0), (4590, 0.0), (4593, 0.0), (4595, 0.0), (4597, 0.0), (4598, 0.0), (4604, 0.0), (4612, 0.0), (4613, 0.0), (4614, 0.0), (4617, 0.0), (4619, 0.0), (4620, 0.0), (4626, 0.0), (4630, 0.0), (4635, 0.0), (4641, 0.0), (4642, 0.0), (4644, 0.0), (4645, 0.0), (4646, 0.0), (4651, 0.0), (4653, 0.0), (4654, 0.0), (4656, 0.0), (4659, 0.0), (4660, 0.0), (4662, 0.0), (4663, 0.0), (4668, 0.0), (4670, 0.0), (4671, 0.0), (4672, 0.0), (4673, 0.0), (4676, 0.0), (4679, 0.0), (4680, 0.0), (4681, 0.0), (4682, 0.0), (4686, 0.0), (4687, 0.0), (4689, 0.0), (4691, 0.0), (4693, 0.0), (4694, 0.0), (4696, 0.0), (4697, 0.0), (4698, 0.0), (4699, 0.0), (4704, 0.0), (4705, 0.0), (4707, 0.0), (4708, 0.0), (4710, 0.0), (4714, 0.0), (4715, 0.0), (4716, 0.0), (4723, 0.0), (4724, 0.0), (4729, 0.0), (4730, 0.0), (4739, 0.0), (4740, 0.0), (4742, 0.0), (4745, 0.0), (4748, 0.0), (4749, 0.0), (4750, 0.0), (4751, 0.0), (4753, 0.0), (4755, 0.0), (4757, 0.0), (4758, 0.0), (4759, 0.0)]\n"
          ]
        }
      ]
    },
    {
      "cell_type": "code",
      "source": [
        "# Print the name of similar movies based on the index\n",
        "print('Top 30 Movies Suggested for you')\n",
        "i=1\n",
        "for movie in Sorted_Similar_Movies:\n",
        "  index=movie[0]\n",
        "  title_from_index=df[df.index==index]['Movie_Title'].values[0]\n",
        "  if(i<31):\n",
        "    print(i,'.',title_from_index)\n",
        "    i+=1\n",
        ""
      ],
      "metadata": {
        "colab": {
          "base_uri": "https://localhost:8080/"
        },
        "id": "b-e1NIeooyA6",
        "outputId": "faff6b52-dae3-4692-b546-02988a20b99a"
      },
      "execution_count": 55,
      "outputs": [
        {
          "output_type": "stream",
          "name": "stdout",
          "text": [
            "Top 30 Movies Suggested for you\n",
            "1 . Win a Date with Tad Hamilton!\n",
            "2 . The Ugly Truth\n",
            "3 . Celeste & Jesse Forever\n",
            "4 . The Back-Up Plan\n",
            "5 . Monster-in-Law\n",
            "6 . Wonderland\n",
            "7 . Love Actually\n",
            "8 . The Calling\n",
            "9 . Spider-Man 3\n",
            "10 . Kicking & Screaming\n",
            "11 . Tropic Thunder\n",
            "12 . Nicholas Nickleby\n",
            "13 . Never Again\n",
            "14 . The Big Wedding\n",
            "15 . In Good Company\n",
            "16 . Take Me Home Tonight\n",
            "17 . National Lampoon’s Van Wilder\n",
            "18 . Soul Men\n",
            "19 . Another Happy Day\n",
            "20 . The Object of My Affection\n",
            "21 . Troy\n",
            "22 . The Broken Hearts Club: A Romantic Comedy\n",
            "23 . Stuart Little\n",
            "24 . Love & Other Drugs\n",
            "25 . Ace Ventura: Pet Detective\n",
            "26 . She's the One\n",
            "27 . Tiny Furniture\n",
            "28 . Hitch\n",
            "29 . Music and Lyrics\n",
            "30 . Accidental Love\n"
          ]
        }
      ]
    },
    {
      "cell_type": "markdown",
      "source": [
        "## **Top 10 Movie Recommendation System**"
      ],
      "metadata": {
        "id": "8AzwG7oLjiQI"
      }
    },
    {
      "cell_type": "code",
      "source": [
        "Movie_Name=input('Enter your favourite movie name : ')\n",
        "list_of_all_titles=df['Movie_Title'].tolist()\n",
        "Find_Close_Match=difflib.get_close_matches(Movie_Name,list_of_all_titles)\n",
        "Close_Match=Find_Close_Match[0]\n",
        "Index_of_Movie=df[df.Movie_Title==Close_Match]['Movie_ID'].values[0]\n",
        "Recommendation_Score=list(enumerate(Similarity_Score[Index_of_Movie]))\n",
        "sorted_similar_movies=sorted(Recommendation_Score,key=lambda x:x[1],reverse=True)\n",
        "print('Top 10 Movies suggested for you : \\n')\n",
        "i=1\n",
        "for movie in sorted_similar_movies:\n",
        "  index=movie[0]\n",
        "  title_from_index=df[df.Movie_ID==index]['Movie_Title'].values\n",
        "  if(i<11):\n",
        "    print(i,'.',title_from_index)\n",
        "    i+=1\n"
      ],
      "metadata": {
        "id": "JLebGzDJjknA",
        "colab": {
          "base_uri": "https://localhost:8080/"
        },
        "outputId": "cfbef173-c116-4d14-a79a-c28bc25ac5a8"
      },
      "execution_count": 58,
      "outputs": [
        {
          "output_type": "stream",
          "name": "stdout",
          "text": [
            "Enter your favourite movie name : Star Trek\n",
            "Top 10 Movies suggested for you : \n",
            "\n",
            "1 . ['Star Trek']\n",
            "2 . ['Smoke Signals']\n",
            "3 . ['Bachelorette']\n",
            "4 . ['Defendor']\n",
            "5 . ['The Kingdom']\n",
            "6 . ['Boogie Nights']\n",
            "7 . ['Killing Zoe']\n",
            "8 . ['Z Storm']\n",
            "9 . ['Spider-Man 2']\n",
            "10 . ['Stormbreaker']\n"
          ]
        }
      ]
    }
  ]
}